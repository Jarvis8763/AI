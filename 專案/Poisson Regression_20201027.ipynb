{
 "cells": [
  {
   "cell_type": "markdown",
   "metadata": {
    "heading_collapsed": true
   },
   "source": [
    "# An Illustrated Guide to the Poisson Regression Model"
   ]
  },
  {
   "cell_type": "markdown",
   "metadata": {
    "hidden": true
   },
   "source": [
    "https://towardsdatascience.com/an-illustrated-guide-to-the-poisson-regression-model-50cccba15958\n",
    "\n",
    "Poisson Regression & Negative Binomial regression\n",
    "\n",
    "https://dius.com.au/2017/08/03/using-statsmodels-glms-to-model-beverage-consumption/\n",
    "\n",
    "PYMC3\n",
    "\n",
    "https://docs.pymc.io/notebooks/GLM-poisson-regression.html32"
   ]
  },
  {
   "cell_type": "code",
   "execution_count": 1,
   "metadata": {
    "hidden": true,
    "scrolled": true
   },
   "outputs": [
    {
     "name": "stdout",
     "output_type": "stream",
     "text": [
      "Training data set length=172\n",
      "Testing data set length=42\n",
      "                 Generalized Linear Model Regression Results                  \n",
      "==============================================================================\n",
      "Dep. Variable:               BB_COUNT   No. Observations:                  172\n",
      "Model:                            GLM   Df Residuals:                      165\n",
      "Model Family:                 Poisson   Df Model:                            6\n",
      "Link Function:                    log   Scale:                          1.0000\n",
      "Method:                          IRLS   Log-Likelihood:                -12350.\n",
      "Date:                Mon, 15 Jun 2020   Deviance:                       23043.\n",
      "Time:                        17:20:23   Pearson chi2:                 2.37e+04\n",
      "No. Iterations:                     6                                         \n",
      "Covariance Type:            nonrobust                                         \n",
      "===============================================================================\n",
      "                  coef    std err          z      P>|z|      [0.025      0.975]\n",
      "-------------------------------------------------------------------------------\n",
      "Intercept       7.1430      0.013    549.075      0.000       7.118       7.169\n",
      "DAY            -0.0010      0.000     -5.638      0.000      -0.001      -0.001\n",
      "DAY_OF_WEEK    -0.0165      0.001    -22.409      0.000      -0.018      -0.015\n",
      "MONTH           0.0140      0.001     17.981      0.000       0.012       0.016\n",
      "HIGH_T          0.0197      0.000     55.477      0.000       0.019       0.020\n",
      "LOW_T          -0.0110      0.000    -29.457      0.000      -0.012      -0.010\n",
      "PRECIP         -0.9046      0.009   -104.950      0.000      -0.922      -0.888\n",
      "===============================================================================\n",
      "                   mean    mean_se  mean_ci_lower  mean_ci_upper\n",
      "Date                                                            \n",
      "2017-04-01  2024.758833  11.879280    2001.609228    2048.176175\n",
      "2017-04-18  2733.019422  10.628154    2712.267807    2753.929808\n",
      "2017-04-24  2437.747285  10.989288    2416.303548    2459.381326\n",
      "2017-04-27  2469.771181   9.086123    2452.026758    2487.644014\n",
      "2017-04-28  3293.104183  19.186455    3255.713316    3330.924473\n",
      "2017-04-29  2928.869957  14.579691    2900.433235    2957.585480\n",
      "2017-05-08  2518.062934  11.206638    2496.193846    2540.123617\n",
      "2017-05-15  2695.396960   9.395633    2677.044621    2713.875113\n",
      "2017-05-16  3229.626123  12.261928    3205.682383    3253.748702\n",
      "2017-05-17  3668.643513  17.634822    3634.242205    3703.370460\n",
      "2017-05-18  3389.569320  12.745411    3364.680599    3414.642144\n",
      "2017-05-25  1259.685530   7.085166    1245.875123    1273.649024\n",
      "2017-05-26  2571.803454   9.223280    2553.789543    2589.944433\n",
      "2017-06-04  2250.551304   8.966068    2233.046566    2268.193262\n",
      "2017-06-05  2587.798365  10.825815    2566.666908    2609.103799\n",
      "2017-06-06  2133.756737  10.699543    2112.888733    2154.830845\n",
      "2017-06-07  2721.420582   7.504417    2706.751870    2736.168788\n",
      "2017-06-09  3224.745904  10.923557    3203.407041    3246.226911\n",
      "2017-06-11  3243.346674  12.428097    3219.079294    3267.796998\n",
      "2017-06-15  2729.898059   6.558365    2717.074114    2742.782529\n",
      "2017-06-19  1022.875290  12.524483     998.619965    1047.719748\n",
      "2017-06-20  2935.714701   8.866802    2918.387425    2953.144853\n",
      "2017-07-07   580.363010   8.627540     563.697310     597.521432\n",
      "2017-07-19  3402.659346  10.405990    3382.324982    3423.115959\n",
      "2017-07-22  1905.048272  11.353442    1882.925392    1927.431078\n",
      "2017-07-27  2793.226686   7.130409    2779.286245    2807.237050\n",
      "2017-07-28  3025.395146   9.396218    3007.034836    3043.867560\n",
      "2017-08-03  3373.959033  10.301022    3353.829688    3394.209193\n",
      "2017-08-10  3184.622376   6.870538    3171.184798    3198.116894\n",
      "2017-08-14  3123.605459   9.546535    3104.950524    3142.372476\n",
      "2017-08-15  1794.531228   8.009063    1778.902208    1810.297560\n",
      "2017-08-21  3299.211487  10.577644    3278.544687    3320.008563\n",
      "2017-08-22  2569.776364   9.940389    2550.367228    2589.333210\n",
      "2017-09-12  3313.975938   9.754317    3294.912868    3333.149299\n",
      "2017-09-15  3120.318498   7.067337    3106.497473    3134.201014\n",
      "2017-09-26  3229.498402   9.955228    3210.045339    3249.069351\n",
      "2017-09-29  2659.698735   9.392831    2641.352691    2678.172205\n",
      "2017-10-03  3020.697249  11.850658    2997.559456    3044.013640\n",
      "2017-10-07  3112.173029  10.622195    3091.423390    3133.061938\n",
      "2017-10-08  2207.518119  10.819118    2186.414559    2228.825373\n",
      "2017-10-19  2913.442273   9.184828    2895.495842    2931.499937\n",
      "2017-10-22  3067.761159  13.459473    3041.494176    3094.254989\n"
     ]
    },
    {
     "name": "stderr",
     "output_type": "stream",
     "text": [
      "C:\\ProgramData\\Anaconda3\\lib\\site-packages\\pandas\\plotting\\_matplotlib\\converter.py:103: FutureWarning: Using an implicitly registered datetime converter for a matplotlib plotting method. The converter was registered by pandas on import. Future versions of pandas will require you to explicitly register matplotlib converters.\n",
      "\n",
      "To register the converters:\n",
      "\t>>> from pandas.plotting import register_matplotlib_converters\n",
      "\t>>> register_matplotlib_converters()\n",
      "  warnings.warn(msg, FutureWarning)\n"
     ]
    },
    {
     "data": {
      "text/plain": [
       "<Figure size 640x480 with 1 Axes>"
      ]
     },
     "metadata": {},
     "output_type": "display_data"
    },
    {
     "data": {
      "text/plain": [
       "<Figure size 640x480 with 0 Axes>"
      ]
     },
     "metadata": {},
     "output_type": "display_data"
    },
    {
     "data": {
      "text/plain": [
       "<Figure size 640x480 with 1 Axes>"
      ]
     },
     "metadata": {},
     "output_type": "display_data"
    }
   ],
   "source": [
    "import pandas as pd\n",
    "from patsy import dmatrices\n",
    "import numpy as np\n",
    "import statsmodels.api as sm\n",
    "import matplotlib.pyplot as plt\n",
    "\n",
    "\n",
    "#Create a pandas DataFrame for the counts data set.\n",
    "df = pd.read_csv('nyc_bb_bicyclist_counts.csv', header=0, infer_datetime_format=True, parse_dates=[0], index_col=[0])\n",
    "\n",
    "#Add a few derived regression variables.\n",
    "ds = df.index.to_series()\n",
    "df['MONTH'] = ds.dt.month\n",
    "df['DAY_OF_WEEK'] = ds.dt.dayofweek\n",
    "df['DAY'] = ds.dt.day\n",
    "\n",
    "#Create the training and testing data sets.\n",
    "mask = np.random.rand(len(df)) < 0.8\n",
    "df_train = df[mask]\n",
    "df_test = df[~mask]\n",
    "print('Training data set length='+str(len(df_train)))\n",
    "print('Testing data set length='+str(len(df_test)))\n",
    "\n",
    "#Setup the regression expression in patsy notation. We are telling patsy that BB_COUNT is our dependent variable and\n",
    "# it depends on the regression variables: DAY, DAY_OF_WEEK, MONTH, HIGH_T, LOW_T and PRECIP.\n",
    "expr = \"\"\"BB_COUNT ~ DAY  + DAY_OF_WEEK + MONTH + HIGH_T + LOW_T + PRECIP\"\"\"\n",
    "\n",
    "#Set up the X and y matrices\n",
    "y_train, X_train = dmatrices(expr, df_train, return_type='dataframe')\n",
    "y_test, X_test = dmatrices(expr, df_test, return_type='dataframe')\n",
    "\n",
    "#Using the statsmodels GLM class, train the Poisson regression model on the training data set.\n",
    "poisson_training_results = sm.GLM(y_train, X_train, family=sm.families.Poisson()).fit()\n",
    "\n",
    "#Print the training summary.\n",
    "print(poisson_training_results.summary())\n",
    "\n",
    "#Make some predictions on the test data set.\n",
    "poisson_predictions = poisson_training_results.get_prediction(X_test)\n",
    "#.summary_frame() returns a pandas DataFrame\n",
    "predictions_summary_frame = poisson_predictions.summary_frame()\n",
    "print(predictions_summary_frame)\n",
    "\n",
    "predicted_counts=predictions_summary_frame['mean']\n",
    "actual_counts = y_test['BB_COUNT']\n",
    "\n",
    "#Mlot the predicted counts versus the actual counts for the test data.\n",
    "fig = plt.figure()\n",
    "fig.suptitle('Predicted versus actual bicyclist counts on the Brooklyn bridge')\n",
    "predicted, = plt.plot(X_test.index, predicted_counts, 'go-', label='Predicted counts')\n",
    "actual, = plt.plot(X_test.index, actual_counts, 'ro-', label='Actual counts')\n",
    "plt.legend(handles=[predicted, actual])\n",
    "plt.show()\n",
    "\n",
    "#Show scatter plot of Actual versus Predicted counts\n",
    "plt.clf()\n",
    "fig = plt.figure()\n",
    "fig.suptitle('Scatter plot of Actual versus Predicted counts')\n",
    "plt.scatter(x=predicted_counts, y=actual_counts, marker='.')\n",
    "plt.xlabel('Predicted counts')\n",
    "plt.ylabel('Actual counts')\n",
    "plt.show()"
   ]
  },
  {
   "cell_type": "markdown",
   "metadata": {
    "heading_collapsed": true
   },
   "source": [
    "# 108_GHP"
   ]
  },
  {
   "cell_type": "code",
   "execution_count": null,
   "metadata": {
    "hidden": true,
    "scrolled": false
   },
   "outputs": [],
   "source": [
    "import pandas as pd\n",
    "from patsy import dmatrices\n",
    "import numpy as np\n",
    "import statsmodels.api as sm\n",
    "import matplotlib.pyplot as plt\n",
    "\n",
    "#Create a pandas DataFrame for the counts data set.\n",
    "df = pd.read_csv(r'C:\\Users\\6506\\Desktop\\FDA\\N428_後市場\\108年GHP稽查不合格預測\\GHP稽查不合格次數.csv', \n",
    "                 header=0, index_col=[0],encoding='ANSI')\n",
    "df = df.dropna(axis=0)\n",
    "#Create the training and testing data sets.\n",
    "mask = np.random.rand(len(df)) < 0.8\n",
    "df_train = pd.read_csv(r'C:\\Users\\6506\\Desktop\\FDA\\N428_後市場\\108年GHP稽查不合格預測\\GHP稽查不合格次數_train_pred.csv', \n",
    "                       header=0, index_col=[0],encoding='ANSI')\n",
    "df_test = pd.read_csv(r'C:\\Users\\6506\\Desktop\\FDA\\N428_後市場\\108年GHP稽查不合格預測\\GHP稽查不合格次數_test_pred.csv', \n",
    "                      header=0, index_col=[0],encoding='ANSI')\n",
    "df_train = df_train.dropna(axis=0)\n",
    "df_test = df_test.dropna(axis=0)\n",
    "print('Training data set length='+str(len(df_train)))\n",
    "print('Testing data set length='+str(len(df_test)))\n",
    "\n",
    "expr = \"\"\"GHP稽查初查不合格次數~\n",
    "           資本總額元\n",
    "           +C(實際營業地址_城市)\n",
    "           +業別數\n",
    "           +C(製造及加工)\n",
    "           +C(餐飲業)\n",
    "           +C(輸入業)\n",
    "           +C(販售業)\n",
    "           +C(實際營業地址同公司_商業登記地址_01)\n",
    "           +C(市招名稱同公司_01)\n",
    "           +C(是否有導入HACCP自主管理精神_01)\n",
    "           +C(是否有導入ISO22000_01)\n",
    "           +C(是否建立原材料來源及產品流向管理制度_01)\n",
    "           +C(是否為上市上櫃公司_01)\n",
    "           +C(有無設置實驗室_01)\"\"\"\n",
    "\n",
    "#Set up the X and y matrices\n",
    "y_train, X_train = dmatrices(expr, df_train, return_type='dataframe')\n",
    "y_test, X_test = dmatrices(expr, df_test, return_type='dataframe')\n",
    "\n",
    "#Using the statsmodels GLM class, train the Poisson regression model on the training data set.\n",
    "poisson_training_results = sm.GLM(y_train, X_train, family=sm.families.Poisson(),\n",
    "                                  exposure=df_train['GHP稽查初查次數']).fit()\n",
    "\n",
    "#Print the training summary.\n",
    "print(poisson_training_results.summary())\n",
    "\n",
    "#Make some predictions on the test data set.\n",
    "poisson_predictions = poisson_training_results.get_prediction(X_test)\n",
    "#.summary_frame() returns a pandas DataFrame\n",
    "predictions_summary_frame = poisson_predictions.summary_frame()\n",
    "print(predictions_summary_frame)\n",
    "\n",
    "predicted_counts=predictions_summary_frame['mean']\n",
    "actual_counts = y_test['GHP稽查初查不合格次數']\n",
    "\n",
    "#Mlot the predicted counts versus the actual counts for the test data.\n",
    "# fig = plt.figure()\n",
    "# fig.suptitle('Predicted versus actual bicyclist counts on the Brooklyn bridge')\n",
    "# predicted, = plt.plot(X_test.index, predicted_counts, 'go-', label='Predicted counts')\n",
    "# actual, = plt.plot(X_test.index, actual_counts, 'ro-', label='Actual counts')\n",
    "# plt.legend(handles=[predicted, actual])\n",
    "# plt.show()\n",
    "\n",
    "#Show scatter plot of Actual versus Predicted counts\n",
    "plt.clf()\n",
    "fig = plt.figure()\n",
    "fig.suptitle('Scatter plot of Actual versus Predicted counts')\n",
    "plt.scatter(x=predicted_counts, y=actual_counts, marker='.')\n",
    "plt.xlabel('Predicted counts')\n",
    "plt.ylabel('Actual counts')\n",
    "plt.show()"
   ]
  },
  {
   "cell_type": "code",
   "execution_count": null,
   "metadata": {
    "hidden": true
   },
   "outputs": [],
   "source": [
    "?X_train"
   ]
  },
  {
   "cell_type": "code",
   "execution_count": null,
   "metadata": {
    "hidden": true
   },
   "outputs": [],
   "source": [
    "df_train['GHP稽查初查次數']"
   ]
  },
  {
   "cell_type": "code",
   "execution_count": null,
   "metadata": {
    "hidden": true
   },
   "outputs": [],
   "source": [
    "predictions_summary_frame['mean'].max()"
   ]
  },
  {
   "cell_type": "code",
   "execution_count": null,
   "metadata": {
    "hidden": true
   },
   "outputs": [],
   "source": [
    "poisson_training_results.family"
   ]
  },
  {
   "cell_type": "code",
   "execution_count": null,
   "metadata": {
    "hidden": true
   },
   "outputs": [],
   "source": [
    "sm.stats.anova_lm(moore_lm, typ=2)"
   ]
  },
  {
   "cell_type": "code",
   "execution_count": null,
   "metadata": {
    "hidden": true
   },
   "outputs": [],
   "source": [
    "poisson_training_results"
   ]
  },
  {
   "cell_type": "code",
   "execution_count": null,
   "metadata": {
    "hidden": true
   },
   "outputs": [],
   "source": [
    "In [1]: import statsmodels.api as sm\n",
    "\n",
    "In [2]: from statsmodels.formula.api import ols\n",
    "\n",
    "In [3]: moore = sm.datasets.get_rdataset(\"Moore\", \"carData\",\n",
    "   ...:                                  cache=True) # load data\n",
    "   ...: \n",
    "\n",
    "In [4]: data = moore.data\n",
    "\n",
    "In [5]: data = data.rename(columns={\"partner.status\":\n",
    "   ...:                             \"partner_status\"}) # make name pythonic\n",
    "   ...: \n",
    "\n",
    "In [6]: moore_lm = ols('conformity ~ C(fcategory)+C(partner_status, Sum)',\n",
    "   ...:                 data=data).fit()"
   ]
  },
  {
   "cell_type": "code",
   "execution_count": null,
   "metadata": {
    "hidden": true
   },
   "outputs": [],
   "source": [
    "moore_lm.summary()"
   ]
  },
  {
   "cell_type": "code",
   "execution_count": null,
   "metadata": {
    "hidden": true
   },
   "outputs": [],
   "source": [
    "data"
   ]
  },
  {
   "cell_type": "markdown",
   "metadata": {},
   "source": [
    "# TEST"
   ]
  },
  {
   "cell_type": "code",
   "execution_count": 1,
   "metadata": {},
   "outputs": [],
   "source": [
    "import pandas as pd\n",
    "from patsy import dmatrices\n",
    "import numpy as np\n",
    "import statsmodels.api as sm\n",
    "import matplotlib.pyplot as plt\n",
    "from sklearn.ensemble import RandomForestClassifier"
   ]
  },
  {
   "cell_type": "code",
   "execution_count": 2,
   "metadata": {},
   "outputs": [],
   "source": [
    "#Create the training and testing data sets.\n",
    "df0 = pd.read_csv('C:/Users/6506/Desktop/FDA/N428_後市場/SQL/dataset/製造.csv',header=0, index_col=[4],encoding='utf-8')\n",
    "df=df0.fillna(0)\n",
    "df=df.drop(columns=['縣市'])\n",
    "df=df.drop(columns=['黑名單廠商'])"
   ]
  },
  {
   "cell_type": "code",
   "execution_count": null,
   "metadata": {},
   "outputs": [],
   "source": [
    "df=df[df['稽查項目']=='GHP']\n",
    "df=df[df['次類別']=='麵製品']"
   ]
  },
  {
   "cell_type": "code",
   "execution_count": 3,
   "metadata": {},
   "outputs": [],
   "source": [
    "def key(x):\n",
    "    return {\n",
    "    '製造加工業': '製造',\n",
    "    '輸入業': '輸入',\n",
    "    '食品販賣業': '販售',\n",
    "    '餐飲業': '餐飲',\n",
    "    '物流業': '物流',\n",
    "    }[x]\n",
    "\n",
    "df['業別組合']=df['是否為製造加工業'].map(str)\n",
    "for i in ['是否為餐飲業','是否為輸入業','是否為販售業','是否為物流業']:\n",
    "    df['業別組合']+=df[i].map(str)\n",
    "distinct=df['業別組合'].drop_duplicates().tolist()\n",
    "industry=['、製造','、餐飲','、輸入','、販售','、物流']\n",
    "for i in distinct:\n",
    "    name='是否兼具'\n",
    "    condition=df['業別組合'].notnull()\n",
    "    for j in range(5):\n",
    "        if i[j]=='1':\n",
    "            name+=industry[j]\n",
    "            condition=condition&(df['業別組合'].str[j]=='1')\n",
    "#     condition=condition&(df['業別組合']==i)\n",
    "    name+='業'\n",
    "    name=name.replace('具、','具')\n",
    "    if str.find(name,'製造')<0:\n",
    "        df[name]=condition.astype(int)\n",
    "# df.groupby(['業別組合'])['業別組合'].count()"
   ]
  },
  {
   "cell_type": "code",
   "execution_count": 4,
   "metadata": {},
   "outputs": [],
   "source": [
    "#transform category variable type\n",
    "# d=df.dtypes==object\n",
    "# i=d[d==True].index[1:]\n",
    "# df[i]=df[i].apply(lambda x: x.astype('category'))"
   ]
  },
  {
   "cell_type": "code",
   "execution_count": 5,
   "metadata": {},
   "outputs": [],
   "source": [
    "startpoint=df.columns.get_loc('主類別數')\n",
    "d=df.iloc[:,startpoint:].isin([0,1]).all()\n",
    "cate=d[d==True].index\n",
    "cont=d[d==False].index\n",
    "# 扣掉業別組合\n",
    "cont=cont[:-1]"
   ]
  },
  {
   "cell_type": "code",
   "execution_count": 6,
   "metadata": {},
   "outputs": [],
   "source": [
    "#StandardScaler\n",
    "from sklearn import preprocessing\n",
    "# df['資本總額元']=preprocessing.StandardScaler().fit_transform(df[['資本總額元']])\n",
    "# df[cont]=preprocessing.StandardScaler().fit_transform(df[cont])"
   ]
  },
  {
   "cell_type": "code",
   "execution_count": 7,
   "metadata": {},
   "outputs": [],
   "source": [
    "train=df['TRAIN_總稽查次數']>0\n",
    "test=df['TEST_總稽查次數']>0"
   ]
  },
  {
   "cell_type": "code",
   "execution_count": 8,
   "metadata": {},
   "outputs": [],
   "source": [
    "# train=train & (df['稽查項目']=='GHP') & (df['次類別']=='麵製品')\n",
    "# test=~train & (df['稽查項目']=='GHP') & (df['次類別']=='麵製品')\n",
    "# df_train=df_train[(df_train['稽查項目']=='GHP')]\n",
    "# test=test & (df['稽查項目']=='GHP') & (df['次類別']=='地區性特產食品')/\n",
    "# test=~train & (df['稽查項目']=='GHP') & (df['次類別']=='餐盒食品')"
   ]
  },
  {
   "cell_type": "code",
   "execution_count": 9,
   "metadata": {},
   "outputs": [],
   "source": [
    "# defect=lambda x:x['不合格次數']/x['總稽查次數']\n",
    "defect=df['TRAIN_不合格次數']/df['TRAIN_總稽查次數']\n",
    "TEST_defect=df['TEST_不合格次數']/df['TEST_總稽查次數']"
   ]
  },
  {
   "cell_type": "code",
   "execution_count": 10,
   "metadata": {},
   "outputs": [],
   "source": [
    "from scipy.stats import spearmanr,ranksums,wilcoxon,mannwhitneyu,chisquare,mstats\n",
    "np.seterr(invalid='ignore')\n",
    "j=[]\n",
    "\n",
    "for i in df.columns[startpoint:]:\n",
    "    if i in cont:\n",
    "        rk=spearmanr(defect[train],df[train][i]).pvalue\n",
    "        j.append(rk)\n",
    "    else:\n",
    "        rk=ranksums(defect[train & (df[i]==1)],defect[train & (df[i]==0)]).pvalue\n",
    "        j.append(rk)"
   ]
  },
  {
   "cell_type": "code",
   "execution_count": 11,
   "metadata": {
    "scrolled": true
   },
   "outputs": [],
   "source": [
    "verification = pd.DataFrame(j,index=df.columns[startpoint:],columns=['p-value']).fillna(1)\n",
    "k=verification[verification['p-value']<0.05].index"
   ]
  },
  {
   "cell_type": "code",
   "execution_count": 12,
   "metadata": {},
   "outputs": [
    {
     "data": {
      "text/plain": [
       "7.464539787712224e-10"
      ]
     },
     "execution_count": 12,
     "metadata": {},
     "output_type": "execute_result"
    }
   ],
   "source": [
    "capital=[df['資本總額元']<100000\n",
    "         ,(df['資本總額元']>=100000) & (df['資本總額元']<1000000)\n",
    "         ,(df['資本總額元']>=1000000) & (df['資本總額元']<10000000)\n",
    "         ,(df['資本總額元']>=10000000) & (df['資本總額元']<30000000)\n",
    "         ,df['資本總額元']>=30000000]\n",
    "kruskal=mstats.kruskalwallis(defect[train & capital[0] ].tolist()\n",
    "                     ,defect[train & capital[1]].tolist()\n",
    "                     ,defect[train & capital[2]].tolist()\n",
    "                     ,defect[train & capital[3]].tolist()\n",
    "                     ,defect[train & capital[4]].tolist()).pvalue\n",
    "if kruskal<0.05:\n",
    "    for i in range(1,5):\n",
    "        df['資本額'+str(i)]=capital[i].astype(int)\n",
    "    d=df.iloc[:,startpoint:].isin([0,1]).all()\n",
    "    cate=d[d==True].index\n",
    "    k=k.append(df.columns[-4:])\n",
    "    cont=cont.delete(cont.get_loc('資本總額元'))\n",
    "    verification.loc['資本額級距']=kruskal\n",
    "    \n",
    "kruskal"
   ]
  },
  {
   "cell_type": "code",
   "execution_count": 13,
   "metadata": {},
   "outputs": [
    {
     "name": "stdout",
     "output_type": "stream",
     "text": [
      "顯著因子=16\n"
     ]
    },
    {
     "data": {
      "text/html": [
       "<div>\n",
       "<style scoped>\n",
       "    .dataframe tbody tr th:only-of-type {\n",
       "        vertical-align: middle;\n",
       "    }\n",
       "\n",
       "    .dataframe tbody tr th {\n",
       "        vertical-align: top;\n",
       "    }\n",
       "\n",
       "    .dataframe thead th {\n",
       "        text-align: right;\n",
       "    }\n",
       "</style>\n",
       "<table border=\"1\" class=\"dataframe\">\n",
       "  <thead>\n",
       "    <tr style=\"text-align: right;\">\n",
       "      <th></th>\n",
       "      <th>p-value</th>\n",
       "    </tr>\n",
       "  </thead>\n",
       "  <tbody>\n",
       "    <tr>\n",
       "      <th>是否為輸入業</th>\n",
       "      <td>1.577110e-02</td>\n",
       "    </tr>\n",
       "    <tr>\n",
       "      <th>資本總額元</th>\n",
       "      <td>2.455858e-03</td>\n",
       "    </tr>\n",
       "    <tr>\n",
       "      <th>是否為上市上櫃公司</th>\n",
       "      <td>2.184944e-02</td>\n",
       "    </tr>\n",
       "    <tr>\n",
       "      <th>是否依「食品業者投保產品責任保險」投保</th>\n",
       "      <td>1.664538e-02</td>\n",
       "    </tr>\n",
       "    <tr>\n",
       "      <th>同集團公司家數</th>\n",
       "      <td>1.973878e-02</td>\n",
       "    </tr>\n",
       "    <tr>\n",
       "      <th>工商登記異動頻次</th>\n",
       "      <td>4.981465e-03</td>\n",
       "    </tr>\n",
       "    <tr>\n",
       "      <th>廠商下游數量</th>\n",
       "      <td>5.820600e-03</td>\n",
       "    </tr>\n",
       "    <tr>\n",
       "      <th>逾期已交貨數</th>\n",
       "      <td>4.684087e-02</td>\n",
       "    </tr>\n",
       "    <tr>\n",
       "      <th>收貨未準時申報率</th>\n",
       "      <td>1.047589e-03</td>\n",
       "    </tr>\n",
       "    <tr>\n",
       "      <th>交貨未準時申報率</th>\n",
       "      <td>1.034899e-03</td>\n",
       "    </tr>\n",
       "    <tr>\n",
       "      <th>製造業廠商原料種類數</th>\n",
       "      <td>2.992982e-02</td>\n",
       "    </tr>\n",
       "    <tr>\n",
       "      <th>製造業廠商是否有脫水乾燥</th>\n",
       "      <td>1.333153e-02</td>\n",
       "    </tr>\n",
       "    <tr>\n",
       "      <th>製造業廠商是否有烘焙炊蒸</th>\n",
       "      <td>1.239987e-02</td>\n",
       "    </tr>\n",
       "    <tr>\n",
       "      <th>製造業廠商是否有食品安全監測計畫自檢表</th>\n",
       "      <td>2.607991e-02</td>\n",
       "    </tr>\n",
       "    <tr>\n",
       "      <th>高風險縣市</th>\n",
       "      <td>7.121141e-45</td>\n",
       "    </tr>\n",
       "    <tr>\n",
       "      <th>資本額級距</th>\n",
       "      <td>7.464540e-10</td>\n",
       "    </tr>\n",
       "  </tbody>\n",
       "</table>\n",
       "</div>"
      ],
      "text/plain": [
       "                          p-value\n",
       "是否為輸入業               1.577110e-02\n",
       "資本總額元                2.455858e-03\n",
       "是否為上市上櫃公司            2.184944e-02\n",
       "是否依「食品業者投保產品責任保險」投保  1.664538e-02\n",
       "同集團公司家數              1.973878e-02\n",
       "工商登記異動頻次             4.981465e-03\n",
       "廠商下游數量               5.820600e-03\n",
       "逾期已交貨數               4.684087e-02\n",
       "收貨未準時申報率             1.047589e-03\n",
       "交貨未準時申報率             1.034899e-03\n",
       "製造業廠商原料種類數           2.992982e-02\n",
       "製造業廠商是否有脫水乾燥         1.333153e-02\n",
       "製造業廠商是否有烘焙炊蒸         1.239987e-02\n",
       "製造業廠商是否有食品安全監測計畫自檢表  2.607991e-02\n",
       "高風險縣市                7.121141e-45\n",
       "資本額級距                7.464540e-10"
      ]
     },
     "execution_count": 13,
     "metadata": {},
     "output_type": "execute_result"
    }
   ],
   "source": [
    "print('顯著因子='+str(len(verification[verification['p-value']<0.05])))\n",
    "verification[verification['p-value']<0.05]\n",
    "# print(verification.to_string())\n",
    "# from IPython.display import display\n",
    "# display(verification[verification['p-value']<0.05])"
   ]
  },
  {
   "cell_type": "code",
   "execution_count": 14,
   "metadata": {},
   "outputs": [
    {
     "name": "stdout",
     "output_type": "stream",
     "text": [
      "Training data set length=2484\n",
      "Testing data set length=1109\n"
     ]
    }
   ],
   "source": [
    "df_train = df[train]\n",
    "df_test = df[test]\n",
    "print('Training data set length='+str(len(df_train)))\n",
    "print('Testing data set length='+str(len(df_test)))"
   ]
  },
  {
   "cell_type": "markdown",
   "metadata": {
    "heading_collapsed": true
   },
   "source": [
    "## 分類方法"
   ]
  },
  {
   "cell_type": "code",
   "execution_count": 15,
   "metadata": {
    "hidden": true
   },
   "outputs": [
    {
     "name": "stderr",
     "output_type": "stream",
     "text": [
      "C:\\Users\\6506\\Anaconda3\\lib\\site-packages\\ipykernel_launcher.py:18: DataConversionWarning: A column-vector y was passed when a 1d array was expected. Please change the shape of y to (n_samples,), for example using ravel().\n"
     ]
    }
   ],
   "source": [
    "#-------------------分類方法-------------------\n",
    "df_train=df_train.reset_index()\n",
    "compliant=df_train.loc[df_train.index.repeat(df_train['TRAIN_總稽查次數']-df_train['TRAIN_不合格次數'])]\n",
    "unqualified=df_train.loc[df_train.index.repeat(df_train['TRAIN_不合格次數'])]\n",
    "compliant['稽查結果'],unqualified['稽查結果']=0,1\n",
    "df_train=pd.concat([compliant,unqualified]).set_index('業者名稱')\n",
    "\n",
    "df_test=df_test.reset_index()\n",
    "compliant=df_test.loc[df_test.index.repeat(df_test['TEST_總稽查次數']-df_test['TEST_不合格次數'])]\n",
    "unqualified=df_test.loc[df_test.index.repeat(df_test['TEST_不合格次數'])]\n",
    "compliant['稽查結果'],unqualified['稽查結果']=0,1\n",
    "df_test=pd.concat([compliant,unqualified]).set_index('業者名稱')\n",
    "\n",
    "expr = '稽查結果~'+'+'.join([i for i in k if i in cont])+''.join([\"+C(Q('\"+i+\"'))\" for i in k if i in cate])\n",
    "y_train, X_train = dmatrices(expr, df_train, return_type='dataframe')\n",
    "y_test, X_test = dmatrices(expr, df_test, return_type='dataframe')\n",
    "X_train, X_test = X_train.align(X_test, join='inner', axis=1)\n",
    "clf=RandomForestClassifier(n_estimators=100).fit(X_train, y_train)\n",
    "y_pred=clf.predict(X_test)\n",
    "df_test['預測稽查結果']=y_pred\n",
    "df_test['預測不合格率']=clf.predict_proba(X_test)[:,1]"
   ]
  },
  {
   "cell_type": "code",
   "execution_count": 40,
   "metadata": {
    "hidden": true
   },
   "outputs": [],
   "source": [
    "from sklearn.utils.multiclass import unique_labels\n",
    "from sklearn.metrics import confusion_matrix\n",
    "def plot_confusion_matrix(y_true, y_pred, classes,\n",
    "                          normalize=False,\n",
    "                          title=None,\n",
    "                          cmap=plt.cm.Blues):\n",
    "    if not title:\n",
    "        if normalize:\n",
    "            title = 'Normalized confusion matrix'\n",
    "        else:\n",
    "            title = 'Confusion matrix, without normalization'\n",
    "    # Compute confusion matrix\n",
    "    cm = confusion_matrix(y_true, y_pred)\n",
    "    # Only use the labels that appear in the data\n",
    "    classes = classes[unique_labels(y_true, y_pred)]\n",
    "    if normalize:\n",
    "        cm = cm.astype('float') / cm.sum(axis=1)[:, np.newaxis]\n",
    "        print(\"Normalized confusion matrix\")\n",
    "    else:\n",
    "        print('Confusion matrix, without normalization')\n",
    "\n",
    "    print(cm)\n",
    "\n",
    "    fig, ax = plt.subplots()\n",
    "    im = ax.imshow(cm, interpolation='nearest', cmap=cmap)\n",
    "    ax.figure.colorbar(im, ax=ax)\n",
    "    # We want to show all ticks...\n",
    "    ax.set(xticks=np.arange(cm.shape[1]),\n",
    "           yticks=np.arange(cm.shape[0]),\n",
    "           # ... and label them with the respective list entries\n",
    "           xticklabels=classes, yticklabels=classes,\n",
    "           title=title,\n",
    "           ylabel='True label',\n",
    "           xlabel='Predicted label')\n",
    "\n",
    "    # Rotate the tick labels and set their alignment.\n",
    "    plt.setp(ax.get_xticklabels(), rotation=45, ha=\"right\",\n",
    "             rotation_mode=\"anchor\")\n",
    "\n",
    "    # Loop over data dimensions and create text annotations.\n",
    "    fmt = '.2f' if normalize else 'd'\n",
    "    thresh = cm.max() / 2.\n",
    "    for i in range(cm.shape[0]):\n",
    "        for j in range(cm.shape[1]):\n",
    "            ax.text(j, i, format(cm[i, j], fmt),\n",
    "                    ha=\"center\", va=\"center\",\n",
    "                    color=\"white\" if cm[i, j] > thresh else \"black\")\n",
    "    fig.tight_layout()\n",
    "    return ax"
   ]
  },
  {
   "cell_type": "code",
   "execution_count": 82,
   "metadata": {
    "hidden": true
   },
   "outputs": [
    {
     "name": "stdout",
     "output_type": "stream",
     "text": [
      "Confusion matrix, without normalization\n",
      "[[152  47]\n",
      " [ 52  56]]\n",
      "Normalized confusion matrix\n",
      "[[0.76 0.24]\n",
      " [0.48 0.52]]\n"
     ]
    },
    {
     "data": {
      "image/png": "[encoded data removed]",
      "text/plain": [
       "<Figure size 432x288 with 2 Axes>"
      ]
     },
     "metadata": {
      "needs_background": "light"
     },
     "output_type": "display_data"
    },
    {
     "data": {
      "image/png": "[encoded data removed]",
      "text/plain": [
       "<Figure size 432x288 with 2 Axes>"
      ]
     },
     "metadata": {
      "needs_background": "light"
     },
     "output_type": "display_data"
    }
   ],
   "source": [
    "def Confusion_matrix(y_true, y_pred):\n",
    "    class_names=unique_labels(y_true)\n",
    "\n",
    "    np.set_printoptions(precision=2)\n",
    "# Plot non-normalized confusion matrix\n",
    "    plot_confusion_matrix(y_true, y_pred, classes=class_names,\n",
    "                      title='Confusion matrix, without normalization')\n",
    "\n",
    "# Plot normalized confusion matrix\n",
    "    plot_confusion_matrix(y_true, y_pred, classes=class_names, normalize=True,\n",
    "                      title='Normalized confusion matrix')\n",
    "    plt.show()\n",
    "Confusion_matrix(y_test.astype(int), y_pred)"
   ]
  },
  {
   "cell_type": "markdown",
   "metadata": {},
   "source": [
    "## REG"
   ]
  },
  {
   "cell_type": "code",
   "execution_count": 15,
   "metadata": {},
   "outputs": [
    {
     "name": "stdout",
     "output_type": "stream",
     "text": [
      "                 Generalized Linear Model Regression Results                  \n",
      "==============================================================================\n",
      "Dep. Variable:            TRAIN_不合格次數   No. Observations:                 2484\n",
      "Model:                            GLM   Df Residuals:                     2465\n",
      "Model Family:                 Poisson   Df Model:                           18\n",
      "Link Function:                    log   Scale:                          1.0000\n",
      "Method:                          IRLS   Log-Likelihood:                -2272.7\n",
      "Date:                Mon, 28 Dec 2020   Deviance:                       2025.3\n",
      "Time:                        13:54:27   Pearson chi2:                 1.89e+03\n",
      "No. Iterations:                   100                                         \n",
      "Covariance Type:            nonrobust                                         \n",
      "====================================================================================================\n",
      "                                       coef    std err          z      P>|z|      [0.025      0.975]\n",
      "----------------------------------------------------------------------------------------------------\n",
      "Intercept                           -1.6348      0.052    -31.650      0.000      -1.736      -1.534\n",
      "C(Q('是否為輸入業'))[T.1]                 -0.0024      0.001     -2.046      0.041      -0.005      -0.000\n",
      "C(Q('是否為上市上櫃公司'))[T.1]              -0.0329      0.005     -6.841      0.000      -0.042      -0.023\n",
      "C(Q('是否依「食品業者投保產品責任保險」投保'))[T.1]     0.0452      0.070      0.643      0.520      -0.093       0.183\n",
      "C(Q('製造業廠商是否有脫水乾燥'))[T.1.0]          0.1427      0.166      0.858      0.391      -0.183       0.469\n",
      "C(Q('製造業廠商是否有烘焙炊蒸'))[T.1.0]          0.1077      0.069      1.563      0.118      -0.027       0.243\n",
      "C(Q('製造業廠商是否有食品安全監測計畫自檢表'))[T.1]    -0.2057      0.085     -2.432      0.015      -0.371      -0.040\n",
      "C(Q('高風險縣市'))[T.1]                   0.9155      0.054     16.924      0.000       0.809       1.022\n",
      "C(Q('資本額1'))[T.1]                    0.1867      0.079      2.375      0.018       0.033       0.341\n",
      "C(Q('資本額2'))[T.1]                    0.3020      0.081      3.737      0.000       0.144       0.460\n",
      "C(Q('資本額3'))[T.1]                    0.2520      0.107      2.363      0.018       0.043       0.461\n",
      "C(Q('資本額4'))[T.1]                   -0.3990      0.089     -4.484      0.000      -0.573      -0.225\n",
      "同集團公司家數                              0.0175      0.028      0.620      0.535      -0.038       0.073\n",
      "工商登記異動頻次                            -0.0020      0.001     -1.367      0.172      -0.005       0.001\n",
      "廠商下游數量                              -0.0306   6.19e-05   -493.916      0.000      -0.031      -0.030\n",
      "逾期已交貨數                              -0.0194      0.003     -7.193      0.000      -0.025      -0.014\n",
      "收貨未準時申報率                             0.9180      0.124      7.393      0.000       0.675       1.161\n",
      "交貨未準時申報率                             0.8699      0.118      7.387      0.000       0.639       1.101\n",
      "製造業廠商原料種類數                          -0.0013      0.005     -0.292      0.770      -0.010       0.008\n",
      "====================================================================================================\n",
      "                mean   mean_se  mean_ci_lower  mean_ci_upper\n",
      "業者名稱                                                        \n",
      "立祥食品行       0.747313  0.054345       0.648041       0.861791\n",
      "竣暉國際實業有限公司  1.761233  0.257921       1.321794       2.346766\n",
      "三美珍餅行       0.536732  0.040968       0.462152       0.623346\n",
      "一品烘焙坊       0.692914  0.055023       0.593044       0.809602\n",
      "馥漫企業股份有限公司  0.738179  0.071850       0.609972       0.893332\n",
      "...              ...       ...            ...            ...\n",
      "威樂國際有限公司    0.299160  0.018531       0.264957       0.337778\n",
      "劉家水煎包       0.299160  0.018531       0.264957       0.337778\n",
      "康詩國際有限公司    0.299160  0.018531       0.264957       0.337778\n",
      "貞采實業有限公司    0.299160  0.018531       0.264957       0.337778\n",
      "美晶食品有限公司    0.299160  0.018531       0.264957       0.337778\n",
      "\n",
      "[1109 rows x 4 columns]\n"
     ]
    },
    {
     "data": {
      "text/plain": [
       "<Figure size 432x288 with 0 Axes>"
      ]
     },
     "metadata": {},
     "output_type": "display_data"
    },
    {
     "data": {
      "image/png": "[encoded data removed]",
      "text/plain": [
       "<Figure size 432x288 with 1 Axes>"
      ]
     },
     "metadata": {
      "needs_background": "light"
     },
     "output_type": "display_data"
    }
   ],
   "source": [
    "expr = 'TRAIN_不合格次數~'+'+'.join([i for i in k if i in cont])+''.join([\"+C(Q('\"+i+\"'))\" for i in k if i in cate])\n",
    "\n",
    "#Set up the X and y matrices\n",
    "y_train, X_train = dmatrices(expr, df_train, return_type='dataframe')\n",
    "y_test, X_test = dmatrices(expr, df_test, return_type='dataframe')\n",
    "X_train, X_test = X_train.align(X_test, join='inner', axis=1)\n",
    "#Using the statsmodels GLM class, train the Poisson regression model on the training data set.\n",
    "poisson_model = sm.GLM(y_train, X_train, family=sm.families.Poisson(),\n",
    "                                  exposure=df_train['TRAIN_總稽查次數']).fit()\n",
    "\n",
    "#Print the training summary.\n",
    "print(poisson_model.summary())\n",
    "\n",
    "#Make some predictions on the test data set.\n",
    "poisson_predictions = poisson_model.get_prediction(X_test)\n",
    "#.summary_frame() returns a pandas DataFrame\n",
    "predictions_summary_frame = poisson_predictions.summary_frame()\n",
    "print(predictions_summary_frame)\n",
    "\n",
    "predicted_counts=predictions_summary_frame['mean']\n",
    "\n",
    "#Mlot the predicted counts versus the actual counts for the test data.\n",
    "# fig = plt.figure()\n",
    "# fig.suptitle('Predicted versus actual bicyclist counts on the Brooklyn bridge')\n",
    "# predicted, = plt.plot(X_test.index, predicted_counts, 'go-', label='Predicted counts')\n",
    "# actual, = plt.plot(X_test.index, actual_counts, 'ro-', label='Actual counts')\n",
    "# plt.legend(handles=[predicted, actual])\n",
    "# plt.show()\n",
    "\n",
    "#Show scatter plot of Actual versus Predicted counts\n",
    "plt.clf()\n",
    "fig = plt.figure()\n",
    "fig.suptitle('Scatter plot of Actual versus Predicted counts')\n",
    "plt.scatter(x=predicted_counts, y=y_test, marker='.')\n",
    "plt.xlabel('Predicted counts')\n",
    "plt.ylabel('Actual counts')\n",
    "plt.show()"
   ]
  },
  {
   "cell_type": "code",
   "execution_count": 16,
   "metadata": {},
   "outputs": [
    {
     "data": {
      "text/html": [
       "<div>\n",
       "<style scoped>\n",
       "    .dataframe tbody tr th:only-of-type {\n",
       "        vertical-align: middle;\n",
       "    }\n",
       "\n",
       "    .dataframe tbody tr th {\n",
       "        vertical-align: top;\n",
       "    }\n",
       "\n",
       "    .dataframe thead th {\n",
       "        text-align: right;\n",
       "    }\n",
       "</style>\n",
       "<table border=\"1\" class=\"dataframe\">\n",
       "  <thead>\n",
       "    <tr style=\"text-align: right;\">\n",
       "      <th></th>\n",
       "      <th>coef</th>\n",
       "      <th>P&gt;|z|</th>\n",
       "    </tr>\n",
       "  </thead>\n",
       "  <tbody>\n",
       "    <tr>\n",
       "      <th>Intercept</th>\n",
       "      <td>-1.6348</td>\n",
       "      <td>0.000</td>\n",
       "    </tr>\n",
       "    <tr>\n",
       "      <th>是否為輸入業</th>\n",
       "      <td>-0.0024</td>\n",
       "      <td>0.041</td>\n",
       "    </tr>\n",
       "    <tr>\n",
       "      <th>是否為上市上櫃公司</th>\n",
       "      <td>-0.0329</td>\n",
       "      <td>0.000</td>\n",
       "    </tr>\n",
       "    <tr>\n",
       "      <th>是否依「食品業者投保產品責任保險」投保</th>\n",
       "      <td>0.0452</td>\n",
       "      <td>0.520</td>\n",
       "    </tr>\n",
       "    <tr>\n",
       "      <th>製造業廠商是否有脫水乾燥</th>\n",
       "      <td>0.1427</td>\n",
       "      <td>0.391</td>\n",
       "    </tr>\n",
       "    <tr>\n",
       "      <th>製造業廠商是否有烘焙炊蒸</th>\n",
       "      <td>0.1077</td>\n",
       "      <td>0.118</td>\n",
       "    </tr>\n",
       "    <tr>\n",
       "      <th>製造業廠商是否有食品安全監測計畫自檢表</th>\n",
       "      <td>-0.2057</td>\n",
       "      <td>0.015</td>\n",
       "    </tr>\n",
       "    <tr>\n",
       "      <th>高風險縣市</th>\n",
       "      <td>0.9155</td>\n",
       "      <td>0.000</td>\n",
       "    </tr>\n",
       "    <tr>\n",
       "      <th>資本額1</th>\n",
       "      <td>0.1867</td>\n",
       "      <td>0.018</td>\n",
       "    </tr>\n",
       "    <tr>\n",
       "      <th>資本額2</th>\n",
       "      <td>0.3020</td>\n",
       "      <td>0.000</td>\n",
       "    </tr>\n",
       "    <tr>\n",
       "      <th>資本額3</th>\n",
       "      <td>0.2520</td>\n",
       "      <td>0.018</td>\n",
       "    </tr>\n",
       "    <tr>\n",
       "      <th>資本額4</th>\n",
       "      <td>-0.3990</td>\n",
       "      <td>0.000</td>\n",
       "    </tr>\n",
       "    <tr>\n",
       "      <th>同集團公司家數</th>\n",
       "      <td>0.0175</td>\n",
       "      <td>0.535</td>\n",
       "    </tr>\n",
       "    <tr>\n",
       "      <th>工商登記異動頻次</th>\n",
       "      <td>-0.0020</td>\n",
       "      <td>0.172</td>\n",
       "    </tr>\n",
       "    <tr>\n",
       "      <th>廠商下游數量</th>\n",
       "      <td>-0.0306</td>\n",
       "      <td>0.000</td>\n",
       "    </tr>\n",
       "    <tr>\n",
       "      <th>逾期已交貨數</th>\n",
       "      <td>-0.0194</td>\n",
       "      <td>0.000</td>\n",
       "    </tr>\n",
       "    <tr>\n",
       "      <th>收貨未準時申報率</th>\n",
       "      <td>0.9180</td>\n",
       "      <td>0.000</td>\n",
       "    </tr>\n",
       "    <tr>\n",
       "      <th>交貨未準時申報率</th>\n",
       "      <td>0.8699</td>\n",
       "      <td>0.000</td>\n",
       "    </tr>\n",
       "    <tr>\n",
       "      <th>製造業廠商原料種類數</th>\n",
       "      <td>-0.0013</td>\n",
       "      <td>0.770</td>\n",
       "    </tr>\n",
       "  </tbody>\n",
       "</table>\n",
       "</div>"
      ],
      "text/plain": [
       "                       coef  P>|z|\n",
       "Intercept           -1.6348  0.000\n",
       "是否為輸入業              -0.0024  0.041\n",
       "是否為上市上櫃公司           -0.0329  0.000\n",
       "是否依「食品業者投保產品責任保險」投保  0.0452  0.520\n",
       "製造業廠商是否有脫水乾燥         0.1427  0.391\n",
       "製造業廠商是否有烘焙炊蒸         0.1077  0.118\n",
       "製造業廠商是否有食品安全監測計畫自檢表 -0.2057  0.015\n",
       "高風險縣市                0.9155  0.000\n",
       "資本額1                 0.1867  0.018\n",
       "資本額2                 0.3020  0.000\n",
       "資本額3                 0.2520  0.018\n",
       "資本額4                -0.3990  0.000\n",
       "同集團公司家數              0.0175  0.535\n",
       "工商登記異動頻次            -0.0020  0.172\n",
       "廠商下游數量              -0.0306  0.000\n",
       "逾期已交貨數              -0.0194  0.000\n",
       "收貨未準時申報率             0.9180  0.000\n",
       "交貨未準時申報率             0.8699  0.000\n",
       "製造業廠商原料種類數          -0.0013  0.770"
      ]
     },
     "execution_count": 16,
     "metadata": {},
     "output_type": "execute_result"
    }
   ],
   "source": [
    "# 因子係數與P-value\n",
    "factor=pd.read_html(poisson_model.summary().tables[1].as_html(), header=0, index_col=0)[0]\n",
    "for i in range(len(factor.index)):\n",
    "    st=factor.index[i]\n",
    "    if str.find(st,'\\'')>0:st=st[str.find(st,'\\'')+1:str.find(st,'\\')')]\n",
    "    factor=factor.rename(index={factor.index[i]:st})\n",
    "factor[['coef','P>|z|']]"
   ]
  },
  {
   "cell_type": "code",
   "execution_count": 17,
   "metadata": {},
   "outputs": [],
   "source": [
    "#rate ratio\n",
    "rate=X_train.copy()\n",
    "for i in range(len(poisson_model._results.params)):\n",
    "    rate.iloc[:,i]=rate.iloc[:,i]*poisson_model._results.params.to_list()[i]\n",
    "\n",
    "ratio=rate.apply(lambda x: np.exp(x))"
   ]
  },
  {
   "cell_type": "code",
   "execution_count": 18,
   "metadata": {},
   "outputs": [],
   "source": [
    "# st=\"C(Q('高風險縣市'))[T.1]\"\n",
    "# st[str.find(st,'\\'')+1:str.find(st,'\\')')]\n",
    "dq=pd.DataFrame(ratio.iloc[:,1])\n",
    "st=ratio.columns[1]\n",
    "if str.find(st,'\\'')>0:st=st[str.find(st,'\\'')+1:str.find(st,'\\')')]\n",
    "dq['風險因子']=st\n",
    "dq.columns = ['rateratio', '風險因子']\n",
    "\n",
    "for i in range(2,len(ratio.columns)):\n",
    "    dq2=pd.DataFrame(ratio.iloc[:,i])\n",
    "    st=ratio.columns[i]\n",
    "    if str.find(st,'\\'')>0:st=st[str.find(st,'\\'')+1:str.find(st,'\\')')]\n",
    "    dq2['風險因子']=st\n",
    "    dq2.columns = ['rateratio', '風險因子']\n",
    "    dq=dq.append(dq2)"
   ]
  },
  {
   "cell_type": "code",
   "execution_count": 19,
   "metadata": {
    "scrolled": true
   },
   "outputs": [
    {
     "name": "stdout",
     "output_type": "stream",
     "text": [
      "                 Generalized Linear Model Regression Results                  \n",
      "==============================================================================\n",
      "Dep. Variable:            TRAIN_不合格次數   No. Observations:                 2484\n",
      "Model:                            GLM   Df Residuals:                     2465\n",
      "Model Family:        NegativeBinomial   Df Model:                           18\n",
      "Link Function:                    log   Scale:                          1.0000\n",
      "Method:                          IRLS   Log-Likelihood:                -2292.1\n",
      "Date:                Mon, 28 Dec 2020   Deviance:                       1853.1\n",
      "Time:                        13:54:32   Pearson chi2:                 1.73e+03\n",
      "No. Iterations:                    25                                         \n",
      "Covariance Type:            nonrobust                                         \n",
      "====================================================================================================\n",
      "                                       coef    std err          z      P>|z|      [0.025      0.975]\n",
      "----------------------------------------------------------------------------------------------------\n",
      "Intercept                           -1.6376      0.055    -29.946      0.000      -1.745      -1.530\n",
      "C(Q('是否為輸入業'))[T.1]                 -2.1124      1.016     -2.080      0.038      -4.103      -0.122\n",
      "C(Q('是否為上市上櫃公司'))[T.1]             -24.2344   7.31e+04     -0.000      1.000   -1.43e+05    1.43e+05\n",
      "C(Q('是否依「食品業者投保產品責任保險」投保'))[T.1]     0.0337      0.076      0.446      0.656      -0.114       0.182\n",
      "C(Q('製造業廠商是否有脫水乾燥'))[T.1.0]          0.1675      0.179      0.935      0.350      -0.184       0.519\n",
      "C(Q('製造業廠商是否有烘焙炊蒸'))[T.1.0]          0.0964      0.074      1.302      0.193      -0.049       0.242\n",
      "C(Q('製造業廠商是否有食品安全監測計畫自檢表'))[T.1]    -0.2581      0.219     -1.179      0.238      -0.687       0.171\n",
      "C(Q('高風險縣市'))[T.1]                   0.9121      0.058     15.602      0.000       0.798       1.027\n",
      "C(Q('資本額1'))[T.1]                    0.1977      0.085      2.333      0.020       0.032       0.364\n",
      "C(Q('資本額2'))[T.1]                    0.3104      0.089      3.501      0.000       0.137       0.484\n",
      "C(Q('資本額3'))[T.1]                    0.2880      0.116      2.474      0.013       0.060       0.516\n",
      "C(Q('資本額4'))[T.1]                   -0.2784      0.211     -1.320      0.187      -0.692       0.135\n",
      "同集團公司家數                              0.0455      0.034      1.343      0.179      -0.021       0.112\n",
      "工商登記異動頻次                            -0.0020      0.002     -1.338      0.181      -0.005       0.001\n",
      "廠商下游數量                              -0.1345      0.064     -2.112      0.035      -0.259      -0.010\n",
      "逾期已交貨數                             -18.4152   1.31e+04     -0.001      0.999   -2.58e+04    2.57e+04\n",
      "收貨未準時申報率                             0.8524      0.569      1.497      0.134      -0.263       1.968\n",
      "交貨未準時申報率                             1.0748      0.606      1.773      0.076      -0.113       2.263\n",
      "製造業廠商原料種類數                          -0.0013      0.005     -0.249      0.803      -0.011       0.009\n",
      "====================================================================================================\n",
      "                mean   mean_se  mean_ci_lower  mean_ci_upper\n",
      "業者名稱                                                        \n",
      "立祥食品行       0.765464  0.059336       0.657571       0.891060\n",
      "竣暉國際實業有限公司  0.267178  0.299200       0.029756       2.398950\n",
      "三美珍餅行       0.527798  0.043546       0.448992       0.620435\n",
      "一品烘焙坊       0.699992  0.060404       0.591072       0.828983\n",
      "馥漫企業股份有限公司  0.764846  0.080839       0.621739       0.940892\n",
      "...              ...       ...            ...            ...\n",
      "威樂國際有限公司    0.307461  0.020160       0.270382       0.349624\n",
      "劉家水煎包       0.307461  0.020160       0.270382       0.349624\n",
      "康詩國際有限公司    0.307461  0.020160       0.270382       0.349624\n",
      "貞采實業有限公司    0.307461  0.020160       0.270382       0.349624\n",
      "美晶食品有限公司    0.307461  0.020160       0.270382       0.349624\n",
      "\n",
      "[1109 rows x 4 columns]\n"
     ]
    },
    {
     "name": "stderr",
     "output_type": "stream",
     "text": [
      "C:\\Users\\6506\\Anaconda3\\lib\\site-packages\\pandas\\core\\series.py:679: RuntimeWarning: divide by zero encountered in log\n",
      "  result = getattr(ufunc, method)(*inputs, **kwargs)\n",
      "C:\\Users\\6506\\Anaconda3\\lib\\site-packages\\statsmodels\\genmod\\families\\links.py:517: RuntimeWarning: overflow encountered in exp\n",
      "  return np.exp(z)\n"
     ]
    }
   ],
   "source": [
    "NB_model = sm.GLM(y_train, X_train, family=sm.families.NegativeBinomial(alpha=0.15),\n",
    "                                  exposure=df_train['TRAIN_總稽查次數']).fit()\n",
    "#Print the training summary.\n",
    "print(NB_model.summary())\n",
    "\n",
    "#Make some predictions on the test data set.\n",
    "NB_predictions = NB_model.get_prediction(X_test)\n",
    "#.summary_frame() returns a pandas DataFrame\n",
    "predictions_summary_frame = NB_predictions.summary_frame()\n",
    "print(predictions_summary_frame)\n",
    "\n",
    "NB_predicted_counts=predictions_summary_frame['mean']"
   ]
  },
  {
   "cell_type": "code",
   "execution_count": 20,
   "metadata": {},
   "outputs": [],
   "source": [
    "from sklearn.ensemble import RandomForestRegressor\n",
    "RF_model=RandomForestRegressor(max_depth=5).fit(X_train, y_train.values.ravel())\n",
    "RF_predictions=RF_model.predict(X_test)"
   ]
  },
  {
   "cell_type": "code",
   "execution_count": null,
   "metadata": {},
   "outputs": [],
   "source": [
    "# 模型的 p-value\n",
    "poisson_training_results.pvalues\n",
    "# 模型的 aic\n",
    "poisson_training_results.aic\n",
    "NB_training_results.aic"
   ]
  },
  {
   "cell_type": "code",
   "execution_count": 21,
   "metadata": {},
   "outputs": [
    {
     "name": "stdout",
     "output_type": "stream",
     "text": [
      "0.397967982538079 0.3981500877117551 0.49261055191844016\n",
      "0.5001143707073619 0.49988562929263813\n"
     ]
    },
    {
     "name": "stderr",
     "output_type": "stream",
     "text": [
      "C:\\Users\\6506\\Anaconda3\\lib\\site-packages\\statsmodels\\genmod\\families\\links.py:517: RuntimeWarning: overflow encountered in exp\n",
      "  return np.exp(z)\n"
     ]
    }
   ],
   "source": [
    "from sklearn.metrics import mean_squared_error\n",
    "from math import sqrt\n",
    "train_predictions = poisson_model.get_prediction(X_train).summary_frame()['mean']\n",
    "NB_train_predictions = NB_model.get_prediction(X_train).summary_frame()['mean']\n",
    "RF_train_predictions = RF_model.predict(X_train)\n",
    "p_rmse=sqrt(mean_squared_error(train_predictions,defect[train]))\n",
    "NB_rmse=sqrt(mean_squared_error(NB_train_predictions,defect[train]))\n",
    "RF_rmse=sqrt(mean_squared_error(RF_train_predictions,defect[train]))\n",
    "print(p_rmse,NB_rmse,RF_rmse)\n",
    "p_weight=1-(p_rmse/(p_rmse+NB_rmse))\n",
    "NB_weight=1-p_weight\n",
    "print(p_weight,NB_weight)"
   ]
  },
  {
   "cell_type": "code",
   "execution_count": 22,
   "metadata": {},
   "outputs": [
    {
     "name": "stderr",
     "output_type": "stream",
     "text": [
      "C:\\Users\\6506\\Anaconda3\\lib\\site-packages\\statsmodels\\genmod\\families\\links.py:517: RuntimeWarning: overflow encountered in exp\n",
      "  return np.exp(z)\n"
     ]
    }
   ],
   "source": [
    "# 選定預測範圍\n",
    "df_all=df_test\n",
    "# df_all=df\n",
    "y_test, X_test = dmatrices(expr, df_all, return_type='dataframe')\n",
    "pred = poisson_model.get_prediction(X_test)\n",
    "poi = pred.summary_frame()\n",
    "poi.rename(columns={'mean':'P-預測不合格率'}, inplace=True)\n",
    "\n",
    "pred = NB_model.get_prediction(X_test)\n",
    "NB = pred.summary_frame()\n",
    "NB.rename(columns={'mean':'NB-預測不合格率'}, inplace=True)\n",
    "\n",
    "RF_predictions=poi['P-預測不合格率'].rename('RF-預測不合格率')*0+RF_model.predict(X_test)\n",
    "\n",
    "poi[poi['P-預測不合格率']>1]=1\n",
    "NB[NB['NB-預測不合格率']>1]=1\n",
    "\n",
    "renew=poi['P-預測不合格率']*p_weight+NB['NB-預測不合格率']*NB_weight\n",
    "# renew[renew>1]=1\n",
    "score=round(renew*100).astype(int)-1\n",
    "score[score==-1]=0"
   ]
  },
  {
   "cell_type": "code",
   "execution_count": 23,
   "metadata": {},
   "outputs": [
    {
     "name": "stdout",
     "output_type": "stream",
     "text": [
      "0.39367741212287627 0.39498599588092237 0.393754498412806\n"
     ]
    }
   ],
   "source": [
    "p_rmse=sqrt(mean_squared_error(poi['P-預測不合格率'],TEST_defect[test]))\n",
    "NB_rmse=sqrt(mean_squared_error(NB['NB-預測不合格率'],TEST_defect[test]))\n",
    "weight_rmse=sqrt(mean_squared_error(renew,TEST_defect[test]))\n",
    "print(p_rmse,NB_rmse,weight_rmse)"
   ]
  },
  {
   "cell_type": "code",
   "execution_count": 24,
   "metadata": {},
   "outputs": [],
   "source": [
    "result=pd.concat([poi['P-預測不合格率'],NB['NB-預測不合格率'],RF_predictions,renew,score,df_all],axis=1)\n",
    "result.rename(columns={0:'權重-預測不合格率',1:'風險等級'}, inplace=True)\n",
    "result.to_excel(r'C:\\Users\\6506\\Desktop\\result.xls',encoding='ANSI')"
   ]
  },
  {
   "cell_type": "code",
   "execution_count": 25,
   "metadata": {},
   "outputs": [],
   "source": [
    "#模擬隨機\n",
    "# sample=lambda:TEST_defect[test].sample(frac=0.5)\n",
    "sq_rand=[]\n",
    "poi_rand=[]\n",
    "NB_rand=[]\n",
    "for i in range(10000):\n",
    "    #bootstrap\n",
    "    r_sample=result.sample(frac=0.5)\n",
    "    r_test=r_sample['TEST_不合格次數']/r_sample['TEST_總稽查次數']\n",
    "    poi_rand.append(sqrt(mean_squared_error(r_test,r_sample['權重-預測不合格率'])))\n",
    "#     NB_rand.append(sqrt(mean_squared_error(r_test,r_sample['NB-預測不合格率']))) \n",
    "    #random+bootstrap\n",
    "    sq_rand.append(sqrt(mean_squared_error(r_test,np.random.rand(len(r_test)))))"
   ]
  },
  {
   "cell_type": "code",
   "execution_count": 69,
   "metadata": {},
   "outputs": [
    {
     "data": {
      "text/html": [
       "<div>\n",
       "<style scoped>\n",
       "    .dataframe tbody tr th:only-of-type {\n",
       "        vertical-align: middle;\n",
       "    }\n",
       "\n",
       "    .dataframe tbody tr th {\n",
       "        vertical-align: top;\n",
       "    }\n",
       "\n",
       "    .dataframe thead th {\n",
       "        text-align: right;\n",
       "    }\n",
       "</style>\n",
       "<table border=\"1\" class=\"dataframe\">\n",
       "  <thead>\n",
       "    <tr style=\"text-align: right;\">\n",
       "      <th></th>\n",
       "      <th>index</th>\n",
       "      <th>次數</th>\n",
       "    </tr>\n",
       "  </thead>\n",
       "  <tbody>\n",
       "    <tr>\n",
       "      <th>0</th>\n",
       "      <td>0.44</td>\n",
       "      <td>2223</td>\n",
       "    </tr>\n",
       "    <tr>\n",
       "      <th>1</th>\n",
       "      <td>0.41</td>\n",
       "      <td>44</td>\n",
       "    </tr>\n",
       "    <tr>\n",
       "      <th>2</th>\n",
       "      <td>0.45</td>\n",
       "      <td>3041</td>\n",
       "    </tr>\n",
       "    <tr>\n",
       "      <th>3</th>\n",
       "      <td>0.47</td>\n",
       "      <td>972</td>\n",
       "    </tr>\n",
       "    <tr>\n",
       "      <th>4</th>\n",
       "      <td>0.46</td>\n",
       "      <td>2283</td>\n",
       "    </tr>\n",
       "    <tr>\n",
       "      <th>5</th>\n",
       "      <td>0.48</td>\n",
       "      <td>212</td>\n",
       "    </tr>\n",
       "    <tr>\n",
       "      <th>6</th>\n",
       "      <td>0.43</td>\n",
       "      <td>935</td>\n",
       "    </tr>\n",
       "    <tr>\n",
       "      <th>7</th>\n",
       "      <td>0.42</td>\n",
       "      <td>255</td>\n",
       "    </tr>\n",
       "    <tr>\n",
       "      <th>8</th>\n",
       "      <td>0.49</td>\n",
       "      <td>34</td>\n",
       "    </tr>\n",
       "    <tr>\n",
       "      <th>9</th>\n",
       "      <td>0.50</td>\n",
       "      <td>1</td>\n",
       "    </tr>\n",
       "  </tbody>\n",
       "</table>\n",
       "</div>"
      ],
      "text/plain": [
       "   index    次數\n",
       "0   0.44  2223\n",
       "1   0.41    44\n",
       "2   0.45  3041\n",
       "3   0.47   972\n",
       "4   0.46  2283\n",
       "5   0.48   212\n",
       "6   0.43   935\n",
       "7   0.42   255\n",
       "8   0.49    34\n",
       "9   0.50     1"
      ]
     },
     "execution_count": 69,
     "metadata": {},
     "output_type": "execute_result"
    }
   ],
   "source": [
    "from collections import Counter\n",
    "poi_count=Counter([round(i,2) for i in poi_rand])\n",
    "sq_count=Counter([round(i,2) for i in sq_rand])\n",
    "pd.DataFrame.from_dict(poi_count, orient='index').rename(columns={'index':'RMSE',0:'次數'}).reset_index()"
   ]
  },
  {
   "cell_type": "code",
   "execution_count": 28,
   "metadata": {},
   "outputs": [
    {
     "data": {
      "image/png": "[encoded data removed]",
      "text/plain": [
       "<Figure size 432x288 with 1 Axes>"
      ]
     },
     "metadata": {
      "needs_background": "light"
     },
     "output_type": "display_data"
    }
   ],
   "source": [
    "# plt.figure(figsize=(15,5))\n",
    "plt.hist(poi_rand, label='模型結果 ',edgeColor = 'black',color='g', alpha = 1)\n",
    "# plt.hist(NB_rand, label='Negative Binomial ',edgeColor = 'black',color='g', alpha = 0.5)\n",
    "plt.hist(sq_rand, label='模擬隨機結果',edgeColor = 'black')\n",
    "plt.rcParams['font.sans-serif'] = ['Microsoft JhengHei'] \n",
    "plt.rcParams['axes.unicode_minus'] = False\n",
    "plt.xlim(0,0.7)\n",
    "plt.xticks(np.arange(0,0.8,0.1))\n",
    "plt.xlabel('RMSE', fontsize=15)\n",
    "plt.ylabel('次數', fontsize=15,rotation=0,labelpad=20)\n",
    "# plt.axvline(p_rmse, label='Poisson',linestyle='--',c='r')\n",
    "# plt.axvline(NB_rmse, label='Negative Binomial',linestyle='--',c='g')\n",
    "plt.legend(bbox_to_anchor=(0,1.02,1,0.2), fontsize=12, loc=\"lower left\",mode=\"expand\", borderaxespad=0, ncol=4)\n",
    "plt.show()"
   ]
  },
  {
   "cell_type": "code",
   "execution_count": 28,
   "metadata": {},
   "outputs": [],
   "source": [
    "# 以下兩種方法二選一，是否要用分數區間(每10分)\n",
    "# per=lambda x,y:(x>=np.percentile([x.min(),x.max()], y)) & (x<np.percentile([x.min(),x.max()], y+10)) if y<90 else x>=np.percentile([x.min(),x.max()], y)\n",
    "per=lambda x,y:(x>=np.percentile(x, y)) & (x<np.percentile(x, y+10)) if y<90 else x>=np.percentile(x, y)\n",
    "區間,次數,總數,風險等級=[],[],[],[]\n",
    "x=result['權重-預測不合格率']\n",
    "for i in range(0,100,10):\n",
    "    區間.append(i)\n",
    "    次數.append(result[per(x, i)]['TEST_不合格次數'].sum())\n",
    "    總數.append(x.count()-per(x, i).value_counts()[0])\n",
    "    風險等級.append(round(np.percentile(x, i)*100)-1)\n",
    "#     風險等級.append(round(np.percentile([x.min(),x.max()], i)*100)-1)"
   ]
  },
  {
   "cell_type": "code",
   "execution_count": 33,
   "metadata": {},
   "outputs": [],
   "source": [
    "x=result.sort_values(['權重-預測不合格率'])\n",
    "區間,次數,總數,風險等級=[],[],[],[]\n",
    "分割=[i for i in range(0,len(x),round(len(x)/10))]\n",
    "分割.append(len(x)-1)\n",
    "\n",
    "for i in range(0,10):\n",
    "    區間.append(i*10)\n",
    "    次數.append(x[分割[i]:分割[i+1]]['TEST_不合格次數'].astype(bool).sum())\n",
    "    總數.append(len(x[分割[i]:分割[i+1]]))\n",
    "    風險等級.append(str(x.iloc[分割[i],:]['風險等級'])+'-'+str(x.iloc[分割[i+1],:]['風險等級']))"
   ]
  },
  {
   "cell_type": "code",
   "execution_count": 34,
   "metadata": {
    "scrolled": false
   },
   "outputs": [
    {
     "name": "stderr",
     "output_type": "stream",
     "text": [
      "C:\\Users\\6506\\Anaconda3\\lib\\site-packages\\ipykernel_launcher.py:3: SettingWithCopyWarning: \n",
      "A value is trying to be set on a copy of a slice from a DataFrame\n",
      "\n",
      "See the caveats in the documentation: https://pandas.pydata.org/pandas-docs/stable/user_guide/indexing.html#returning-a-view-versus-a-copy\n",
      "  This is separate from the ipykernel package so we can avoid doing imports until\n"
     ]
    },
    {
     "data": {
      "text/html": [
       "<div>\n",
       "<style scoped>\n",
       "    .dataframe tbody tr th:only-of-type {\n",
       "        vertical-align: middle;\n",
       "    }\n",
       "\n",
       "    .dataframe tbody tr th {\n",
       "        vertical-align: top;\n",
       "    }\n",
       "\n",
       "    .dataframe thead th {\n",
       "        text-align: right;\n",
       "    }\n",
       "</style>\n",
       "<table border=\"1\" class=\"dataframe\">\n",
       "  <thead>\n",
       "    <tr style=\"text-align: right;\">\n",
       "      <th></th>\n",
       "      <th>不合格家數</th>\n",
       "      <th>總稽查家數</th>\n",
       "      <th>風險等級</th>\n",
       "      <th>百分等級</th>\n",
       "      <th>不合格率</th>\n",
       "    </tr>\n",
       "  </thead>\n",
       "  <tbody>\n",
       "    <tr>\n",
       "      <th>0</th>\n",
       "      <td>12</td>\n",
       "      <td>111</td>\n",
       "      <td>1-18</td>\n",
       "      <td>0-10</td>\n",
       "      <td>0.108</td>\n",
       "    </tr>\n",
       "    <tr>\n",
       "      <th>10</th>\n",
       "      <td>16</td>\n",
       "      <td>111</td>\n",
       "      <td>18-18</td>\n",
       "      <td>10-20</td>\n",
       "      <td>0.144</td>\n",
       "    </tr>\n",
       "    <tr>\n",
       "      <th>20</th>\n",
       "      <td>25</td>\n",
       "      <td>111</td>\n",
       "      <td>18-20</td>\n",
       "      <td>20-30</td>\n",
       "      <td>0.225</td>\n",
       "    </tr>\n",
       "    <tr>\n",
       "      <th>30</th>\n",
       "      <td>11</td>\n",
       "      <td>111</td>\n",
       "      <td>20-21</td>\n",
       "      <td>30-40</td>\n",
       "      <td>0.099</td>\n",
       "    </tr>\n",
       "    <tr>\n",
       "      <th>40</th>\n",
       "      <td>30</td>\n",
       "      <td>111</td>\n",
       "      <td>21-23</td>\n",
       "      <td>40-50</td>\n",
       "      <td>0.270</td>\n",
       "    </tr>\n",
       "    <tr>\n",
       "      <th>50</th>\n",
       "      <td>26</td>\n",
       "      <td>111</td>\n",
       "      <td>23-27</td>\n",
       "      <td>50-60</td>\n",
       "      <td>0.234</td>\n",
       "    </tr>\n",
       "    <tr>\n",
       "      <th>60</th>\n",
       "      <td>31</td>\n",
       "      <td>111</td>\n",
       "      <td>27-29</td>\n",
       "      <td>60-70</td>\n",
       "      <td>0.279</td>\n",
       "    </tr>\n",
       "    <tr>\n",
       "      <th>70</th>\n",
       "      <td>35</td>\n",
       "      <td>111</td>\n",
       "      <td>29-34</td>\n",
       "      <td>70-80</td>\n",
       "      <td>0.315</td>\n",
       "    </tr>\n",
       "    <tr>\n",
       "      <th>80</th>\n",
       "      <td>60</td>\n",
       "      <td>111</td>\n",
       "      <td>34-52</td>\n",
       "      <td>80-90</td>\n",
       "      <td>0.541</td>\n",
       "    </tr>\n",
       "    <tr>\n",
       "      <th>90</th>\n",
       "      <td>74</td>\n",
       "      <td>109</td>\n",
       "      <td>52-99</td>\n",
       "      <td>90-100</td>\n",
       "      <td>0.679</td>\n",
       "    </tr>\n",
       "  </tbody>\n",
       "</table>\n",
       "</div>"
      ],
      "text/plain": [
       "    不合格家數  總稽查家數   風險等級    百分等級   不合格率\n",
       "0      12    111   1-18    0-10  0.108\n",
       "10     16    111  18-18   10-20  0.144\n",
       "20     25    111  18-20   20-30  0.225\n",
       "30     11    111  20-21   30-40  0.099\n",
       "40     30    111  21-23   40-50  0.270\n",
       "50     26    111  23-27   50-60  0.234\n",
       "60     31    111  27-29   60-70  0.279\n",
       "70     35    111  29-34   70-80  0.315\n",
       "80     60    111  34-52   80-90  0.541\n",
       "90     74    109  52-99  90-100  0.679"
      ]
     },
     "execution_count": 34,
     "metadata": {},
     "output_type": "execute_result"
    }
   ],
   "source": [
    "# pd.set_option('display.float_format', lambda x: '%.2f' % x)\n",
    "percent = pd.DataFrame(data={'不合格家數': 次數,'總稽查家數':總數,'風險等級':風險等級},index=區間)\n",
    "percent['風險等級'][percent['風險等級']==-1]=0\n",
    "percent['百分等級']=[str(i)+'-'+str(i+10) for i in 區間]\n",
    "percent['不合格率']=round(percent['不合格家數']*1.0/percent['總稽查家數'],3)\n",
    "percent"
   ]
  },
  {
   "cell_type": "code",
   "execution_count": 35,
   "metadata": {},
   "outputs": [
    {
     "data": {
      "text/plain": [
       "<matplotlib.legend.Legend at 0x28bfe7a3148>"
      ]
     },
     "execution_count": 35,
     "metadata": {},
     "output_type": "execute_result"
    },
    {
     "data": {
      "image/png": "[encoded data removed]",
      "text/plain": [
       "<Figure size 432x288 with 1 Axes>"
      ]
     },
     "metadata": {
      "needs_background": "light"
     },
     "output_type": "display_data"
    }
   ],
   "source": [
    "plt.bar(percent.index,percent['不合格家數'], label='不合格家數 ',edgeColor = 'black', width=10,align='edge')\n",
    "plt.bar(percent.index,percent['總稽查家數']-percent['不合格家數'], label='總家數 ',edgeColor = 'black', width=10,align='edge',bottom=percent['不合格家數'],color='w')\n",
    "plt.rcParams['font.sans-serif'] = ['Microsoft JhengHei'] \n",
    "plt.rcParams['axes.unicode_minus'] = False\n",
    "plt.xlim(0,100)\n",
    "plt.xticks(np.arange(0,100,10))\n",
    "plt.xlabel('百分等級', fontsize=15)\n",
    "plt.ylabel('家數', fontsize=15,rotation=0,labelpad=40)\n",
    "plt.legend(bbox_to_anchor=(0,1.02,1,0.2), loc=\"lower left\",mode=\"expand\", borderaxespad=0, ncol=4)"
   ]
  },
  {
   "cell_type": "code",
   "execution_count": null,
   "metadata": {},
   "outputs": [],
   "source": [
    "# for i in np.arange(0,1,0.1):\n",
    "#     print(i)"
   ]
  },
  {
   "cell_type": "code",
   "execution_count": null,
   "metadata": {},
   "outputs": [],
   "source": [
    "result['不合格次數'][(result['預測不合格率']>0)&(result['預測不合格率']<0.2)]"
   ]
  },
  {
   "cell_type": "code",
   "execution_count": null,
   "metadata": {},
   "outputs": [],
   "source": [
    "# def rank_test(covariates, groups):\n",
    "#     colnames = list(covariates.columns)\n",
    "#     J = len(colnames)\n",
    "#     pvalues = np.zeros(J)\n",
    "#     for j in range(J):\n",
    "#         var = covariates[colnames[j]]\n",
    "#         res = ranksums(var[groups == 1], var[groups == 0])\n",
    "#         pvalues[j] = res.pvalue\n",
    "#     return pvalues "
   ]
  },
  {
   "cell_type": "code",
   "execution_count": null,
   "metadata": {},
   "outputs": [],
   "source": [
    "df[df.columns[1]]"
   ]
  },
  {
   "cell_type": "markdown",
   "metadata": {},
   "source": [
    "# package"
   ]
  },
  {
   "cell_type": "code",
   "execution_count": 1,
   "metadata": {},
   "outputs": [],
   "source": [
    "import os\n",
    "os.chdir('C:/Users/6506/Anaconda3/Lib/N428/')"
   ]
  },
  {
   "cell_type": "markdown",
   "metadata": {},
   "source": [
    "## init"
   ]
  },
  {
   "cell_type": "code",
   "execution_count": 31,
   "metadata": {},
   "outputs": [
    {
     "name": "stdout",
     "output_type": "stream",
     "text": [
      "Overwriting __init__.py\n"
     ]
    }
   ],
   "source": [
    "%%file __init__.py\n",
    "\n",
    "# In[1]:\n",
    "\n",
    "\n",
    "import pandas as pd\n",
    "from patsy import dmatrices\n",
    "import numpy as np\n",
    "import statsmodels.api as sm\n",
    "import matplotlib.pyplot as plt\n",
    "import warnings\n",
    "from sklearn.ensemble import RandomForestClassifier\n",
    "\n",
    "#Create the training and testing data sets.\n",
    "def data_input(data):\n",
    "    df0 = pd.read_csv('C:/Users/6506/Desktop/FDA/N428_後市場/SQL/dataset/'+data+'.csv',header=0, index_col=[4],encoding='utf-8')\n",
    "    df=df0.fillna(0)\n",
    "    df=df.drop(columns=['縣市'])\n",
    "    df=df.drop(columns=['黑名單廠商'])\n",
    "    return df\n",
    "print('請選擇稽查項目\\n 1.GHP 2.抽驗 3.標示')\n",
    "\n",
    "def dic(x):\n",
    "    return {\n",
    "        '製造': data_input('製造'),\n",
    "        '輸入': data_input('輸入'),\n",
    "        '販賣': data_input('販賣'),\n",
    "        '餐飲': data_input('餐飲'),\n",
    "        '物流': data_input('物流'),\n",
    "    }[x]\n",
    "\n",
    "# In[2]:\n",
    "def select_model(project=None,inspect=None,main=None,sec=None,sec2=None,count_total=None,count_fault=None,mode=None):\n",
    "    \n",
    "    warnings.filterwarnings(\"ignore\")    \n",
    "    \n",
    "    # In[3]:\n",
    "    df=dic(main)    \n",
    "    df=df[df['稽查項目']==inspect]\n",
    "    \n",
    "    \n",
    "    # In[45]:\n",
    "\n",
    "\n",
    "    train=df['TRAIN_總稽查次數']>0\n",
    "    test=df['TEST_總稽查次數']>0    \n",
    "    \n",
    "    # In[50]:\n",
    "    if sec is not None:\n",
    "        train=train &  (df['次類別']==sec)\n",
    "        test=test &  (df['次類別']==sec)  \n",
    "        \n",
    "    if sec2 is not None:\n",
    "        test=test &  (df['次類別']==sec2)\n",
    "        sec=sec2\n",
    "    # df_train=df_train[(df_train['稽查項目']=='GHP')]\n",
    "    # test=test & (df['稽查項目']=='GHP') & (df['次類別']=='地區性特產食品')\n",
    "    # test=~train & (df['稽查項目']=='GHP') & (df['次類別']=='餐盒食品')    \n",
    "\n",
    "    \n",
    "    # In[36]:\n",
    "\n",
    "\n",
    "    df['業別組合']=df['是否為製造加工業'].map(str)\n",
    "    for i in ['是否為餐飲業','是否為輸入業','是否為販售業','是否為物流業']:\n",
    "        df['業別組合']+=df[i].map(str)\n",
    "    distinct=df['業別組合'].drop_duplicates().tolist()\n",
    "    industry=['、製造','、餐飲','、輸入','、販售','、物流']\n",
    "    for i in distinct:\n",
    "        name='是否兼具'\n",
    "        condition=df['業別組合'].notnull()\n",
    "        for j in range(5):\n",
    "            if i[j]=='1':\n",
    "                name+=industry[j]\n",
    "                condition=condition&(df['業別組合'].str[j]=='1')\n",
    "    #     condition=condition&(df['業別組合']==i)\n",
    "        name+='業'\n",
    "        name=name.replace('具、','具')\n",
    "        df[name]=condition.astype(int)\n",
    "    # df.groupby(['業別組合'])['業別組合'].count()\n",
    "\n",
    "\n",
    "    # In[5]:\n",
    "\n",
    "\n",
    "    #transform category variable type\n",
    "    # d=df.dtypes==object\n",
    "    # i=d[d==True].index[1:]\n",
    "    # df[i]=df[i].apply(lambda x: x.astype('category'))\n",
    "\n",
    "\n",
    "    # In[44]:\n",
    "\n",
    "\n",
    "    startpoint=df.columns.get_loc('主類別數')\n",
    "    d=df.iloc[:,startpoint:].isin([0,1]).all()\n",
    "    cate=d[d==True].index\n",
    "    cont=d[d==False].index\n",
    "    # 扣掉業別組合\n",
    "    cont=cont[:-1]\n",
    "\n",
    "\n",
    "    # In[29]:\n",
    "\n",
    "\n",
    "    #StandardScaler\n",
    "    from sklearn import preprocessing\n",
    "    # df['資本總額元']=preprocessing.StandardScaler().fit_transform(df[['資本總額元']])\n",
    "    # df[cont]=preprocessing.StandardScaler().fit_transform(df[cont])\n",
    "\n",
    "\n",
    "    # In[46]:\n",
    "\n",
    "\n",
    "    # defect=lambda x:x['不合格次數']/x['總稽查次數']\n",
    "    defect=(df['TRAIN_不合格次數']/df['TRAIN_總稽查次數']).fillna(0)\n",
    "    TEST_defect=(df['TEST_不合格次數']/df['TEST_總稽查次數']).fillna(0)\n",
    "\n",
    "\n",
    "    # In[47]:\n",
    "\n",
    "\n",
    "    from scipy.stats import spearmanr,ranksums,wilcoxon,mannwhitneyu,chisquare,mstats\n",
    "    np.seterr(invalid='ignore')\n",
    "    j=[]\n",
    "\n",
    "    for i in df.columns[startpoint:]:\n",
    "        if i in cont:\n",
    "            rk=spearmanr(defect[train],df[train][i]).pvalue\n",
    "            j.append(rk)\n",
    "        else:\n",
    "            rk=ranksums(defect[train & (df[i]==1)],defect[train & (df[i]==0)]).pvalue\n",
    "            j.append(rk)\n",
    "\n",
    "\n",
    "    # In[48]:\n",
    "\n",
    "\n",
    "    verification = pd.DataFrame(j,index=df.columns[startpoint:],columns=['p-value']).fillna(1)\n",
    "    k=verification[verification['p-value']<0.05].index\n",
    "    \n",
    "    verification[verification['p-value']<0.05]\n",
    "#     print(verification.to_string())\n",
    "\n",
    "\n",
    "    # In[49]:\n",
    "\n",
    "\n",
    "    capital=[df['資本總額元']<100000\n",
    "             ,(df['資本總額元']>=100000) & (df['資本總額元']<1000000)\n",
    "             ,(df['資本總額元']>=1000000) & (df['資本總額元']<10000000)\n",
    "             ,(df['資本總額元']>=10000000) & (df['資本總額元']<30000000)\n",
    "             ,df['資本總額元']>=30000000]\n",
    "    try:\n",
    "        kruskal=mstats.kruskalwallis(defect[train & capital[0] ].tolist()\n",
    "                         ,defect[train & capital[1]].tolist()\n",
    "                         ,defect[train & capital[2]].tolist()\n",
    "                         ,defect[train & capital[3]].tolist()\n",
    "                         ,defect[train & capital[4]].tolist()).pvalue\n",
    "    except ZeroDivisionError:\n",
    "        kruskal = 1\n",
    "    except ValueError:\n",
    "        kruskal = 1  \n",
    "        \n",
    "    if kruskal<0.05:\n",
    "        for i in range(5):\n",
    "            df['資本額'+str(i)]=capital[i].astype(int)\n",
    "        d=df.iloc[:,startpoint:].isin([0,1]).all()\n",
    "        cate=d[d==True].index\n",
    "        k=k.append(df.columns[-5:])\n",
    "        cont=cont.delete(cont.get_loc('資本總額元'))\n",
    "        verification.loc['資本額級距']=kruskal\n",
    "        \n",
    "#     print('顯著因子='+str(len(verification[verification['p-value']<0.05])))\n",
    "    \n",
    "    if len(k)*10>len(df[train]):\n",
    "        print('樣本數不足(%d*10>%d)，使用主類別建模'%(len(k),len(df[train])))\n",
    "        select_model(project,inspect,main,sec=None,sec2=sec)\n",
    "        return\n",
    "        \n",
    "    if len(k)==0:\n",
    "        print('無顯著因子，使用主類別建模')\n",
    "        return select_model(project,inspect,main,sec=None,sec2=sec)\n",
    "\n",
    "    # In[50]:\n",
    "\n",
    "\n",
    "    df_train = df[train]\n",
    "    df_test = df[test]\n",
    "#     print('Training data set length='+str(len(df_train)))\n",
    "#     print('Testing data set length='+str(len(df_test)))\n",
    "\n",
    "#--------------------------------------------------------------------------------------------------------------\n",
    "    if mode is not None:\n",
    "        df_train=df_train.reset_index()\n",
    "        compliant=df_train.loc[df_train.index.repeat(df_train['TRAIN_總稽查次數']-df_train['TRAIN_不合格次數'])]\n",
    "        unqualified=df_train.loc[df_train.index.repeat(df_train['TRAIN_不合格次數'])]\n",
    "        compliant['稽查結果'],unqualified['稽查結果']=0,1\n",
    "        df_train=pd.concat([compliant,unqualified]).set_index('業者名稱')\n",
    "\n",
    "        df_test=df_test.reset_index()\n",
    "        compliant=df_test.loc[df_test.index.repeat(df_test['TEST_總稽查次數']-df_test['TEST_不合格次數'])]\n",
    "        unqualified=df_test.loc[df_test.index.repeat(df_test['TEST_不合格次數'])]\n",
    "        compliant['稽查結果'],unqualified['稽查結果']=0,1\n",
    "        df_test=pd.concat([compliant,unqualified]).set_index('業者名稱')\n",
    "\n",
    "        expr = '稽查結果~'+'+'.join([i for i in k if i in cont])+''.join([\"+C(Q('\"+i+\"'))\" for i in k if i in cate])\n",
    "        y_train, X_train = dmatrices(expr, df_train, return_type='dataframe')\n",
    "        y_test, X_test = dmatrices(expr, df_test, return_type='dataframe')\n",
    "        X_train, X_test = X_train.align(X_test, join='inner', axis=1)\n",
    "        clf=RandomForestClassifier(n_estimators=100).fit(X_train, y_train)\n",
    "        y_pred=clf.predict(X_test)\n",
    "        df_test['預測稽查結果']=y_pred\n",
    "        return df_test\n",
    "\n",
    "    # In[52]:\n",
    "\n",
    "\n",
    "    expr = 'TRAIN_不合格次數~'+'+'.join([i for i in k if i in cont])+''.join([\"+C(Q('\"+i+\"'))\" for i in k if i in cate])\n",
    "\n",
    "    #Set up the X and y matrices\n",
    "    y_train, X_train = dmatrices(expr, df_train, return_type='dataframe')\n",
    "    y_test, X_test = dmatrices(expr, df_test, return_type='dataframe')\n",
    "    X_train, X_test = X_train.align(X_test, join='inner', axis=1)\n",
    "    #Using the statsmodels GLM class, train the Poisson regression model on the training data set.\n",
    "    poisson_model = sm.GLM(y_train, X_train, family=sm.families.Poisson(),\n",
    "                                      exposure=df_train['TRAIN_總稽查次數']).fit()\n",
    "\n",
    "    #Print the training summary.\n",
    "#     print(poisson_model.summary())\n",
    "\n",
    "    #Make some predictions on the test data set.\n",
    "    poisson_predictions = poisson_model.get_prediction(X_test)\n",
    "    #.summary_frame() returns a pandas DataFrame\n",
    "    predictions_summary_frame = poisson_predictions.summary_frame()\n",
    "#     print(predictions_summary_frame)\n",
    "\n",
    "    predicted_counts=predictions_summary_frame['mean']\n",
    "\n",
    "    #Mlot the predicted counts versus the actual counts for the test data.\n",
    "    # fig = plt.figure()\n",
    "    # fig.suptitle('Predicted versus actual bicyclist counts on the Brooklyn bridge')\n",
    "    # predicted, = plt.plot(X_test.index, predicted_counts, 'go-', label='Predicted counts')\n",
    "    # actual, = plt.plot(X_test.index, actual_counts, 'ro-', label='Actual counts')\n",
    "    # plt.legend(handles=[predicted, actual])\n",
    "    # plt.show()\n",
    "\n",
    "    #Show scatter plot of Actual versus Predicted counts\n",
    "#     plt.clf()\n",
    "#     fig = plt.figure()\n",
    "#     fig.suptitle('Scatter plot of Actual versus Predicted counts')\n",
    "#     plt.scatter(x=predicted_counts, y=y_test, marker='.')\n",
    "#     plt.xlabel('Predicted counts')\n",
    "#     plt.ylabel('Actual counts')\n",
    "#     plt.show()\n",
    "\n",
    "\n",
    "    # In[53]:\n",
    "\n",
    "\n",
    "    NB_model = sm.GLM(y_train, X_train, family=sm.families.NegativeBinomial(alpha=0.15),\n",
    "                                      exposure=df_train['TRAIN_總稽查次數']).fit()\n",
    "    #Print the training summary.\n",
    "#     print(NB_model.summary())\n",
    "\n",
    "    #Make some predictions on the test data set.\n",
    "    NB_predictions = NB_model.get_prediction(X_test)\n",
    "    #.summary_frame() returns a pandas DataFrame\n",
    "    predictions_summary_frame = NB_predictions.summary_frame()\n",
    "#     print(predictions_summary_frame)\n",
    "\n",
    "    NB_predicted_counts=predictions_summary_frame['mean']\n",
    "\n",
    "\n",
    "    # In[54]:    \n",
    "    # RF的y要另外設定\n",
    "    from sklearn.ensemble import RandomForestRegressor\n",
    "    RF_model=RandomForestRegressor(max_depth=5).fit(X_train, defect[train].values.ravel())\n",
    "    RF_predictions=RF_model.predict(X_test)\n",
    "\n",
    "    \n",
    "    # In[55]:\n",
    "\n",
    "\n",
    "    from sklearn.metrics import mean_squared_error\n",
    "    from math import sqrt\n",
    "    p_train_predictions = poisson_model.get_prediction(X_train).summary_frame()['mean']\n",
    "    NB_train_predictions = NB_model.get_prediction(X_train).summary_frame()['mean']\n",
    "    RF_train_predictions = RF_model.predict(X_train)\n",
    "    \n",
    "    def standard(x):\n",
    "        x:x[x>1]=1\n",
    "        x:x[x<0]=0\n",
    "    \n",
    "    standard(p_train_predictions)\n",
    "    standard(NB_train_predictions)\n",
    "    standard(RF_train_predictions)\n",
    "    \n",
    "    p_rmse=sqrt(mean_squared_error(p_train_predictions,defect[train]))\n",
    "    NB_rmse=sqrt(mean_squared_error(NB_train_predictions,defect[train]))\n",
    "    RF_rmse=sqrt(mean_squared_error(RF_train_predictions,defect[train]))\n",
    "    print(p_rmse,NB_rmse,RF_rmse)\n",
    "    p_weight=(1/p_rmse)/(1/p_rmse+1/NB_rmse+1/RF_rmse)\n",
    "    NB_weight=(1/NB_rmse)/(1/p_rmse+1/NB_rmse+1/RF_rmse)\n",
    "    RF_weight=(1/RF_rmse)/(1/p_rmse+1/NB_rmse+1/RF_rmse)\n",
    "#     print('poisson權重=',p_weight,'NB權重=',NB_weight)\n",
    "\n",
    "\n",
    "    # In[56]:\n",
    "\n",
    "\n",
    "    # 選定預測範圍\n",
    "    df_all=df_test\n",
    "    # df_all=df\n",
    "    y_test, X_test = dmatrices(expr, df_all, return_type='dataframe')\n",
    "    X_train, X_test = X_train.align(X_test, join='inner', axis=1)\n",
    "    pred = poisson_model.get_prediction(X_test)\n",
    "    poi = pred.summary_frame()\n",
    "    poi.rename(columns={'mean':'P-預測不合格率'}, inplace=True)\n",
    "\n",
    "    pred = NB_model.get_prediction(X_test)\n",
    "    NB = pred.summary_frame()\n",
    "    NB.rename(columns={'mean':'NB-預測不合格率'}, inplace=True)\n",
    "    \n",
    "    RF_predictions=poi['P-預測不合格率'].rename('RF-預測不合格率')*0+RF_model.predict(X_test)\n",
    "\n",
    "    poi[poi['P-預測不合格率']>1],poi[poi['P-預測不合格率']<0]=1,0\n",
    "    NB[NB['NB-預測不合格率']>1],NB[NB['NB-預測不合格率']<0]=1,0\n",
    "    RF_predictions[RF_predictions>1],RF_predictions[RF_predictions<0]=1,0\n",
    "\n",
    "    renew=poi['P-預測不合格率']*p_weight+NB['NB-預測不合格率']*NB_weight+RF_predictions*RF_weight\n",
    "    # renew[renew>1]=1\n",
    "    score=round(renew*100)-1\n",
    "    score[score==-1]=0\n",
    "\n",
    "\n",
    "    # In[58]:\n",
    "\n",
    "\n",
    "    p_rmse=sqrt(mean_squared_error(poi['P-預測不合格率'],TEST_defect[test]))\n",
    "    NB_rmse=sqrt(mean_squared_error(NB['NB-預測不合格率'],TEST_defect[test]))\n",
    "    RF_rmse=sqrt(mean_squared_error(RF_predictions,TEST_defect[test]))\n",
    "    weight_rmse=sqrt(mean_squared_error(renew,TEST_defect[test]))\n",
    "    rand_rmse=sqrt(mean_squared_error(np.random.rand(len(TEST_defect[test])),TEST_defect[test]))\n",
    "#     print('poisson RMSE=',p_rmse,'NB RMSE=',NB_rmse,'權重 RMSE=',weight_rmse)\n",
    "\n",
    "\n",
    "    # In[59]:\n",
    "\n",
    "\n",
    "    result=pd.concat([poi['P-預測不合格率'],NB['NB-預測不合格率'],RF_predictions,renew,score,df_all],axis=1)\n",
    "    result.rename(columns={0:'權重-預測不合格率',1:'風險等級'}, inplace=True)\n",
    "    result.to_excel(r'C:\\Users\\6506\\Desktop\\result.xls',encoding='ANSI')\n",
    "    \n",
    "    output = pd.DataFrame([inspect],columns=['稽查項目'])\n",
    "    output['主類別'],output['次類別']=main,str(sec or '')+str(sec2 or '')\n",
    "    output['訓練集'],output['測試集'],output['顯著因子']=len(df_train),len(df_test),len(verification[verification['p-value']<0.05])\n",
    "    output['p_權重'],output['NB_權重'],output['RF_權重']=p_weight,NB_weight,RF_weight\n",
    "    output['p_rmse'],output['NB_rmse'],output['RF_rmse'],output['加權後_rmse'],output['隨機_rmse']=p_rmse,NB_rmse,RF_rmse,weight_rmse,rand_rmse\n",
    "    \n",
    "    # getting number of nonzeros in each column is\n",
    "    sort=result.sort_values('權重-預測不合格率',ascending=False)['TEST_不合格次數']\n",
    "    output['模型不合格家數']=sort[0:count_total].astype(bool).sum(axis=0)\n",
    "    output['應稽查家數']=sum(sort.astype(bool).cumsum()<count_fault)+1\n",
    "    \n",
    "    return output"
   ]
  },
  {
   "cell_type": "markdown",
   "metadata": {},
   "source": [
    "## execute"
   ]
  },
  {
   "cell_type": "code",
   "execution_count": 1,
   "metadata": {},
   "outputs": [],
   "source": [
    "import os\n",
    "import pandas as pd\n",
    "os.chdir('C:/Users/6506/Anaconda3/Lib/N428/')"
   ]
  },
  {
   "cell_type": "code",
   "execution_count": 2,
   "metadata": {},
   "outputs": [
    {
     "name": "stdout",
     "output_type": "stream",
     "text": [
      "請選擇稽查項目\n",
      " 1.GHP 2.抽驗 3.標示\n"
     ]
    }
   ],
   "source": [
    "import N428"
   ]
  },
  {
   "cell_type": "code",
   "execution_count": 3,
   "metadata": {},
   "outputs": [
    {
     "name": "stdout",
     "output_type": "stream",
     "text": [
      "0.3785186467877093 0.3785576076455297 0.35139338236652184\n"
     ]
    },
    {
     "data": {
      "text/html": [
       "<div>\n",
       "<style scoped>\n",
       "    .dataframe tbody tr th:only-of-type {\n",
       "        vertical-align: middle;\n",
       "    }\n",
       "\n",
       "    .dataframe tbody tr th {\n",
       "        vertical-align: top;\n",
       "    }\n",
       "\n",
       "    .dataframe thead th {\n",
       "        text-align: right;\n",
       "    }\n",
       "</style>\n",
       "<table border=\"1\" class=\"dataframe\">\n",
       "  <thead>\n",
       "    <tr style=\"text-align: right;\">\n",
       "      <th></th>\n",
       "      <th>稽查項目</th>\n",
       "      <th>主類別</th>\n",
       "      <th>次類別</th>\n",
       "      <th>訓練集</th>\n",
       "      <th>測試集</th>\n",
       "      <th>顯著因子</th>\n",
       "      <th>p_權重</th>\n",
       "      <th>NB_權重</th>\n",
       "      <th>RF_權重</th>\n",
       "      <th>p_rmse</th>\n",
       "      <th>NB_rmse</th>\n",
       "      <th>RF_rmse</th>\n",
       "      <th>加權後_rmse</th>\n",
       "      <th>隨機_rmse</th>\n",
       "      <th>模型不合格家數</th>\n",
       "      <th>應稽查家數</th>\n",
       "    </tr>\n",
       "  </thead>\n",
       "  <tbody>\n",
       "    <tr>\n",
       "      <th>0</th>\n",
       "      <td>GHP</td>\n",
       "      <td>製造</td>\n",
       "      <td>麵製品</td>\n",
       "      <td>939</td>\n",
       "      <td>271</td>\n",
       "      <td>17</td>\n",
       "      <td>0.324982</td>\n",
       "      <td>0.324949</td>\n",
       "      <td>0.350069</td>\n",
       "      <td>0.442755</td>\n",
       "      <td>0.443844</td>\n",
       "      <td>0.43576</td>\n",
       "      <td>0.438112</td>\n",
       "      <td>0.574146</td>\n",
       "      <td>68</td>\n",
       "      <td>29</td>\n",
       "    </tr>\n",
       "  </tbody>\n",
       "</table>\n",
       "</div>"
      ],
      "text/plain": [
       "  稽查項目 主類別  次類別  訓練集  測試集  顯著因子      p_權重     NB_權重     RF_權重    p_rmse  \\\n",
       "0  GHP  製造  麵製品  939  271    17  0.324982  0.324949  0.350069  0.442755   \n",
       "\n",
       "    NB_rmse  RF_rmse  加權後_rmse   隨機_rmse  模型不合格家數  應稽查家數  \n",
       "0  0.443844  0.43576  0.438112  0.574146       68     29  "
      ]
     },
     "execution_count": 3,
     "metadata": {},
     "output_type": "execute_result"
    }
   ],
   "source": [
    "N428.select_model(inspect='GHP',main='製造',sec='麵製品',count_fault=24,count_total=114)"
   ]
  },
  {
   "cell_type": "code",
   "execution_count": null,
   "metadata": {},
   "outputs": [],
   "source": [
    "N428.select_model(inspect='GHP',main='製造',sec='麵製品',mode=1)"
   ]
  },
  {
   "cell_type": "code",
   "execution_count": null,
   "metadata": {},
   "outputs": [],
   "source": [
    "append_data=[]\n",
    "for i in ['GHP','抽驗','標示']:\n",
    "    for j in ['食用冰製造業','麵製品','烘焙食品','食品添加物','米及加工品']:\n",
    "        append_data.append(N428.select_model(inspect=i,main='製造',sec=j))\n",
    "pd.concat(append_data)"
   ]
  },
  {
   "cell_type": "code",
   "execution_count": 3,
   "metadata": {},
   "outputs": [
    {
     "name": "stdout",
     "output_type": "stream",
     "text": [
      "0.3785186467877093 0.3785576076455297 0.35159801165627025\n",
      "0.3672849561251738 0.3666906560858663 0.3633106764957897\n",
      "0.3615459079089717 0.3610564174234935 0.33895186030853747\n",
      "0.3873676919827543 0.3867164971182788 0.3810681686985692\n",
      "0.26928617280152073 0.26926653184970206 0.24762887578996037\n",
      "0.27733522591716125 0.2772936111156418 0.24383104286576732\n",
      "0.38071034121766445 0.3785074452374524 0.37345525956326897\n",
      "0.197018820391719 0.19726609998739322 0.1851959836883578\n",
      "0.14176425045978053 0.14173754020400536 0.13900865455340736\n",
      "0.19847478362979612 0.19785205040437248 0.18992757562697468\n",
      "0.3903653336545186 0.38951045915007027 0.3859405444272709\n",
      "0.14176425045978053 0.14173754020400536 0.13910281318680154\n",
      "0.15058158807052582 0.1504593440445302 0.1436632493281826\n",
      "0.32195584298640334 0.321675314774709 0.3181861386325473\n",
      "0.32195584298640334 0.321675314774709 0.3182068995920594\n",
      "0.30335869916837316 0.30334746623359854 0.2997022113508632\n"
     ]
    },
    {
     "data": {
      "text/html": [
       "<div>\n",
       "<style scoped>\n",
       "    .dataframe tbody tr th:only-of-type {\n",
       "        vertical-align: middle;\n",
       "    }\n",
       "\n",
       "    .dataframe tbody tr th {\n",
       "        vertical-align: top;\n",
       "    }\n",
       "\n",
       "    .dataframe thead th {\n",
       "        text-align: right;\n",
       "    }\n",
       "</style>\n",
       "<table border=\"1\" class=\"dataframe\">\n",
       "  <thead>\n",
       "    <tr style=\"text-align: right;\">\n",
       "      <th></th>\n",
       "      <th>稽查項目</th>\n",
       "      <th>主類別</th>\n",
       "      <th>次類別</th>\n",
       "      <th>訓練集</th>\n",
       "      <th>測試集</th>\n",
       "      <th>顯著因子</th>\n",
       "      <th>p_權重</th>\n",
       "      <th>NB_權重</th>\n",
       "      <th>RF_權重</th>\n",
       "      <th>p_rmse</th>\n",
       "      <th>NB_rmse</th>\n",
       "      <th>RF_rmse</th>\n",
       "      <th>加權後_rmse</th>\n",
       "      <th>隨機_rmse</th>\n",
       "      <th>模型不合格家數</th>\n",
       "      <th>應稽查家數</th>\n",
       "    </tr>\n",
       "  </thead>\n",
       "  <tbody>\n",
       "    <tr>\n",
       "      <th>0</th>\n",
       "      <td>GHP</td>\n",
       "      <td>製造</td>\n",
       "      <td>麵製品</td>\n",
       "      <td>939</td>\n",
       "      <td>271</td>\n",
       "      <td>17</td>\n",
       "      <td>0.328596</td>\n",
       "      <td>0.328575</td>\n",
       "      <td>0.342829</td>\n",
       "      <td>0.442755</td>\n",
       "      <td>0.443844</td>\n",
       "      <td>0.435624</td>\n",
       "      <td>0.437821</td>\n",
       "      <td>0.535651</td>\n",
       "      <td>47</td>\n",
       "      <td>78</td>\n",
       "    </tr>\n",
       "    <tr>\n",
       "      <th>0</th>\n",
       "      <td>GHP</td>\n",
       "      <td>製造</td>\n",
       "      <td>食用冰製造業</td>\n",
       "      <td>145</td>\n",
       "      <td>84</td>\n",
       "      <td>3</td>\n",
       "      <td>0.332533</td>\n",
       "      <td>0.332845</td>\n",
       "      <td>0.334622</td>\n",
       "      <td>0.469701</td>\n",
       "      <td>0.468218</td>\n",
       "      <td>0.467847</td>\n",
       "      <td>0.467931</td>\n",
       "      <td>0.577898</td>\n",
       "      <td>22</td>\n",
       "      <td>73</td>\n",
       "    </tr>\n",
       "    <tr>\n",
       "      <th>0</th>\n",
       "      <td>GHP</td>\n",
       "      <td>製造</td>\n",
       "      <td>大豆製品</td>\n",
       "      <td>509</td>\n",
       "      <td>203</td>\n",
       "      <td>7</td>\n",
       "      <td>0.329364</td>\n",
       "      <td>0.329616</td>\n",
       "      <td>0.341020</td>\n",
       "      <td>0.362454</td>\n",
       "      <td>0.362642</td>\n",
       "      <td>0.364955</td>\n",
       "      <td>0.361047</td>\n",
       "      <td>0.512229</td>\n",
       "      <td>45</td>\n",
       "      <td>32</td>\n",
       "    </tr>\n",
       "    <tr>\n",
       "      <th>0</th>\n",
       "      <td>GHP</td>\n",
       "      <td>製造</td>\n",
       "      <td>烘焙食品</td>\n",
       "      <td>2565</td>\n",
       "      <td>920</td>\n",
       "      <td>9</td>\n",
       "      <td>0.332077</td>\n",
       "      <td>0.332430</td>\n",
       "      <td>0.335492</td>\n",
       "      <td>0.383437</td>\n",
       "      <td>0.383948</td>\n",
       "      <td>0.385867</td>\n",
       "      <td>0.383850</td>\n",
       "      <td>0.570225</td>\n",
       "      <td>116</td>\n",
       "      <td>183</td>\n",
       "    </tr>\n",
       "    <tr>\n",
       "      <th>0</th>\n",
       "      <td>GHP</td>\n",
       "      <td>製造</td>\n",
       "      <td>其他食品用器具</td>\n",
       "      <td>450</td>\n",
       "      <td>61</td>\n",
       "      <td>4</td>\n",
       "      <td>0.330069</td>\n",
       "      <td>0.330078</td>\n",
       "      <td>0.339852</td>\n",
       "      <td>0.266796</td>\n",
       "      <td>0.266692</td>\n",
       "      <td>0.264520</td>\n",
       "      <td>0.265472</td>\n",
       "      <td>0.586522</td>\n",
       "      <td>4</td>\n",
       "      <td>2</td>\n",
       "    </tr>\n",
       "    <tr>\n",
       "      <th>0</th>\n",
       "      <td>GHP</td>\n",
       "      <td>製造</td>\n",
       "      <td>食品添加物</td>\n",
       "      <td>259</td>\n",
       "      <td>75</td>\n",
       "      <td>4</td>\n",
       "      <td>0.328254</td>\n",
       "      <td>0.328273</td>\n",
       "      <td>0.343473</td>\n",
       "      <td>0.326186</td>\n",
       "      <td>0.325430</td>\n",
       "      <td>0.324217</td>\n",
       "      <td>0.323117</td>\n",
       "      <td>0.589382</td>\n",
       "      <td>12</td>\n",
       "      <td>76</td>\n",
       "    </tr>\n",
       "    <tr>\n",
       "      <th>0</th>\n",
       "      <td>GHP</td>\n",
       "      <td>製造</td>\n",
       "      <td>醃漬蔬果</td>\n",
       "      <td>317</td>\n",
       "      <td>100</td>\n",
       "      <td>2</td>\n",
       "      <td>0.331645</td>\n",
       "      <td>0.332825</td>\n",
       "      <td>0.335530</td>\n",
       "      <td>0.278149</td>\n",
       "      <td>0.280772</td>\n",
       "      <td>0.300183</td>\n",
       "      <td>0.284609</td>\n",
       "      <td>0.622988</td>\n",
       "      <td>14</td>\n",
       "      <td>14</td>\n",
       "    </tr>\n",
       "    <tr>\n",
       "      <th>0</th>\n",
       "      <td>GHP</td>\n",
       "      <td>販賣</td>\n",
       "      <td>一般超市</td>\n",
       "      <td>2213</td>\n",
       "      <td>817</td>\n",
       "      <td>9</td>\n",
       "      <td>0.331739</td>\n",
       "      <td>0.331637</td>\n",
       "      <td>0.336624</td>\n",
       "      <td>0.167843</td>\n",
       "      <td>0.167656</td>\n",
       "      <td>0.167946</td>\n",
       "      <td>0.166876</td>\n",
       "      <td>0.570819</td>\n",
       "      <td>24</td>\n",
       "      <td>340</td>\n",
       "    </tr>\n",
       "    <tr>\n",
       "      <th>0</th>\n",
       "      <td>抽驗</td>\n",
       "      <td>販賣</td>\n",
       "      <td>雜貨</td>\n",
       "      <td>2177</td>\n",
       "      <td>695</td>\n",
       "      <td>4</td>\n",
       "      <td>0.332974</td>\n",
       "      <td>0.332984</td>\n",
       "      <td>0.334043</td>\n",
       "      <td>0.168890</td>\n",
       "      <td>0.168909</td>\n",
       "      <td>0.172534</td>\n",
       "      <td>0.169723</td>\n",
       "      <td>0.572619</td>\n",
       "      <td>27</td>\n",
       "      <td>56</td>\n",
       "    </tr>\n",
       "    <tr>\n",
       "      <th>0</th>\n",
       "      <td>標示</td>\n",
       "      <td>販賣</td>\n",
       "      <td>其他食品販賣業</td>\n",
       "      <td>5866</td>\n",
       "      <td>1285</td>\n",
       "      <td>12</td>\n",
       "      <td>0.332067</td>\n",
       "      <td>0.332325</td>\n",
       "      <td>0.335608</td>\n",
       "      <td>0.238089</td>\n",
       "      <td>0.237140</td>\n",
       "      <td>0.232443</td>\n",
       "      <td>0.235107</td>\n",
       "      <td>0.587409</td>\n",
       "      <td>19</td>\n",
       "      <td>1</td>\n",
       "    </tr>\n",
       "    <tr>\n",
       "      <th>0</th>\n",
       "      <td>GHP</td>\n",
       "      <td>餐飲</td>\n",
       "      <td>一般餐廳</td>\n",
       "      <td>24516</td>\n",
       "      <td>7891</td>\n",
       "      <td>21</td>\n",
       "      <td>0.332374</td>\n",
       "      <td>0.332840</td>\n",
       "      <td>0.334786</td>\n",
       "      <td>0.426234</td>\n",
       "      <td>0.425433</td>\n",
       "      <td>0.424016</td>\n",
       "      <td>0.424134</td>\n",
       "      <td>0.560157</td>\n",
       "      <td>0</td>\n",
       "      <td>1</td>\n",
       "    </tr>\n",
       "    <tr>\n",
       "      <th>0</th>\n",
       "      <td>抽驗</td>\n",
       "      <td>販賣</td>\n",
       "      <td>雜貨</td>\n",
       "      <td>2177</td>\n",
       "      <td>695</td>\n",
       "      <td>4</td>\n",
       "      <td>0.332986</td>\n",
       "      <td>0.332996</td>\n",
       "      <td>0.334018</td>\n",
       "      <td>0.168890</td>\n",
       "      <td>0.168909</td>\n",
       "      <td>0.172177</td>\n",
       "      <td>0.169648</td>\n",
       "      <td>0.552604</td>\n",
       "      <td>0</td>\n",
       "      <td>1</td>\n",
       "    </tr>\n",
       "    <tr>\n",
       "      <th>0</th>\n",
       "      <td>標示</td>\n",
       "      <td>販賣</td>\n",
       "      <td>雜貨</td>\n",
       "      <td>4217</td>\n",
       "      <td>963</td>\n",
       "      <td>14</td>\n",
       "      <td>0.332415</td>\n",
       "      <td>0.332463</td>\n",
       "      <td>0.335122</td>\n",
       "      <td>0.184468</td>\n",
       "      <td>0.184298</td>\n",
       "      <td>0.182547</td>\n",
       "      <td>0.183309</td>\n",
       "      <td>0.563589</td>\n",
       "      <td>0</td>\n",
       "      <td>1</td>\n",
       "    </tr>\n",
       "    <tr>\n",
       "      <th>0</th>\n",
       "      <td>GHP</td>\n",
       "      <td>餐飲</td>\n",
       "      <td>飲料店業</td>\n",
       "      <td>8089</td>\n",
       "      <td>2679</td>\n",
       "      <td>18</td>\n",
       "      <td>0.332671</td>\n",
       "      <td>0.332809</td>\n",
       "      <td>0.334520</td>\n",
       "      <td>0.352617</td>\n",
       "      <td>0.352361</td>\n",
       "      <td>0.352378</td>\n",
       "      <td>0.351972</td>\n",
       "      <td>0.564591</td>\n",
       "      <td>181</td>\n",
       "      <td>191</td>\n",
       "    </tr>\n",
       "    <tr>\n",
       "      <th>0</th>\n",
       "      <td>GHP</td>\n",
       "      <td>餐飲</td>\n",
       "      <td>飲料店業</td>\n",
       "      <td>8089</td>\n",
       "      <td>2679</td>\n",
       "      <td>18</td>\n",
       "      <td>0.332674</td>\n",
       "      <td>0.332812</td>\n",
       "      <td>0.334514</td>\n",
       "      <td>0.352617</td>\n",
       "      <td>0.352361</td>\n",
       "      <td>0.352222</td>\n",
       "      <td>0.351942</td>\n",
       "      <td>0.580479</td>\n",
       "      <td>63</td>\n",
       "      <td>86</td>\n",
       "    </tr>\n",
       "    <tr>\n",
       "      <th>0</th>\n",
       "      <td>GHP</td>\n",
       "      <td>餐飲</td>\n",
       "      <td>早餐業</td>\n",
       "      <td>5502</td>\n",
       "      <td>1678</td>\n",
       "      <td>20</td>\n",
       "      <td>0.332749</td>\n",
       "      <td>0.332755</td>\n",
       "      <td>0.334496</td>\n",
       "      <td>0.375718</td>\n",
       "      <td>0.375791</td>\n",
       "      <td>0.378214</td>\n",
       "      <td>0.376078</td>\n",
       "      <td>0.566097</td>\n",
       "      <td>113</td>\n",
       "      <td>132</td>\n",
       "    </tr>\n",
       "  </tbody>\n",
       "</table>\n",
       "</div>"
      ],
      "text/plain": [
       "  稽查項目 主類別      次類別    訓練集   測試集  顯著因子      p_權重     NB_權重     RF_權重  \\\n",
       "0  GHP  製造      麵製品    939   271    17  0.328596  0.328575  0.342829   \n",
       "0  GHP  製造   食用冰製造業    145    84     3  0.332533  0.332845  0.334622   \n",
       "0  GHP  製造     大豆製品    509   203     7  0.329364  0.329616  0.341020   \n",
       "0  GHP  製造     烘焙食品   2565   920     9  0.332077  0.332430  0.335492   \n",
       "0  GHP  製造  其他食品用器具    450    61     4  0.330069  0.330078  0.339852   \n",
       "0  GHP  製造    食品添加物    259    75     4  0.328254  0.328273  0.343473   \n",
       "0  GHP  製造     醃漬蔬果    317   100     2  0.331645  0.332825  0.335530   \n",
       "0  GHP  販賣     一般超市   2213   817     9  0.331739  0.331637  0.336624   \n",
       "0   抽驗  販賣       雜貨   2177   695     4  0.332974  0.332984  0.334043   \n",
       "0   標示  販賣  其他食品販賣業   5866  1285    12  0.332067  0.332325  0.335608   \n",
       "0  GHP  餐飲     一般餐廳  24516  7891    21  0.332374  0.332840  0.334786   \n",
       "0   抽驗  販賣       雜貨   2177   695     4  0.332986  0.332996  0.334018   \n",
       "0   標示  販賣       雜貨   4217   963    14  0.332415  0.332463  0.335122   \n",
       "0  GHP  餐飲     飲料店業   8089  2679    18  0.332671  0.332809  0.334520   \n",
       "0  GHP  餐飲     飲料店業   8089  2679    18  0.332674  0.332812  0.334514   \n",
       "0  GHP  餐飲      早餐業   5502  1678    20  0.332749  0.332755  0.334496   \n",
       "\n",
       "     p_rmse   NB_rmse   RF_rmse  加權後_rmse   隨機_rmse  模型不合格家數  應稽查家數  \n",
       "0  0.442755  0.443844  0.435624  0.437821  0.535651       47     78  \n",
       "0  0.469701  0.468218  0.467847  0.467931  0.577898       22     73  \n",
       "0  0.362454  0.362642  0.364955  0.361047  0.512229       45     32  \n",
       "0  0.383437  0.383948  0.385867  0.383850  0.570225      116    183  \n",
       "0  0.266796  0.266692  0.264520  0.265472  0.586522        4      2  \n",
       "0  0.326186  0.325430  0.324217  0.323117  0.589382       12     76  \n",
       "0  0.278149  0.280772  0.300183  0.284609  0.622988       14     14  \n",
       "0  0.167843  0.167656  0.167946  0.166876  0.570819       24    340  \n",
       "0  0.168890  0.168909  0.172534  0.169723  0.572619       27     56  \n",
       "0  0.238089  0.237140  0.232443  0.235107  0.587409       19      1  \n",
       "0  0.426234  0.425433  0.424016  0.424134  0.560157        0      1  \n",
       "0  0.168890  0.168909  0.172177  0.169648  0.552604        0      1  \n",
       "0  0.184468  0.184298  0.182547  0.183309  0.563589        0      1  \n",
       "0  0.352617  0.352361  0.352378  0.351972  0.564591      181    191  \n",
       "0  0.352617  0.352361  0.352222  0.351942  0.580479       63     86  \n",
       "0  0.375718  0.375791  0.378214  0.376078  0.566097      113    132  "
      ]
     },
     "execution_count": 3,
     "metadata": {},
     "output_type": "execute_result"
    }
   ],
   "source": [
    "df = pd.read_excel(r'C:\\Users\\6506\\Desktop\\FDA\\N428_後市場\\SQL\\各業別家數.xlsx',header=0,encoding='utf-8',sheet_name='工作表2')\n",
    "append_data=[]\n",
    "for i in range(0,16):\n",
    "    append_data.append(N428.select_model(inspect=df['稽查項目'][i],main=df['主類別'][i],sec=df['次類別'][i]\n",
    "                                        ,count_total=df['總稽查家數'][i],count_fault=df['不合格家數'][i]))\n",
    "pd.concat(append_data)"
   ]
  },
  {
   "cell_type": "markdown",
   "metadata": {
    "heading_collapsed": true
   },
   "source": [
    "# print data"
   ]
  },
  {
   "cell_type": "code",
   "execution_count": null,
   "metadata": {
    "hidden": true
   },
   "outputs": [],
   "source": [
    "print('\\n'.join(\"+C(Q('\"+df_train.columns[6:]+\"'))\"))"
   ]
  },
  {
   "cell_type": "code",
   "execution_count": null,
   "metadata": {
    "hidden": true,
    "scrolled": true
   },
   "outputs": [],
   "source": [
    "''.join(\"IIF(faden.[\"+df_train.columns[8:]+\"] = 'Y', 1, 0) '\"+df_train.columns[8:]+\"',\") "
   ]
  },
  {
   "cell_type": "code",
   "execution_count": null,
   "metadata": {
    "hidden": true
   },
   "outputs": [],
   "source": [
    "'不合格次數~'+''.join(\"+C(Q('\"+df.columns[k]+\"'))\")"
   ]
  },
  {
   "cell_type": "markdown",
   "metadata": {
    "hidden": true
   },
   "source": [
    "print SQL"
   ]
  },
  {
   "cell_type": "code",
   "execution_count": null,
   "metadata": {
    "hidden": true
   },
   "outputs": [],
   "source": [
    "import pandas as pd\n",
    "df = pd.read_csv(r'C:\\Users\\6506\\Desktop\\PSA.csv', \n",
    "                       header=0, encoding='ANSI',converters={'column_name': lambda x: str(x)})\n",
    "df['factor']=df['factor'].apply(lambda x: '{0:0>3}'.format(x))\n",
    "for i in range(len(df)):\n",
    "#     print('left join  [FRBDM2].[dbo].['+df.iloc[i,1]+'] factor_'+df.iloc[i,0]+' on factor_'+df.iloc[i,0]+'.報驗義務人統一編號=trader.統一編號')\n",
    "#     print('OUTER APPLY(SELECT TOP (1) f.'+df.iloc[i,1]+'    FROM [FRBDM2].[dbo].['+df.iloc[i,1]+'] f    WHERE f.報驗義務人統一編號 = trader.統一編號    ORDER BY '+df.iloc[i,1]+' DESC) factor_'+df.iloc[i,0])\n",
    "    print(',factor_'+df.iloc[i,0])"
   ]
  },
  {
   "cell_type": "code",
   "execution_count": 45,
   "metadata": {
    "hidden": true
   },
   "outputs": [
    {
     "data": {
      "text/plain": [
       "[(0, 1),\n",
       " (0, 2),\n",
       " (0, 3),\n",
       " (0, 4),\n",
       " (1, 2),\n",
       " (1, 3),\n",
       " (1, 4),\n",
       " (2, 3),\n",
       " (2, 4),\n",
       " (3, 4)]"
      ]
     },
     "execution_count": 45,
     "metadata": {},
     "output_type": "execute_result"
    }
   ],
   "source": [
    "import itertools as iter\n",
    "list(combinations(range(5),2))"
   ]
  },
  {
   "cell_type": "code",
   "execution_count": 32,
   "metadata": {
    "hidden": true
   },
   "outputs": [
    {
     "data": {
      "text/plain": [
       "['a',\n",
       " 'ab',\n",
       " 'abc',\n",
       " 'ac',\n",
       " 'acb',\n",
       " 'b',\n",
       " 'ba',\n",
       " 'bac',\n",
       " 'bc',\n",
       " 'bca',\n",
       " 'c',\n",
       " 'ca',\n",
       " 'cab',\n",
       " 'cb',\n",
       " 'cba']"
      ]
     },
     "execution_count": 32,
     "metadata": {},
     "output_type": "execute_result"
    }
   ],
   "source": [
    "s = 'abc'\n",
    "results = sorted([''.join(c) for l in range(len(s)) for c in permutations(s, l+1)])\n",
    "results"
   ]
  },
  {
   "cell_type": "code",
   "execution_count": 64,
   "metadata": {
    "hidden": true,
    "scrolled": true
   },
   "outputs": [
    {
     "name": "stdout",
     "output_type": "stream",
     "text": [
      "是否兼具業\n",
      "是否兼具製造業\n",
      "是否兼具餐飲業\n",
      "是否兼具製造、餐飲業\n",
      "是否兼具輸入業\n",
      "是否兼具製造、輸入業\n",
      "是否兼具餐飲、輸入業\n",
      "是否兼具製造、餐飲、輸入業\n",
      "是否兼具販售業\n",
      "是否兼具製造、販售業\n",
      "是否兼具餐飲、販售業\n",
      "是否兼具製造、餐飲、販售業\n",
      "是否兼具輸入、販售業\n",
      "是否兼具製造、輸入、販售業\n",
      "是否兼具餐飲、輸入、販售業\n",
      "是否兼具製造、餐飲、輸入、販售業\n",
      "是否兼具物流業\n",
      "是否兼具製造、物流業\n",
      "是否兼具餐飲、物流業\n",
      "是否兼具製造、餐飲、物流業\n",
      "是否兼具輸入、物流業\n",
      "是否兼具製造、輸入、物流業\n",
      "是否兼具餐飲、輸入、物流業\n",
      "是否兼具製造、餐飲、輸入、物流業\n",
      "是否兼具販售、物流業\n",
      "是否兼具製造、販售、物流業\n",
      "是否兼具餐飲、販售、物流業\n",
      "是否兼具製造、餐飲、販售、物流業\n",
      "是否兼具輸入、販售、物流業\n",
      "是否兼具製造、輸入、販售、物流業\n",
      "是否兼具餐飲、輸入、販售、物流業\n",
      "是否兼具製造、餐飲、輸入、販售、物流業\n"
     ]
    }
   ],
   "source": [
    "A=['0','1']\n",
    "A=[a+b+c+d+e for e in A for d in A for c in A for b in A for a in A]\n",
    "industry=['、製造','、餐飲','、輸入','、販售','、物流']\n",
    "for i in A:\n",
    "    name='是否兼具'\n",
    "    for j in range(5):\n",
    "        if i[j]=='1':\n",
    "            name+=industry[j]\n",
    "    name+='業'\n",
    "    name=name.replace('具、','具')\n",
    "    print(name)"
   ]
  },
  {
   "cell_type": "code",
   "execution_count": null,
   "metadata": {
    "hidden": true
   },
   "outputs": [],
   "source": []
  }
 ],
 "metadata": {
  "kernelspec": {
   "display_name": "Python 3",
   "language": "python",
   "name": "python3"
  },
  "language_info": {
   "codemirror_mode": {
    "name": "ipython",
    "version": 3
   },
   "file_extension": ".py",
   "mimetype": "text/x-python",
   "name": "python",
   "nbconvert_exporter": "python",
   "pygments_lexer": "ipython3",
   "version": "3.7.6"
  },
  "toc": {
   "base_numbering": 1,
   "nav_menu": {},
   "number_sections": true,
   "sideBar": true,
   "skip_h1_title": false,
   "title_cell": "Table of Contents",
   "title_sidebar": "Contents",
   "toc_cell": false,
   "toc_position": {},
   "toc_section_display": true,
   "toc_window_display": false
  }
 },
 "nbformat": 4,
 "nbformat_minor": 2
}

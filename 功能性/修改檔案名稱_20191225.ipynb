{
 "cells": [
  {
   "cell_type": "code",
   "execution_count": 1,
   "metadata": {},
   "outputs": [
    {
     "name": "stdout",
     "output_type": "stream",
     "text": [
      "['104測評銀行-潘美娟.pdf', '105測評銀行-潘美娟.pdf', '專案管理風險因子研究.pdf']\n"
     ]
    }
   ],
   "source": [
    "import os\n",
    "path='C:/Users/6506/Desktop/數位大腦 - 複製' #這就是欲進行檔名更改的檔案路徑，路徑的斜線是為/，要留意下！\n",
    "files=os.listdir(path)\n",
    "print(files) #印出讀取到的檔名稱，用來確認自己是不是真的有讀到"
   ]
  },
  {
   "cell_type": "code",
   "execution_count": null,
   "metadata": {},
   "outputs": [],
   "source": [
    "n=0 #設定初始值\n",
    "for i in files: #因為資料夾裡面的檔案都要重新更換名稱\n",
    "    oldname=path+'/'+files[n] #指出檔案現在的路徑名稱，[n]表示第n個檔案\n",
    "    newname=path+'/'+'2017-'+str(n+1)+files[n] #在本案例中的命名規則為：年份+ - + 次序，最後一個.wav表示該檔案的型別\n",
    "    os.rename(oldname,newname)\n",
    "    print(oldname+'>>>'+newname) #印出原名與更名後的新名，可以進一步的確認每個檔案的新舊對應\n",
    "    n=n+1 #當有不止一個檔案的時候，依次對每一個檔案進行上面的流程，直到更換完畢就會結束"
   ]
  },
  {
   "cell_type": "code",
   "execution_count": 4,
   "metadata": {},
   "outputs": [
    {
     "name": "stdout",
     "output_type": "stream",
     "text": [
      "105測評銀行-潘美娟.pdf\n"
     ]
    }
   ],
   "source": [
    "for i in files:\n",
    "    if \"104\" in i:        \n",
    "        print (i.replace(\"104\", \"105\"))\n",
    "        os.rename(path+'/'+i,path+'/'+i.replace(\"104\", \"105\"))"
   ]
  },
  {
   "cell_type": "code",
   "execution_count": 4,
   "metadata": {},
   "outputs": [
    {
     "name": "stdout",
     "output_type": "stream",
     "text": [
      "['02.pdf', '03.pdf', '04.pdf', '05.pdf', '06.pdf', '07.pdf', '08.pdf', '09.pdf', '10.pdf']\n"
     ]
    }
   ],
   "source": [
    "import os\n",
    "path='C:/Users/6506/Desktop/N/' #這就是欲進行檔名更改的檔案路徑，路徑的斜線是為/，要留意下！\n",
    "files=os.listdir(path)\n",
    "print(files) #印出讀取到的檔名稱，用來確認自己是不是真的有讀到"
   ]
  },
  {
   "cell_type": "code",
   "execution_count": 5,
   "metadata": {},
   "outputs": [],
   "source": [
    "for i in files:     \n",
    "#     a= int(i.replace(\"document (\", \"\").replace(\").pdf\", \"\"))+11\n",
    "    os.rename(path+i,path+'DAY'+i)"
   ]
  },
  {
   "cell_type": "code",
   "execution_count": null,
   "metadata": {},
   "outputs": [],
   "source": []
  }
 ],
 "metadata": {
  "kernelspec": {
   "display_name": "Python 3",
   "language": "python",
   "name": "python3"
  },
  "language_info": {
   "codemirror_mode": {
    "name": "ipython",
    "version": 3
   },
   "file_extension": ".py",
   "mimetype": "text/x-python",
   "name": "python",
   "nbconvert_exporter": "python",
   "pygments_lexer": "ipython3",
   "version": "3.7.6"
  },
  "toc": {
   "base_numbering": 1,
   "nav_menu": {},
   "number_sections": true,
   "sideBar": true,
   "skip_h1_title": false,
   "title_cell": "Table of Contents",
   "title_sidebar": "Contents",
   "toc_cell": false,
   "toc_position": {},
   "toc_section_display": true,
   "toc_window_display": false
  }
 },
 "nbformat": 4,
 "nbformat_minor": 2
}

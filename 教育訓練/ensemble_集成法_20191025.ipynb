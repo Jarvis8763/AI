{
 "cells": [
  {
   "cell_type": "code",
   "execution_count": 1,
   "metadata": {},
   "outputs": [],
   "source": [
    "# import 套件\n",
    "import numpy as np\n",
    "import pandas as pd\n",
    "import matplotlib.pyplot as plt"
   ]
  },
  {
   "cell_type": "code",
   "execution_count": null,
   "metadata": {},
   "outputs": [],
   "source": [
    "# 匯入資料相對路徑\n",
    "import os\n",
    "path=os.path.abspath('.') +'\\train_712.csv'\n",
    "path2=os.path.abspath('.') +'\\test_179.csv'\n",
    "train=pd.read_csv(open(path))\n",
    "test=pd.read_csv(open(path2))"
   ]
  },
  {
   "cell_type": "code",
   "execution_count": 3,
   "metadata": {},
   "outputs": [],
   "source": [
    "train=pd.read_csv(r'C:\\Users\\6506\\Desktop\\簡報製作\\集成法\\train_712.csv')\n",
    "test=pd.read_csv(r'C:\\Users\\6506\\Desktop\\簡報製作\\集成法\\test_179.csv')"
   ]
  },
  {
   "cell_type": "code",
   "execution_count": 4,
   "metadata": {},
   "outputs": [],
   "source": [
    "# 進行資料清理程序\n",
    "def dataclean(df):\n",
    "    # 找出姓名頭銜並分類\n",
    "    df['Name']=df['Name'].str.split(' ').str[1]\n",
    "    for i in range(len(df)):\n",
    "        if df.loc[i,'Name']!='Mr.' and df.loc[i,'Name']!='Matser.' and df.loc[i,'Sex']=='male':\n",
    "            df.loc[i,'Name']='Other M'\n",
    "        if df.loc[i,'Name']!='Mrs.' and df.loc[i,'Name']!='Miss.' and df.loc[i,'Sex']=='female':\n",
    "            df.loc[i,'Name']='Other F'\n",
    "    # 分類年齡是否為NULL，若為NULL則以中位數代替\n",
    "    df['Age_na']=df['Age'].isnull()\n",
    "    df['Age_na'][df['Age_na']]=1\n",
    "    df['Age'][df['Age'].isnull()]=df['Age'].median()\n",
    "    # 去除不需要之欄位\n",
    "    df=df.drop(['Cabin','Ticket','PassengerId'],axis=1)\n",
    "    # 將類別變數轉換為onehot encoding\n",
    "    d=df.dtypes==object\n",
    "    for i in ('Pclass',d[d==True].index[0:]):\n",
    "        dummies=pd.get_dummies( df[i], prefix=i)\n",
    "        df = pd.concat( [df, dummies], axis = 1 )\n",
    "        df=df.drop(i,axis=1)\n",
    "    return df"
   ]
  },
  {
   "cell_type": "code",
   "execution_count": 5,
   "metadata": {},
   "outputs": [
    {
     "name": "stderr",
     "output_type": "stream",
     "text": [
      "C:\\Users\\6506\\AppData\\Local\\Continuum\\anaconda3\\lib\\site-packages\\ipykernel_launcher.py:12: SettingWithCopyWarning: \n",
      "A value is trying to be set on a copy of a slice from a DataFrame\n",
      "\n",
      "See the caveats in the documentation: http://pandas.pydata.org/pandas-docs/stable/indexing.html#indexing-view-versus-copy\n",
      "  if sys.path[0] == '':\n",
      "C:\\Users\\6506\\AppData\\Local\\Continuum\\anaconda3\\lib\\site-packages\\ipykernel_launcher.py:13: SettingWithCopyWarning: \n",
      "A value is trying to be set on a copy of a slice from a DataFrame\n",
      "\n",
      "See the caveats in the documentation: http://pandas.pydata.org/pandas-docs/stable/indexing.html#indexing-view-versus-copy\n",
      "  del sys.path[0]\n",
      "C:\\Users\\6506\\AppData\\Local\\Continuum\\anaconda3\\lib\\site-packages\\ipykernel_launcher.py:12: SettingWithCopyWarning: \n",
      "A value is trying to be set on a copy of a slice from a DataFrame\n",
      "\n",
      "See the caveats in the documentation: http://pandas.pydata.org/pandas-docs/stable/indexing.html#indexing-view-versus-copy\n",
      "  if sys.path[0] == '':\n",
      "C:\\Users\\6506\\AppData\\Local\\Continuum\\anaconda3\\lib\\site-packages\\ipykernel_launcher.py:13: SettingWithCopyWarning: \n",
      "A value is trying to be set on a copy of a slice from a DataFrame\n",
      "\n",
      "See the caveats in the documentation: http://pandas.pydata.org/pandas-docs/stable/indexing.html#indexing-view-versus-copy\n",
      "  del sys.path[0]\n"
     ]
    }
   ],
   "source": [
    "# 分別對train、test執行程序\n",
    "train=dataclean(train)\n",
    "test=dataclean(test)"
   ]
  },
  {
   "cell_type": "code",
   "execution_count": 6,
   "metadata": {},
   "outputs": [],
   "source": [
    "# random code\n",
    "RS=42\n",
    "#decision tree\n",
    "from sklearn.tree import DecisionTreeClassifier\n",
    "#naive bayes\n",
    "from sklearn.naive_bayes import GaussianNB\n",
    "#KNN\n",
    "from sklearn.neighbors import KNeighborsClassifier\n",
    "#AdaBoost,RandomForest\n",
    "from sklearn.ensemble import AdaBoostClassifier,RandomForestClassifier\n",
    "classifiers = [\n",
    "        ['Cart',DecisionTreeClassifier(max_depth=10, random_state=RS)],        \n",
    "        ['NBayes',GaussianNB()],\n",
    "        ['KNN', KNeighborsClassifier(5)],\n",
    "        ['RandomForest',RandomForestClassifier(n_estimators=100,random_state=RS)],\n",
    "        ['RandomForest_2',RandomForestClassifier(n_estimators=100,random_state=RS,max_features=2)],\n",
    "        ['AdaBoost',AdaBoostClassifier(n_estimators=100,random_state=RS)],\n",
    "]\n",
    "# 使用前三種分類器Cart、NBayes、KNN實作投票法\n",
    "for i in range(3):\n",
    "    clf=classifiers[i][1].fit(train.iloc[:,1:], train.iloc[:,0])\n",
    "    test['pred_'+classifiers[i][0]]=clf.predict(test.iloc[:,1:19])\n",
    "test['vote']=round(test.iloc[:,-3:].mean(axis=1)).astype(int)"
   ]
  },
  {
   "cell_type": "code",
   "execution_count": 7,
   "metadata": {},
   "outputs": [],
   "source": [
    "# 實作兩種Bagging與Boosting\n",
    "for i in range(3,len(classifiers)):\n",
    "    clf=classifiers[i][1].fit(train.iloc[:,1:], train.iloc[:,0])\n",
    "    test['pred_'+classifiers[i][0]]=clf.predict(test.iloc[:,1:19])"
   ]
  },
  {
   "cell_type": "code",
   "execution_count": 35,
   "metadata": {},
   "outputs": [],
   "source": [
    "# 使用交叉驗證方法，將資料分為k-fold\n",
    "from sklearn.model_selection import KFold\n",
    "from sklearn.base import BaseEstimator, TransformerMixin,ClassifierMixin, clone\n",
    "# BaseEstimator:Base class for all estimators in scikit-learn\n",
    "# TransformerMixin:Mixin class for all transformers in scikit-learn.\n",
    "# ClassifierMixin:Mixin class for all classifiers in scikit-learn.\n",
    "# Clone:a deep copy of the model in an estimator without actually copying attached data. \n",
    "#   It yields a new estimator with the same parameters that has not been fit on any data.\n",
    "\n",
    "# 建立stack類別\n",
    "class StackingAveragedModels(BaseEstimator, ClassifierMixin, TransformerMixin):\n",
    "    # 代入Level 0、Level 1模型，fold預設為3\n",
    "    def  __init__ (self, base_models, meta_model, n_folds=3 ):\n",
    "        self.base_models = base_models\n",
    "        self.meta_model = meta_model\n",
    "        self.n_folds = n_folds\n",
    "\n",
    "    # 將原來的模型clone，進行fit功能\n",
    "    def fit(self, X, y):\n",
    "        self.base_models_ = [list() for x in self.base_models]\n",
    "        self.meta_model_ = clone(self.meta_model)\n",
    "        kfold = KFold(n_splits=self.n_folds, shuffle=True, random_state=RS)\n",
    "\n",
    "        # 對於每個模型，使用交叉驗證方法來訓練初級學習器，並且得到次級訓練集 \n",
    "        # 建立空物件以輸入次級訓練集\n",
    "        out_of_fold_predictions = np.zeros((len(X), len(self.base_models)))\n",
    "        # 使用給定 Level 0 模型分別對 3-fold 訓練集預測\n",
    "        for i, model in enumerate(self.base_models):\n",
    "            for train_index, holdout_index in kfold.split(X, y):\n",
    "                # 分別clone為給定模型，進行fit與predict\n",
    "                instance = clone(model)                                            \n",
    "                instance.fit(X.iloc[train_index,:], y.iloc[train_index])\n",
    "                # 存入模型   \n",
    "                self.base_models_[i].append(instance) \n",
    "                y_pred = instance.predict(X.iloc[holdout_index,:])\n",
    "                # 將預測結果輸入次級訓練集\n",
    "                out_of_fold_predictions[holdout_index, i] = y_pred\n",
    "\n",
    "        # 使用次級訓練集來訓練次級學習器\n",
    "        self.meta_model_.fit(out_of_fold_predictions, y)\n",
    "        return self\n",
    "\n",
    "    # 在上面的fit方法當中，已經將訓練出來的初級學習器和次級學習器保存下來\n",
    "    # predict的時候只需要用這些學習器再構造次級預測數據集並且進行預測\n",
    "    def predict(self, X):\n",
    "        meta_test = np.column_stack([\n",
    "            np.round(np.column_stack([model.predict(X) for model in base_models]).mean(axis=1 ))\n",
    "             for base_models in self.base_models_ ])\n",
    "        return self.meta_model_.predict(meta_test)"
   ]
  },
  {
   "cell_type": "code",
   "execution_count": 36,
   "metadata": {},
   "outputs": [],
   "source": [
    "# 實作Stacking\n",
    "clf=StackingAveragedModels(base_models=[classifiers[i][1] for i in range(3)],meta_model=classifiers[0][1]).fit(train.iloc[:,1:], train.iloc[:,0])\n",
    "test['stacking']=clf.predict(test.iloc[:,1:19])"
   ]
  },
  {
   "cell_type": "code",
   "execution_count": 37,
   "metadata": {},
   "outputs": [
    {
     "data": {
      "text/html": [
       "<div>\n",
       "<style scoped>\n",
       "    .dataframe tbody tr th:only-of-type {\n",
       "        vertical-align: middle;\n",
       "    }\n",
       "\n",
       "    .dataframe tbody tr th {\n",
       "        vertical-align: top;\n",
       "    }\n",
       "\n",
       "    .dataframe thead th {\n",
       "        text-align: right;\n",
       "    }\n",
       "</style>\n",
       "<table border=\"1\" class=\"dataframe\">\n",
       "  <thead>\n",
       "    <tr style=\"text-align: right;\">\n",
       "      <th></th>\n",
       "      <th>pred_Cart</th>\n",
       "      <th>pred_NBayes</th>\n",
       "      <th>pred_KNN</th>\n",
       "      <th>vote</th>\n",
       "      <th>pred_RandomForest</th>\n",
       "      <th>pred_RandomForest_2</th>\n",
       "      <th>pred_AdaBoost</th>\n",
       "      <th>stacking</th>\n",
       "    </tr>\n",
       "  </thead>\n",
       "  <tbody>\n",
       "    <tr>\n",
       "      <th>accuracy</th>\n",
       "      <td>0.787709</td>\n",
       "      <td>0.776536</td>\n",
       "      <td>0.698324</td>\n",
       "      <td>0.793296</td>\n",
       "      <td>0.854749</td>\n",
       "      <td>0.854749</td>\n",
       "      <td>0.815642</td>\n",
       "      <td>0.782123</td>\n",
       "    </tr>\n",
       "    <tr>\n",
       "      <th>Survived=0 recall</th>\n",
       "      <td>0.849057</td>\n",
       "      <td>0.820755</td>\n",
       "      <td>0.830189</td>\n",
       "      <td>0.867925</td>\n",
       "      <td>0.933962</td>\n",
       "      <td>0.924528</td>\n",
       "      <td>0.877358</td>\n",
       "      <td>0.801887</td>\n",
       "    </tr>\n",
       "    <tr>\n",
       "      <th>Survived=1 recall</th>\n",
       "      <td>0.69863</td>\n",
       "      <td>0.712329</td>\n",
       "      <td>0.506849</td>\n",
       "      <td>0.684932</td>\n",
       "      <td>0.739726</td>\n",
       "      <td>0.753425</td>\n",
       "      <td>0.726027</td>\n",
       "      <td>0.753425</td>\n",
       "    </tr>\n",
       "    <tr>\n",
       "      <th>F1 score</th>\n",
       "      <td>0.728571</td>\n",
       "      <td>0.722222</td>\n",
       "      <td>0.578125</td>\n",
       "      <td>0.729927</td>\n",
       "      <td>0.80597</td>\n",
       "      <td>0.808824</td>\n",
       "      <td>0.76259</td>\n",
       "      <td>0.738255</td>\n",
       "    </tr>\n",
       "  </tbody>\n",
       "</table>\n",
       "</div>"
      ],
      "text/plain": [
       "                  pred_Cart pred_NBayes  pred_KNN      vote pred_RandomForest  \\\n",
       "accuracy           0.787709    0.776536  0.698324  0.793296          0.854749   \n",
       "Survived=0 recall  0.849057    0.820755  0.830189  0.867925          0.933962   \n",
       "Survived=1 recall   0.69863    0.712329  0.506849  0.684932          0.739726   \n",
       "F1 score           0.728571    0.722222  0.578125  0.729927           0.80597   \n",
       "\n",
       "                  pred_RandomForest_2 pred_AdaBoost  stacking  \n",
       "accuracy                     0.854749      0.815642  0.782123  \n",
       "Survived=0 recall            0.924528      0.877358  0.801887  \n",
       "Survived=1 recall            0.753425      0.726027  0.753425  \n",
       "F1 score                     0.808824       0.76259  0.738255  "
      ]
     },
     "execution_count": 37,
     "metadata": {},
     "output_type": "execute_result"
    }
   ],
   "source": [
    "# 評估各項模型好壞\n",
    "from sklearn.metrics import precision_recall_fscore_support\n",
    "from sklearn.metrics import accuracy_score\n",
    "result=pd.DataFrame(index=['accuracy','Survived=0 recall','Survived=1 recall','F1 score'],columns=test.columns[-8:])\n",
    "for i, model in enumerate(test.columns[-8:]):\n",
    "    p=precision_recall_fscore_support(test['Survived'], test[model])\n",
    "    result.iloc[0,i]=accuracy_score(test['Survived'], test[model])\n",
    "    result.iloc[1,i]=p[1][0]\n",
    "    result.iloc[2,i]=p[1][1]\n",
    "    result.iloc[3,i]=p[2][1]\n",
    "result"
   ]
  },
  {
   "cell_type": "code",
   "execution_count": null,
   "metadata": {},
   "outputs": [],
   "source": [
    "clf.base_models_[0][2].predict(test.iloc[:,1:19])"
   ]
  },
  {
   "cell_type": "code",
   "execution_count": null,
   "metadata": {},
   "outputs": [],
   "source": [
    "a= [list() for x in clf.base_models]"
   ]
  },
  {
   "cell_type": "code",
   "execution_count": null,
   "metadata": {},
   "outputs": [],
   "source": [
    "a"
   ]
  },
  {
   "cell_type": "code",
   "execution_count": 44,
   "metadata": {},
   "outputs": [],
   "source": [
    "a=np.column_stack([\n",
    "np.column_stack([model.predict(test.iloc[:,1:19]) for model in clf.base_models]).mean(axis=1 )\n",
    "    for base_models in clf.base_models_ ])"
   ]
  },
  {
   "cell_type": "code",
   "execution_count": 49,
   "metadata": {},
   "outputs": [
    {
     "data": {
      "text/plain": [
       "array([ True,  True,  True,  True,  True,  True,  True,  True,  True,\n",
       "        True,  True,  True,  True,  True,  True,  True,  True,  True,\n",
       "        True,  True,  True,  True,  True,  True,  True,  True,  True,\n",
       "        True,  True,  True,  True,  True,  True,  True,  True,  True,\n",
       "        True,  True,  True,  True,  True,  True,  True,  True,  True,\n",
       "        True,  True,  True,  True,  True,  True,  True,  True,  True,\n",
       "        True,  True,  True,  True,  True,  True,  True,  True,  True,\n",
       "        True,  True,  True,  True,  True,  True,  True,  True,  True,\n",
       "        True,  True,  True,  True,  True,  True,  True,  True,  True,\n",
       "        True,  True,  True,  True,  True,  True,  True,  True,  True,\n",
       "        True,  True,  True,  True,  True,  True,  True,  True,  True,\n",
       "        True,  True,  True,  True,  True,  True,  True,  True,  True,\n",
       "        True,  True,  True,  True,  True,  True,  True,  True,  True,\n",
       "        True,  True,  True,  True,  True,  True,  True,  True,  True,\n",
       "        True,  True,  True,  True,  True,  True,  True,  True,  True,\n",
       "        True,  True,  True,  True,  True,  True,  True,  True,  True,\n",
       "        True,  True,  True,  True,  True,  True,  True,  True,  True,\n",
       "        True,  True,  True,  True,  True,  True,  True,  True,  True,\n",
       "        True,  True,  True,  True,  True,  True,  True,  True,  True,\n",
       "        True,  True,  True,  True,  True,  True,  True,  True])"
      ]
     },
     "execution_count": 49,
     "metadata": {},
     "output_type": "execute_result"
    }
   ],
   "source": [
    "clf.meta_model_.predict(a)==clf.meta_model_.predict(np.round(a))"
   ]
  },
  {
   "cell_type": "code",
   "execution_count": null,
   "metadata": {},
   "outputs": [],
   "source": []
  }
 ],
 "metadata": {
  "kernelspec": {
   "display_name": "Python 3",
   "language": "python",
   "name": "python3"
  },
  "language_info": {
   "codemirror_mode": {
    "name": "ipython",
    "version": 3
   },
   "file_extension": ".py",
   "mimetype": "text/x-python",
   "name": "python",
   "nbconvert_exporter": "python",
   "pygments_lexer": "ipython3",
   "version": "3.7.6"
  },
  "toc": {
   "base_numbering": 1,
   "nav_menu": {},
   "number_sections": true,
   "sideBar": true,
   "skip_h1_title": false,
   "title_cell": "Table of Contents",
   "title_sidebar": "Contents",
   "toc_cell": false,
   "toc_position": {},
   "toc_section_display": true,
   "toc_window_display": false
  }
 },
 "nbformat": 4,
 "nbformat_minor": 2
}

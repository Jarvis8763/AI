{
 "cells": [
  {
   "cell_type": "markdown",
   "metadata": {
    "heading_collapsed": true
   },
   "source": [
    "# init"
   ]
  },
  {
   "cell_type": "code",
   "execution_count": null,
   "metadata": {
    "hidden": true
   },
   "outputs": [],
   "source": [
    "%%file __init__.py\n",
    "# %load __init__.py\n",
    "#!/usr/bin/env python\n",
    "\n",
    "# In[ ]:\n",
    "\n",
    "\n",
    "import os\n",
    "os.chdir('C:/Users/6506/Anaconda3/Lib/food/')\n",
    "\n",
    "\n",
    "# In[ ]:\n",
    "\n",
    "\n",
    "import pandas as pd\n",
    "import numpy as np\n",
    "import matplotlib.pyplot as plt\n",
    "from IPython.display import display, HTML\n",
    "\n",
    "# In[ ]:\n",
    "\n",
    "\n",
    "#import data\n",
    "test=pd.read_csv('C:/Users/6506/Desktop/FDA/N334/變數刪除後123/分析大表testing_data_11_flted.csv',encoding='ANSI')\n",
    "train=pd.read_csv('C:/Users/6506/Desktop/FDA/N334/變數刪除後123/分析大表training_data_11_flted.csv',encoding='ANSI')\n",
    "df=pd.concat([test,train])\n",
    "\n",
    "\n",
    "# In[ ]:\n",
    "\n",
    "\n",
    "#transform category variable type\n",
    "d=df.dtypes==object\n",
    "for i in d[d==True].index[1:]:\n",
    "    df[i]=df[i].astype('category').cat.codes\n",
    "\n",
    "# for i in d[d==True].index[1:]:\n",
    "#     dummies=pd.get_dummies( df.loc[:, i], prefix=i)\n",
    "#     df = pd.concat( [df, dummies], axis = 1 )\n",
    "#     df=df.drop(i,axis=1)\n",
    "\n",
    "\n",
    "# In[ ]:\n",
    "\n",
    "\n",
    "#normalization\n",
    "from sklearn import preprocessing\n",
    "df.iloc[:,2:]=preprocessing.MinMaxScaler().fit_transform(df.iloc[:,2:])\n",
    "\n",
    "\n",
    "# In[ ]:\n",
    "\n",
    "\n",
    "#split data\n",
    "test=df.iloc[0:len(test)]\n",
    "train=df.iloc[len(test):]\n",
    "y_true=test.iloc[:,1]\n",
    "\n",
    "i_train=lambda i:train[train['檢驗不合格']==i]\n",
    "\n",
    "#Design of Experiment\n",
    "import pyDOE2\n",
    "ccd=pyDOE2.ccdesign(2,center=(4,4),face='cci')\n",
    "ccd=np.rint((ccd+1)*(len(i_train(0))-len(i_train(1)))/2+len(i_train(1)))\n",
    "ccd=pd.DataFrame(ccd,columns=['合格','不合格'])\n",
    "ccd['合格準確率']=0;ccd['不合格準確率']=0;ccd['F1 score']=0\n",
    "\n",
    "from sklearn.metrics import accuracy_score\n",
    "from sklearn.metrics import precision_recall_fscore_support\n",
    "from sklearn.metrics import classification_report\n",
    "\n",
    "from . import confusion\n",
    "from . import model_ \n",
    "\n",
    "print('Resampling:')\n",
    "for i in range(len(model_.Model.samplers2)):\n",
    "    print('%d. %s'%(i+1,model_.Model.samplers2[i][0]))\n",
    "\n",
    "print('\\nSelect Model:')\n",
    "for i in range(len(model_.Model.classifiers)):\n",
    "    print('%d. %s'%(i+1,model_.Model.classifiers[i][0]))\n",
    "    \n",
    "def doe_model(method,name):\n",
    "    global model\n",
    "    model=0\n",
    "    model=model_.Model(method,name)\n",
    "    global ccd\n",
    "    print('--constructing',end='')\n",
    "    for n in range(len(ccd)):\n",
    "        p=model(ccd.iloc[n,0],ccd.iloc[n,1])\n",
    "        ccd.iloc[n,2]=p[1][0]\n",
    "        ccd.iloc[n,3]=p[1][1]\n",
    "        ccd.iloc[n,4]=p[2][1]\n",
    "        print('.',end='')\n",
    "    print('\\n\\nResampling:',end='')\n",
    "    display(ccd)\n",
    "    \n",
    "    from . import LinealModel\n",
    "    LinealModel.opt()\n",
    "\n",
    "def select_model(method,name):\n",
    "    global model\n",
    "    model=0    \n",
    "    model=model_.Model(method,name)\n",
    "    p=model(len(train)*0.7,len(train)*0.3)\n",
    "    \n",
    "    # Confusion_matrix\n",
    "    print('\\nConfusion_matrix:')\n",
    "    confusion.Confusion_matrix(y_true, model.y_pred)\n",
    "    print(classification_report(y_true, model.y_pred, target_names=['0','1']))\n",
    "\n",
    "trained_models=[list() for x in model_.Model.classifiers]\n",
    "    \n",
    "def ensemble():\n",
    "    global model\n",
    "    result=pd.DataFrame()\n",
    "    for i in range(len(model_.Model.classifiers)):\n",
    "        model=model_.Model(model_.Model.samplers2[0][0],model_.Model.classifiers[i][0])\n",
    "        p=model(len(train)*0.7,len(train)*0.3)\n",
    "        result['R-'+model_.Model.classifiers[i][0]]=model.y_proba[:,1]\n",
    "        trained_models[i].append(model.clf)\n",
    "    result['R-vote']=round(result.iloc[:,0:6].mean(axis=1)).astype(int)\n",
    "    \n",
    "    for i in range(len(model_.Model.classifiers)):\n",
    "        model=model_.Model(model_.Model.samplers2[1][0],model_.Model.classifiers[i][0])\n",
    "        p=model(len(train)*0.7,len(train)*0.3)\n",
    "        result['S-'+model_.Model.classifiers[i][0]]=model.y_proba[:,1]\n",
    "        trained_models[i].append(model.clf)\n",
    "    result['S-vote']=round(result.iloc[:,7:13].mean(axis=1)).astype(int)\n",
    "    result['all-vote']=round(result.iloc[:,np.r_[0:6,7:13]].mean(axis=1)).astype(int)\n",
    "#     result=pd.DataFrame(index=['1'],\n",
    "#                         columns=[model_.Model.classifiers[i][0] for i in range(len(model_.Model.classifiers)),'Vote'])\n",
    "    pd.set_option('display.float_format',lambda x : '%.2f' % x)\n",
    "    return result\n",
    "def trained_model(method,name):\n",
    "    global model\n",
    "    model=0    \n",
    "    model=model_.Model(method,name)    \n",
    "    y_pred=trained_models[model.method-1][model.name-1].predict(test.iloc[:,2:])\n",
    "    # Confusion_matrix\n",
    "    print('\\nConfusion_matrix:')\n",
    "    confusion.Confusion_matrix(y_true, y_pred)\n",
    "    print(classification_report(y_true, y_pred, target_names=['0','1']))    "
   ]
  },
  {
   "cell_type": "markdown",
   "metadata": {
    "heading_collapsed": true
   },
   "source": [
    "# model"
   ]
  },
  {
   "cell_type": "code",
   "execution_count": null,
   "metadata": {
    "hidden": true
   },
   "outputs": [],
   "source": [
    "%%file model_.py\n",
    "from . import *\n",
    "from . import test,train,ccd,y_true\n",
    "\n",
    "import warnings\n",
    "from sklearn.feature_selection import f_regression\n",
    "#logistic,ElasticNet\n",
    "from sklearn.linear_model import LogisticRegression,ElasticNet,SGDClassifier\n",
    "#gradient boosting,RandomForest\n",
    "from sklearn.experimental import enable_hist_gradient_boosting\n",
    "from sklearn.ensemble import HistGradientBoostingClassifier,GradientBoostingClassifier,RandomForestClassifier\n",
    "#decision tree\n",
    "from sklearn import tree\n",
    "#naive bayes\n",
    "from sklearn.naive_bayes import GaussianNB\n",
    "#pipeline\n",
    "from scipy import interp\n",
    "from sklearn import neighbors\n",
    "from collections import Counter\n",
    "from sklearn.pipeline import Pipeline\n",
    "#imbalance data\n",
    "from imblearn.under_sampling import RandomUnderSampler\n",
    "from imblearn.over_sampling import ADASYN, SMOTE, RandomOverSampler\n",
    "from imblearn.pipeline import make_pipeline\n",
    "\n",
    "\n",
    "class Model(object):\n",
    "\n",
    "    def ratio_multiplier(y):\n",
    "        target_stats = Counter(y)\n",
    "        target_stats[0]=number_m\n",
    "        return target_stats\n",
    "    def ratio_multiplier2(y):\n",
    "        target_stats = Counter(y)\n",
    "        target_stats[1]=number_n\n",
    "        return target_stats\n",
    "\n",
    "    RS=None\n",
    "\n",
    "    samplers = [\n",
    "        ['RUS', RandomUnderSampler(random_state=RS,sampling_strategy=ratio_multiplier)],\n",
    "    ]\n",
    "\n",
    "    samplers2 = [\n",
    "        ['Random Over Sample', RandomOverSampler(random_state=RS,sampling_strategy=ratio_multiplier2)],\n",
    "        ['SMOTE', SMOTE(random_state=RS,sampling_strategy=ratio_multiplier2)],\n",
    "#         ['ADASYN', ADASYN(random_state=RS)],    \n",
    "    ]\n",
    "\n",
    "    classifiers = [\n",
    "        ['Logistic',LogisticRegression(random_state=RS, solver='lbfgs',multi_class='multinomial')],\n",
    "        ['Gradient',GradientBoostingClassifier(n_estimators=100, learning_rate=1.0,max_depth=1, random_state=RS)],\n",
    "        ['Tree',tree.DecisionTreeClassifier(max_depth=10, random_state=RS)],\n",
    "        ['RandomForest',RandomForestClassifier(n_estimators=100,random_state=RS)],\n",
    "        ['Naive Bayes',GaussianNB()],\n",
    "        ['ElasticNet',SGDClassifier(loss='modified_huber',random_state=RS)],\n",
    "#         ['ElasticNet',ElasticNet(random_state=RS)],\n",
    "#         ['3NN', neighbors.KNeighborsClassifier(3)],\n",
    "#         ['2NN', neighbors.KNeighborsClassifier(2)],\n",
    "    ]\n",
    "\n",
    "    \n",
    "    \n",
    "    def __init__(self,method,name):\n",
    "        for i in range(len(self.samplers2)):\n",
    "            if method==i+1:\n",
    "                print('--%s' %self.samplers2[i][0],end='')\n",
    "            if method==self.samplers2[i][0]:\n",
    "                method=i+1\n",
    "                print('--%s' %self.samplers2[i][0],end='')            \n",
    "        self.method=method\n",
    "        \n",
    "        for i in range(len(self.classifiers)):\n",
    "            if name==i+1:\n",
    "                print('--%s_model--' %self.classifiers[i][0]) \n",
    "            if name==self.classifiers[i][0]:\n",
    "                name=i+1\n",
    "                print('--%s_model--' %self.classifiers[i][0])\n",
    "        self.name=name\n",
    "        \n",
    "        \n",
    "\n",
    "    def __call__(self,m,n):\n",
    "        global number_m\n",
    "        global number_n\n",
    "        m,n=int(m),int(n)\n",
    "        number_m,number_n=m,n\n",
    "        \n",
    "        pipelines = [\n",
    "        ['{}-{}-{}'.format(sampler[0],sampler2[0], classifier[0]),\n",
    "         make_pipeline(sampler[1],sampler2[1], classifier[1])]\n",
    "        for sampler in self.samplers for sampler2 in self.samplers2 for classifier in self.classifiers\n",
    "        ]   \n",
    "        \n",
    "        train=pd.concat([i_train(0),i_train(1)])\n",
    "                    \n",
    "        with warnings.catch_warnings():\n",
    "            warnings.filterwarnings(\"ignore\")\n",
    "\n",
    "            p=(self.method-1)*(len(self.classifiers))+self.name-1\n",
    "            clf = pipelines[p][1].fit(train.iloc[:,2:], train.iloc[:,1])\n",
    "            \n",
    "            y_pred=clf.predict(test.iloc[:,2:])            \n",
    "            p=precision_recall_fscore_support(y_true, y_pred)\n",
    "                                    \n",
    "            #p-value\n",
    "            self.y_proba=clf.predict_proba(test.iloc[:,2:])\n",
    "            self.pv=f_regression(train.iloc[:,2:], train.iloc[:,1])[1]\n",
    "            self.clf=clf\n",
    "            self.y_pred=y_pred\n",
    "            self.train=train\n",
    "        \n",
    "        return p"
   ]
  },
  {
   "cell_type": "markdown",
   "metadata": {
    "heading_collapsed": true
   },
   "source": [
    "# LinealModel"
   ]
  },
  {
   "cell_type": "code",
   "execution_count": null,
   "metadata": {
    "hidden": true
   },
   "outputs": [],
   "source": [
    "%%file LinealModel.py\n",
    "from . import *\n",
    "from . import test,train,ccd,y_true\n",
    "\n",
    "bounds = [(len(i_train(1)), (len(i_train(0)))), (len(i_train(1)), (len(i_train(0))))]\n",
    "\n",
    "def opt():\n",
    "    #fit\n",
    "    from sklearn.linear_model import LinearRegression\n",
    "    X=ccd.iloc[:,:2]\n",
    "    y1=ccd.iloc[:,2]\n",
    "    y2=ccd.iloc[:,3]\n",
    "    \n",
    "    from sklearn.preprocessing import PolynomialFeatures \n",
    "\n",
    "    poly = PolynomialFeatures(degree = 2) \n",
    "    X_poly = poly.fit_transform(X)\n",
    "\n",
    "    def polyfit(y):\n",
    "        poly.fit(X_poly, y) \n",
    "        l = LinearRegression().fit(X_poly, y) \n",
    "        return l\n",
    "    \n",
    "    l1=polyfit(y1)\n",
    "    l2=polyfit(y2)\n",
    "    print('y1_score:%f  y2_score:%f'%(l1.score(X_poly, y1),l2.score(X_poly, y2)))\n",
    "    \n",
    "    l1coef=lambda n:l1.coef_[n]\n",
    "    l2coef=lambda n:l2.coef_[n]\n",
    "    \n",
    "    def eggholder(x):\n",
    "        a=l1coef(0)+x[0]*l1coef(1)+x[1]*l1coef(2)+x[0]*x[0]*l1coef(3)+x[0]*x[1]*l1coef(4)+x[1]*x[1]*l1coef(5)\n",
    "        b=l2coef(0)+x[0]*l2coef(1)+x[1]*l2coef(2)+x[0]*x[0]*l2coef(3)+x[0]*x[1]*l2coef(4)+x[1]*x[1]*l2coef(5)\n",
    "        a=np.where(a>0,np.where(a>1,1,a),0);b=np.where(b>0,np.where(b>1,1,b),0);\n",
    "        c=np.sqrt(a*b)\n",
    "        return -c\n",
    "    eggplot=lambda x:eggholder(x)*-1\n",
    "    \n",
    "    #3D\n",
    "    from mpl_toolkits.mplot3d import Axes3D\n",
    "\n",
    "    x = np.arange(len(i_train(1)), (len(i_train(0))),1000)\n",
    "    y = np.arange(len(i_train(1)), (len(i_train(0))),1000)\n",
    "    xgrid, ygrid = np.meshgrid(x, y)\n",
    "    xy = np.stack([xgrid, ygrid])\n",
    "\n",
    "    fig = plt.figure()\n",
    "    ax = fig.add_subplot(111, projection='3d')\n",
    "    ax.view_init(45, -45)\n",
    "    ax.plot_surface(xgrid, ygrid, eggplot(xy), cmap='terrain')\n",
    "    ax.set_xlabel('x')\n",
    "    ax.set_ylabel('y')\n",
    "    ax.set_zlabel('eggholder(x, y)')\n",
    "\n",
    "    print('\\nRegressionModel:',end='')\n",
    "    plt.show()\n",
    "    \n",
    "    #opt\n",
    "    from scipy import optimize\n",
    "    results = dict()\n",
    "\n",
    "#     from numpy.random import random\n",
    "#     r = random(6)  # Random start vector\n",
    "#     res = minimize(lambda x: np.var(x), r, bounds)\n",
    "\n",
    "    results['min']= optimize.minimize(eggholder, bounds)\n",
    "    results['shgo'] = optimize.shgo(eggholder, bounds)\n",
    "    results['DA'] = optimize.dual_annealing(eggholder, bounds)\n",
    "    results['DE'] = optimize.differential_evolution(eggholder, bounds)\n",
    "    results['BH'] = optimize.basinhopping(eggholder, bounds)\n",
    "    \n",
    "    for key in results:\n",
    "        if results['min']['fun']>results[key]['fun']:\n",
    "            results['min']=results[key]\n",
    "            \n",
    "    print('Optimize:')\n",
    "    print(results['min'])\n",
    "    \n",
    "    fy1,fy2,favg,avgpv=0,0,0,0\n",
    "    for n in range(10):\n",
    "        p=model(int(results['min']['x'][0]),int(results['min']['x'][1]))\n",
    "        fy1+=p[1][0]*0.1\n",
    "        fy2+=p[1][1]*0.1\n",
    "        favg+=p[2][1]*0.1\n",
    "        avgpv+=model.pv*0.1\n",
    "\n",
    "    print('\\nOptimize Resampling:')\n",
    "    display(pd.DataFrame([[int(results['min']['x'][0]),int(results['min']['x'][1]),fy1,fy2,favg]]\n",
    "                         ,columns=['合格','不合格','合格準確率','不合格準確率','F1 score'],index=['平均']))\n",
    "# Confusion_matrix\n",
    "    print('Confusion_matrix:')\n",
    "    confusion.Confusion_matrix(y_true, model.y_pred)\n",
    "    print(classification_report(y_true, model.y_pred, target_names=['0','1']))"
   ]
  },
  {
   "cell_type": "markdown",
   "metadata": {},
   "source": [
    "# food"
   ]
  },
  {
   "cell_type": "code",
   "execution_count": 1,
   "metadata": {},
   "outputs": [
    {
     "data": {
      "text/plain": [
       "['C:\\\\Users\\\\6506\\\\Anaconda3\\\\lib\\\\site-packages\\\\requests']"
      ]
     },
     "execution_count": 1,
     "metadata": {},
     "output_type": "execute_result"
    }
   ],
   "source": [
    "import requests\n",
    "requests.__path__"
   ]
  },
  {
   "cell_type": "code",
   "execution_count": 2,
   "metadata": {},
   "outputs": [],
   "source": [
    "import os\n",
    "os.chdir('C:/Users/6506/Anaconda3/Lib/food/')"
   ]
  },
  {
   "cell_type": "code",
   "execution_count": 3,
   "metadata": {},
   "outputs": [
    {
     "name": "stdout",
     "output_type": "stream",
     "text": [
      "Resampling:\n",
      "1. Random Over Sample\n",
      "2. SMOTE\n",
      "\n",
      "Select Model:\n",
      "1. Logistic\n",
      "2. Gradient\n",
      "3. Tree\n",
      "4. RandomForest\n",
      "5. Naive Bayes\n",
      "6. ElasticNet\n"
     ]
    }
   ],
   "source": [
    "import food"
   ]
  },
  {
   "cell_type": "code",
   "execution_count": 4,
   "metadata": {
    "scrolled": false
   },
   "outputs": [
    {
     "name": "stdout",
     "output_type": "stream",
     "text": [
      "--Random Over Sample--ElasticNet_model--\n",
      "\n",
      "Confusion_matrix:\n",
      "Confusion matrix, without normalization\n",
      "[[1868 1894]\n",
      " [  28  176]]\n",
      "Normalized confusion matrix\n",
      "[[0.5  0.5 ]\n",
      " [0.14 0.86]]\n"
     ]
    },
    {
     "data": {
      "image/png": "[encoded data removed]",
      "text/plain": [
       "<Figure size 432x288 with 2 Axes>"
      ]
     },
     "metadata": {
      "needs_background": "light"
     },
     "output_type": "display_data"
    },
    {
     "data": {
      "image/png": "[encoded data removed]",
      "text/plain": [
       "<Figure size 432x288 with 2 Axes>"
      ]
     },
     "metadata": {
      "needs_background": "light"
     },
     "output_type": "display_data"
    },
    {
     "name": "stdout",
     "output_type": "stream",
     "text": [
      "              precision    recall  f1-score   support\n",
      "\n",
      "           0       0.99      0.50      0.66      3762\n",
      "           1       0.09      0.86      0.15       204\n",
      "\n",
      "    accuracy                           0.52      3966\n",
      "   macro avg       0.54      0.68      0.41      3966\n",
      "weighted avg       0.94      0.52      0.63      3966\n",
      "\n"
     ]
    }
   ],
   "source": [
    "food.select_model(1,6)"
   ]
  },
  {
   "cell_type": "code",
   "execution_count": null,
   "metadata": {
    "scrolled": false
   },
   "outputs": [],
   "source": [
    "food.doe_model(1,5)"
   ]
  },
  {
   "cell_type": "code",
   "execution_count": null,
   "metadata": {},
   "outputs": [],
   "source": [
    "food.model.train[food.model.train.iloc[:,1]==1]"
   ]
  },
  {
   "cell_type": "code",
   "execution_count": null,
   "metadata": {},
   "outputs": [],
   "source": [
    "from sklearn.externals.six import StringIO\n",
    "import pydotplus\n",
    "import graphviz\n",
    "from sklearn import tree\n",
    "\n",
    "dot_data = StringIO()\n",
    "tree.export_graphviz(food.model.clf,\n",
    "        out_file=dot_data,\n",
    "        feature_names=food.train.iloc[:,2:].columns,\n",
    "        class_names=['0','1'],\n",
    "        filled=True, rounded=True,\n",
    "        impurity=False)\n",
    "\n",
    "graph = pydotplus.graph_from_dot_data(dot_data.getvalue())\n",
    "import os\n",
    "os.environ[\"PATH\"] += os.pathsep + 'C:/Users/6506/AppData/Local/Continuum/anaconda3/Library/bin/graphviz'\n",
    "graph.write_svg('C:/Users/6506/Desktop/g.svg')"
   ]
  },
  {
   "cell_type": "code",
   "execution_count": null,
   "metadata": {},
   "outputs": [],
   "source": [
    "food.pd.set_option('display.float_format',lambda x : '%.2f' % x)\n",
    "food.model.y_proba[:,1]"
   ]
  },
  {
   "cell_type": "code",
   "execution_count": null,
   "metadata": {
    "scrolled": false
   },
   "outputs": [],
   "source": [
    "result=food.ensemble()"
   ]
  },
  {
   "cell_type": "code",
   "execution_count": null,
   "metadata": {},
   "outputs": [],
   "source": [
    "food.confusion.Confusion_matrix(food.y_true,result['all-vote'])\n",
    "print(food.classification_report(food.y_true, result['all-vote'], target_names=['0','1']))"
   ]
  },
  {
   "cell_type": "code",
   "execution_count": null,
   "metadata": {},
   "outputs": [],
   "source": [
    "result"
   ]
  },
  {
   "cell_type": "code",
   "execution_count": null,
   "metadata": {},
   "outputs": [],
   "source": [
    "food.trained_model(1,1)"
   ]
  },
  {
   "cell_type": "code",
   "execution_count": null,
   "metadata": {},
   "outputs": [],
   "source": []
  }
 ],
 "metadata": {
  "kernelspec": {
   "display_name": "Python 3",
   "language": "python",
   "name": "python3"
  },
  "language_info": {
   "codemirror_mode": {
    "name": "ipython",
    "version": 3
   },
   "file_extension": ".py",
   "mimetype": "text/x-python",
   "name": "python",
   "nbconvert_exporter": "python",
   "pygments_lexer": "ipython3",
   "version": "3.7.6"
  },
  "toc": {
   "base_numbering": 1,
   "nav_menu": {},
   "number_sections": true,
   "sideBar": true,
   "skip_h1_title": false,
   "title_cell": "Table of Contents",
   "title_sidebar": "Contents",
   "toc_cell": false,
   "toc_position": {},
   "toc_section_display": true,
   "toc_window_display": false
  }
 },
 "nbformat": 4,
 "nbformat_minor": 2
}

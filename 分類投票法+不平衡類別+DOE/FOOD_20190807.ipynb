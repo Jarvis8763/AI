{
 "cells": [
  {
   "cell_type": "markdown",
   "metadata": {},
   "source": [
    "# Data Refine"
   ]
  },
  {
   "cell_type": "code",
   "execution_count": 1,
   "metadata": {
    "cell_style": "center"
   },
   "outputs": [],
   "source": [
    "import pandas as pd\n",
    "import numpy as np\n",
    "import matplotlib.pyplot as plt"
   ]
  },
  {
   "cell_type": "code",
   "execution_count": 2,
   "metadata": {
    "cell_style": "center"
   },
   "outputs": [],
   "source": [
    "#import data\n",
    "test=pd.read_csv('C:/Users/6506/Desktop/JL/變數刪除後123/分析大表testing_data_11_flted.csv',encoding='ANSI')\n",
    "train=pd.read_csv('C:/Users/6506/Desktop/JL/變數刪除後123/分析大表training_data_11_flted.csv',encoding='ANSI')\n",
    "df=pd.concat([test,train])"
   ]
  },
  {
   "cell_type": "code",
   "execution_count": 3,
   "metadata": {},
   "outputs": [],
   "source": [
    "null_columns=train.columns[train.isnull().any()]\n",
    "#train[train.isnull().any(axis=1)][null_columns]\n",
    "train.loc[train.isnull().any(axis=1),null_columns]='NA'"
   ]
  },
  {
   "cell_type": "code",
   "execution_count": 4,
   "metadata": {},
   "outputs": [],
   "source": [
    "#transform category variable type\n",
    "d=df.dtypes==object\n",
    "i=d[d==True].index[1:]\n",
    "df[i]=df[i].apply(lambda x: x.astype('category').cat.codes)\n",
    "#for i in d[d==True].index[1:]:\n",
    "    #df[i]=df[i].astype('category').cat.codes"
   ]
  },
  {
   "cell_type": "code",
   "execution_count": 5,
   "metadata": {},
   "outputs": [],
   "source": [
    "#normalization\n",
    "from sklearn import preprocessing\n",
    "df.iloc[:,2:]=preprocessing.MinMaxScaler().fit_transform(df.iloc[:,2:])"
   ]
  },
  {
   "cell_type": "code",
   "execution_count": 6,
   "metadata": {},
   "outputs": [],
   "source": [
    "#split data\n",
    "test=df.iloc[0:len(test)]\n",
    "train=df.iloc[len(test):]"
   ]
  },
  {
   "cell_type": "code",
   "execution_count": 7,
   "metadata": {},
   "outputs": [
    {
     "name": "stderr",
     "output_type": "stream",
     "text": [
      "C:\\Users\\6506\\AppData\\Local\\Continuum\\anaconda3\\lib\\site-packages\\sklearn\\linear_model\\logistic.py:947: ConvergenceWarning: lbfgs failed to converge. Increase the number of iterations.\n",
      "  \"of iterations.\", ConvergenceWarning)\n"
     ]
    },
    {
     "data": {
      "text/plain": [
       "0.9470499243570348"
      ]
     },
     "execution_count": 7,
     "metadata": {},
     "output_type": "execute_result"
    }
   ],
   "source": [
    "#logistic regression\n",
    "from sklearn.linear_model import LogisticRegression\n",
    "clf = LogisticRegression(random_state=0, solver='lbfgs',multi_class='multinomial').fit(train.iloc[:,2:], train.iloc[:,1])\n",
    "y_pred=clf.predict(test.iloc[:,2:])\n",
    "y_true=test.iloc[:,1]\n",
    "clf.score(test.iloc[:,2:], y_true)"
   ]
  },
  {
   "cell_type": "code",
   "execution_count": 8,
   "metadata": {},
   "outputs": [],
   "source": [
    "from sklearn.utils.multiclass import unique_labels\n",
    "from sklearn.metrics import confusion_matrix\n",
    "def plot_confusion_matrix(y_true, y_pred, classes,\n",
    "                          normalize=False,\n",
    "                          title=None,\n",
    "                          cmap=plt.cm.Blues):\n",
    "    if not title:\n",
    "        if normalize:\n",
    "            title = 'Normalized confusion matrix'\n",
    "        else:\n",
    "            title = 'Confusion matrix, without normalization'\n",
    "    # Compute confusion matrix\n",
    "    cm = confusion_matrix(y_true, y_pred)\n",
    "    # Only use the labels that appear in the data\n",
    "    classes = classes[unique_labels(y_true, y_pred)]\n",
    "    if normalize:\n",
    "        cm = cm.astype('float') / cm.sum(axis=1)[:, np.newaxis]\n",
    "        print(\"Normalized confusion matrix\")\n",
    "    else:\n",
    "        print('Confusion matrix, without normalization')\n",
    "\n",
    "    print(cm)\n",
    "\n",
    "    fig, ax = plt.subplots()\n",
    "    im = ax.imshow(cm, interpolation='nearest', cmap=cmap)\n",
    "    ax.figure.colorbar(im, ax=ax)\n",
    "    # We want to show all ticks...\n",
    "    ax.set(xticks=np.arange(cm.shape[1]),\n",
    "           yticks=np.arange(cm.shape[0]),\n",
    "           # ... and label them with the respective list entries\n",
    "           xticklabels=classes, yticklabels=classes,\n",
    "           title=title,\n",
    "           ylabel='True label',\n",
    "           xlabel='Predicted label')\n",
    "\n",
    "    # Rotate the tick labels and set their alignment.\n",
    "    plt.setp(ax.get_xticklabels(), rotation=45, ha=\"right\",\n",
    "             rotation_mode=\"anchor\")\n",
    "\n",
    "    # Loop over data dimensions and create text annotations.\n",
    "    fmt = '.2f' if normalize else 'd'\n",
    "    thresh = cm.max() / 2.\n",
    "    for i in range(cm.shape[0]):\n",
    "        for j in range(cm.shape[1]):\n",
    "            ax.text(j, i, format(cm[i, j], fmt),\n",
    "                    ha=\"center\", va=\"center\",\n",
    "                    color=\"white\" if cm[i, j] > thresh else \"black\")\n",
    "    fig.tight_layout()\n",
    "    return ax"
   ]
  },
  {
   "cell_type": "code",
   "execution_count": 9,
   "metadata": {},
   "outputs": [],
   "source": [
    "#confusion_matrix\n",
    "def Confusion_matrix(y_true, y_pred):\n",
    "    class_names=unique_labels(y_true)\n",
    "\n",
    "    np.set_printoptions(precision=2)\n",
    "# Plot non-normalized confusion matrix\n",
    "    plot_confusion_matrix(y_true, y_pred, classes=class_names,\n",
    "                      title='Confusion matrix, without normalization')\n",
    "\n",
    "# Plot normalized confusion matrix\n",
    "    plot_confusion_matrix(y_true, y_pred, classes=class_names, normalize=True,\n",
    "                      title='Normalized confusion matrix')\n",
    "    plt.show()"
   ]
  },
  {
   "cell_type": "code",
   "execution_count": 10,
   "metadata": {},
   "outputs": [
    {
     "name": "stdout",
     "output_type": "stream",
     "text": [
      "Accuracy: 0.947050\n",
      "Precision: 0.392857\n",
      "Recall: 0.053922\n",
      "F1 score: 0.094828\n"
     ]
    }
   ],
   "source": [
    "from sklearn.metrics import accuracy_score\n",
    "from sklearn.metrics import precision_recall_fscore_support\n",
    "accuracy = accuracy_score(y_true, y_pred)\n",
    "p=precision_recall_fscore_support(y_true, y_pred)\n",
    "print('Accuracy: %f' % accuracy)\n",
    "print('Precision: %f' % p[0][1])\n",
    "print('Recall: %f' % p[1][1])\n",
    "print('F1 score: %f' % p[2][1])"
   ]
  },
  {
   "cell_type": "code",
   "execution_count": 11,
   "metadata": {},
   "outputs": [
    {
     "name": "stdout",
     "output_type": "stream",
     "text": [
      "              precision    recall  f1-score   support\n",
      "\n",
      "           0       0.95      1.00      0.97      3762\n",
      "           1       0.39      0.05      0.09       204\n",
      "\n",
      "    accuracy                           0.95      3966\n",
      "   macro avg       0.67      0.52      0.53      3966\n",
      "weighted avg       0.92      0.95      0.93      3966\n",
      "\n"
     ]
    }
   ],
   "source": [
    "from sklearn.metrics import classification_report\n",
    "print(classification_report(y_true, y_pred, target_names=['0','1']))"
   ]
  },
  {
   "cell_type": "code",
   "execution_count": 12,
   "metadata": {},
   "outputs": [],
   "source": [
    "test.to_csv('C:/Users/6506/Desktop/test.csv',encoding='utf-8')\n",
    "train.to_csv('C:/Users/6506/Desktop/train.csv',encoding='utf-8')"
   ]
  },
  {
   "cell_type": "code",
   "execution_count": 13,
   "metadata": {},
   "outputs": [
    {
     "data": {
      "text/plain": [
       "825"
      ]
     },
     "execution_count": 13,
     "metadata": {},
     "output_type": "execute_result"
    }
   ],
   "source": [
    "def y_train(i):\n",
    "    return train[train['檢驗不合格']==i]\n",
    "len(y_train(1))"
   ]
  },
  {
   "cell_type": "markdown",
   "metadata": {},
   "source": [
    "# Design of Experiment"
   ]
  },
  {
   "cell_type": "code",
   "execution_count": 14,
   "metadata": {},
   "outputs": [],
   "source": [
    "import pyDOE2\n",
    "ccd=pyDOE2.ccdesign(2,center=(4,4),face='cci')"
   ]
  },
  {
   "cell_type": "code",
   "execution_count": 15,
   "metadata": {},
   "outputs": [
    {
     "data": {
      "text/plain": [
       "array([[ 3327.,  3327.,     0.],\n",
       "       [15405.,  3327.,     0.],\n",
       "       [ 3327., 15405.,     0.],\n",
       "       [15405., 15405.,     0.],\n",
       "       [ 9366.,  9366.,     0.],\n",
       "       [ 9366.,  9366.,     0.],\n",
       "       [ 9366.,  9366.,     0.],\n",
       "       [ 9366.,  9366.,     0.],\n",
       "       [  825.,  9366.,     0.],\n",
       "       [17907.,  9366.,     0.],\n",
       "       [ 9366.,   825.,     0.],\n",
       "       [ 9366., 17907.,     0.],\n",
       "       [ 9366.,  9366.,     0.],\n",
       "       [ 9366.,  9366.,     0.],\n",
       "       [ 9366.,  9366.,     0.],\n",
       "       [ 9366.,  9366.,     0.]])"
      ]
     },
     "execution_count": 15,
     "metadata": {},
     "output_type": "execute_result"
    }
   ],
   "source": [
    "ccd=np.rint((ccd+1)*(len(y_train(0))-len(y_train(1)))/2+len(y_train(1)))\n",
    "ccd=np.insert(ccd,[2],0,1)\n",
    "ccd"
   ]
  },
  {
   "cell_type": "code",
   "execution_count": 16,
   "metadata": {},
   "outputs": [],
   "source": [
    "import warnings\n",
    "from sklearn.feature_selection import f_regression\n",
    "\n",
    "class Logistic(object):\n",
    "    def __init__(self):\n",
    "        y_true=test.iloc[:,1]\n",
    "\n",
    "    def __call__(self,m,n):\n",
    "        train=pd.concat([y_train(0).sample(m),y_train(1).sample(n,replace=True)])\n",
    "        with warnings.catch_warnings():\n",
    "            warnings.filterwarnings(\"ignore\")\n",
    "            clf = LogisticRegression(random_state=0, solver='lbfgs',multi_class='multinomial').fit(train.iloc[:,2:], train.iloc[:,1])\n",
    "            y_pred=clf.predict(test.iloc[:,2:])\n",
    "            p=precision_recall_fscore_support(y_true, y_pred)\n",
    "            print('F1 score: %f' % p[2][1])\n",
    "            \n",
    "            #p-value\n",
    "            self.pv=f_regression(train.iloc[:,2:], train.iloc[:,1])[1]\n",
    "            self.clf=clf\n",
    "            self.y_pred=y_pred\n",
    "        \n",
    "        return p[2][1]\n",
    "    \n",
    "logistic=Logistic()"
   ]
  },
  {
   "cell_type": "code",
   "execution_count": 17,
   "metadata": {
    "scrolled": false
   },
   "outputs": [
    {
     "name": "stdout",
     "output_type": "stream",
     "text": [
      "Trial 1   F1 score: 0.196911\n",
      "Trial 2   F1 score: 0.269406\n",
      "Trial 3   F1 score: 0.120968\n",
      "Trial 4   F1 score: 0.201065\n",
      "Trial 5   F1 score: 0.198083\n",
      "Trial 6   F1 score: 0.203279\n",
      "Trial 7   F1 score: 0.204756\n",
      "Trial 8   F1 score: 0.197309\n",
      "Trial 9   F1 score: 0.104762\n",
      "Trial 10  F1 score: 0.284078\n",
      "Trial 11  F1 score: 0.201342\n",
      "Trial 12  F1 score: 0.150502\n",
      "Trial 13  F1 score: 0.203540\n",
      "Trial 14  F1 score: 0.189422\n",
      "Trial 15  F1 score: 0.197516\n",
      "Trial 16  F1 score: 0.199485\n"
     ]
    }
   ],
   "source": [
    "for i in range(len(ccd)):\n",
    "    if i<9:\n",
    "        print('Trial %d   ' %(i+1), end='')\n",
    "    else:\n",
    "        print('Trial %d  ' %(i+1), end='')\n",
    "    ccd[i][2]=logistic(int(ccd[i][0]),int(ccd[i][1]))"
   ]
  },
  {
   "cell_type": "code",
   "execution_count": 18,
   "metadata": {},
   "outputs": [
    {
     "data": {
      "text/html": [
       "<div>\n",
       "<style scoped>\n",
       "    .dataframe tbody tr th:only-of-type {\n",
       "        vertical-align: middle;\n",
       "    }\n",
       "\n",
       "    .dataframe tbody tr th {\n",
       "        vertical-align: top;\n",
       "    }\n",
       "\n",
       "    .dataframe thead th {\n",
       "        text-align: right;\n",
       "    }\n",
       "</style>\n",
       "<table border=\"1\" class=\"dataframe\">\n",
       "  <thead>\n",
       "    <tr style=\"text-align: right;\">\n",
       "      <th></th>\n",
       "      <th>0</th>\n",
       "      <th>1</th>\n",
       "      <th>2</th>\n",
       "    </tr>\n",
       "  </thead>\n",
       "  <tbody>\n",
       "    <tr>\n",
       "      <th>0</th>\n",
       "      <td>3327.0</td>\n",
       "      <td>3327.0</td>\n",
       "      <td>0.196911</td>\n",
       "    </tr>\n",
       "    <tr>\n",
       "      <th>1</th>\n",
       "      <td>15405.0</td>\n",
       "      <td>3327.0</td>\n",
       "      <td>0.269406</td>\n",
       "    </tr>\n",
       "    <tr>\n",
       "      <th>2</th>\n",
       "      <td>3327.0</td>\n",
       "      <td>15405.0</td>\n",
       "      <td>0.120968</td>\n",
       "    </tr>\n",
       "    <tr>\n",
       "      <th>3</th>\n",
       "      <td>15405.0</td>\n",
       "      <td>15405.0</td>\n",
       "      <td>0.201065</td>\n",
       "    </tr>\n",
       "    <tr>\n",
       "      <th>4</th>\n",
       "      <td>9366.0</td>\n",
       "      <td>9366.0</td>\n",
       "      <td>0.198083</td>\n",
       "    </tr>\n",
       "    <tr>\n",
       "      <th>5</th>\n",
       "      <td>9366.0</td>\n",
       "      <td>9366.0</td>\n",
       "      <td>0.203279</td>\n",
       "    </tr>\n",
       "    <tr>\n",
       "      <th>6</th>\n",
       "      <td>9366.0</td>\n",
       "      <td>9366.0</td>\n",
       "      <td>0.204756</td>\n",
       "    </tr>\n",
       "    <tr>\n",
       "      <th>7</th>\n",
       "      <td>9366.0</td>\n",
       "      <td>9366.0</td>\n",
       "      <td>0.197309</td>\n",
       "    </tr>\n",
       "    <tr>\n",
       "      <th>8</th>\n",
       "      <td>825.0</td>\n",
       "      <td>9366.0</td>\n",
       "      <td>0.104762</td>\n",
       "    </tr>\n",
       "    <tr>\n",
       "      <th>9</th>\n",
       "      <td>17907.0</td>\n",
       "      <td>9366.0</td>\n",
       "      <td>0.284078</td>\n",
       "    </tr>\n",
       "    <tr>\n",
       "      <th>10</th>\n",
       "      <td>9366.0</td>\n",
       "      <td>825.0</td>\n",
       "      <td>0.201342</td>\n",
       "    </tr>\n",
       "    <tr>\n",
       "      <th>11</th>\n",
       "      <td>9366.0</td>\n",
       "      <td>17907.0</td>\n",
       "      <td>0.150502</td>\n",
       "    </tr>\n",
       "    <tr>\n",
       "      <th>12</th>\n",
       "      <td>9366.0</td>\n",
       "      <td>9366.0</td>\n",
       "      <td>0.203540</td>\n",
       "    </tr>\n",
       "    <tr>\n",
       "      <th>13</th>\n",
       "      <td>9366.0</td>\n",
       "      <td>9366.0</td>\n",
       "      <td>0.189422</td>\n",
       "    </tr>\n",
       "    <tr>\n",
       "      <th>14</th>\n",
       "      <td>9366.0</td>\n",
       "      <td>9366.0</td>\n",
       "      <td>0.197516</td>\n",
       "    </tr>\n",
       "    <tr>\n",
       "      <th>15</th>\n",
       "      <td>9366.0</td>\n",
       "      <td>9366.0</td>\n",
       "      <td>0.199485</td>\n",
       "    </tr>\n",
       "  </tbody>\n",
       "</table>\n",
       "</div>"
      ],
      "text/plain": [
       "          0        1         2\n",
       "0    3327.0   3327.0  0.196911\n",
       "1   15405.0   3327.0  0.269406\n",
       "2    3327.0  15405.0  0.120968\n",
       "3   15405.0  15405.0  0.201065\n",
       "4    9366.0   9366.0  0.198083\n",
       "5    9366.0   9366.0  0.203279\n",
       "6    9366.0   9366.0  0.204756\n",
       "7    9366.0   9366.0  0.197309\n",
       "8     825.0   9366.0  0.104762\n",
       "9   17907.0   9366.0  0.284078\n",
       "10   9366.0    825.0  0.201342\n",
       "11   9366.0  17907.0  0.150502\n",
       "12   9366.0   9366.0  0.203540\n",
       "13   9366.0   9366.0  0.189422\n",
       "14   9366.0   9366.0  0.197516\n",
       "15   9366.0   9366.0  0.199485"
      ]
     },
     "execution_count": 18,
     "metadata": {},
     "output_type": "execute_result"
    }
   ],
   "source": [
    "ccd=pd.DataFrame(ccd)\n",
    "ccd"
   ]
  },
  {
   "cell_type": "code",
   "execution_count": 19,
   "metadata": {},
   "outputs": [
    {
     "data": {
      "text/plain": [
       "0.8982161116176238"
      ]
     },
     "execution_count": 19,
     "metadata": {},
     "output_type": "execute_result"
    }
   ],
   "source": [
    "from sklearn.linear_model import LinearRegression\n",
    "X=ccd.iloc[:,:2]\n",
    "y=ccd.iloc[:,2]\n",
    "l1 = LinearRegression().fit(X, y)\n",
    "l1.score(X,y)"
   ]
  },
  {
   "cell_type": "code",
   "execution_count": 20,
   "metadata": {},
   "outputs": [
    {
     "data": {
      "text/plain": [
       "0.919106460718504"
      ]
     },
     "execution_count": 20,
     "metadata": {},
     "output_type": "execute_result"
    }
   ],
   "source": [
    "from sklearn.preprocessing import PolynomialFeatures \n",
    "\n",
    "poly = PolynomialFeatures(degree = 2) \n",
    "X_poly = poly.fit_transform(X) \n",
    "\n",
    "poly.fit(X_poly, y) \n",
    "l2 = LinearRegression().fit(X_poly, y) \n",
    "l2.score(X_poly, y)"
   ]
  },
  {
   "cell_type": "markdown",
   "metadata": {},
   "source": [
    "# Linear Programming"
   ]
  },
  {
   "cell_type": "code",
   "execution_count": 21,
   "metadata": {},
   "outputs": [],
   "source": [
    "#return l2coef(0)+a*l2coef(1)+b*l2coef(2)+a*a*l2coef(3)+a*b*l2coef(4)+b*b*l2coef(5)"
   ]
  },
  {
   "cell_type": "code",
   "execution_count": 22,
   "metadata": {},
   "outputs": [],
   "source": [
    "l1coef=lambda n:l1.coef_[n]\n",
    "l2coef=lambda n:l2.coef_[n]\n",
    "\n",
    "def eggholder(x):\n",
    "    c=l2coef(0)+x[0]*l2coef(1)+x[1]*l2coef(2)+x[0]*x[0]*l2coef(3)+x[0]*x[1]*l2coef(4)+x[1]*x[1]*l2coef(5)\n",
    "    #c=x[0]*l1coef(0)+x[1]*l1coef(1)\n",
    "    return -c\n",
    "\n",
    "bounds = [(len(y_train(1)), (len(y_train(0)))), (len(y_train(1)), (len(y_train(0))))]"
   ]
  },
  {
   "cell_type": "code",
   "execution_count": 23,
   "metadata": {},
   "outputs": [
    {
     "data": {
      "image/png": "[encoded data removed]",
      "text/plain": [
       "<Figure size 432x288 with 1 Axes>"
      ]
     },
     "metadata": {
      "needs_background": "light"
     },
     "output_type": "display_data"
    }
   ],
   "source": [
    "from mpl_toolkits.mplot3d import Axes3D\n",
    "\n",
    "x = np.arange(len(y_train(1)), (len(y_train(0))),1000)\n",
    "y = np.arange(len(y_train(1)), (len(y_train(0))),1000)\n",
    "xgrid, ygrid = np.meshgrid(x, y)\n",
    "xy = np.stack([xgrid, ygrid])\n",
    "\n",
    "fig = plt.figure()\n",
    "ax = fig.add_subplot(111, projection='3d')\n",
    "ax.view_init(45, -45)\n",
    "ax.plot_surface(xgrid, ygrid, eggholder(xy), cmap='terrain')\n",
    "ax.set_xlabel('x')\n",
    "ax.set_ylabel('y')\n",
    "ax.set_zlabel('eggholder(x, y)')\n",
    "plt.show()"
   ]
  },
  {
   "cell_type": "code",
   "execution_count": 24,
   "metadata": {},
   "outputs": [
    {
     "data": {
      "text/plain": [
       " active_mask: array([0., 0.])\n",
       "        cost: 5.756019529883235e-07\n",
       "         fun: array([0.00107294])\n",
       "        grad: array([-9.10307231e-09,  6.96610072e-09])\n",
       "         jac: array([[-8.48421890e-06,  6.49252488e-06]])\n",
       "     message: '`gtol` termination condition is satisfied.'\n",
       "        nfev: 5\n",
       "        njev: 3\n",
       "  optimality: 9.103072310660583e-09\n",
       "      status: 1\n",
       "     success: True\n",
       "           x: array([ 5624.06215448, 13210.62722086])"
      ]
     },
     "execution_count": 24,
     "metadata": {},
     "output_type": "execute_result"
    }
   ],
   "source": [
    "from scipy import optimize\n",
    "results = dict()\n",
    "\n",
    "bounds = [len(y_train(1)), (len(y_train(0)))]\n",
    "results['shgo'] = optimize.least_squares(eggholder, bounds)\n",
    "results['shgo']"
   ]
  },
  {
   "cell_type": "code",
   "execution_count": 25,
   "metadata": {},
   "outputs": [
    {
     "name": "stdout",
     "output_type": "stream",
     "text": [
      "F1 score: 0.145875\n",
      "F1 score: 0.147214\n",
      "F1 score: 0.137134\n",
      "F1 score: 0.142746\n",
      "F1 score: 0.144869\n",
      "F1 score: 0.145663\n",
      "F1 score: 0.144418\n",
      "F1 score: 0.140921\n",
      "F1 score: 0.144088\n",
      "F1 score: 0.141390\n"
     ]
    },
    {
     "data": {
      "text/plain": [
       "0.14343187338512958"
      ]
     },
     "execution_count": 25,
     "metadata": {},
     "output_type": "execute_result"
    }
   ],
   "source": [
    "avg=0;avgpv=0\n",
    "for n in range(10):\n",
    "    avg+=logistic(int(results['shgo']['x'][0]),int(results['shgo']['x'][1]))*0.1\n",
    "    avgpv+=logistic.pv*0.1\n",
    "avg"
   ]
  },
  {
   "cell_type": "code",
   "execution_count": 26,
   "metadata": {},
   "outputs": [],
   "source": [
    "#P-value\n",
    "b=pd.DataFrame(avgpv)\n",
    "a=pd.DataFrame(test.iloc[:,2:].columns)\n",
    "c=pd.DataFrame(logistic.clf.coef_).T\n",
    "p=pd.concat([a,b,c],axis=1)\n",
    "p.columns=['factor','p-value','coef']\n",
    "p.to_csv('C:/Users/6506/Desktop/abc.csv',encoding='ANSI')"
   ]
  },
  {
   "cell_type": "code",
   "execution_count": 27,
   "metadata": {},
   "outputs": [],
   "source": [
    "#drop column\n",
    "#test=test.drop(columns=p[p['p-value']>0.05].iloc[:,0].tolist())\n",
    "#train=train.drop(columns=p[p['p-value']>0.05].iloc[:,0].tolist())"
   ]
  },
  {
   "cell_type": "code",
   "execution_count": 28,
   "metadata": {},
   "outputs": [
    {
     "name": "stdout",
     "output_type": "stream",
     "text": [
      "Confusion matrix, without normalization\n",
      "[[1613 2149]\n",
      " [  25  179]]\n",
      "Normalized confusion matrix\n",
      "[[0.43 0.57]\n",
      " [0.12 0.88]]\n"
     ]
    },
    {
     "data": {
      "image/png": "[encoded data removed]",
      "text/plain": [
       "<Figure size 432x288 with 2 Axes>"
      ]
     },
     "metadata": {
      "needs_background": "light"
     },
     "output_type": "display_data"
    },
    {
     "data": {
      "image/png": "[encoded data removed]",
      "text/plain": [
       "<Figure size 432x288 with 2 Axes>"
      ]
     },
     "metadata": {
      "needs_background": "light"
     },
     "output_type": "display_data"
    }
   ],
   "source": [
    "Confusion_matrix(y_true, logistic.y_pred)"
   ]
  },
  {
   "cell_type": "code",
   "execution_count": 29,
   "metadata": {},
   "outputs": [
    {
     "name": "stdout",
     "output_type": "stream",
     "text": [
      "              precision    recall  f1-score   support\n",
      "\n",
      "           0       0.98      0.43      0.60      3762\n",
      "           1       0.08      0.88      0.14       204\n",
      "\n",
      "    accuracy                           0.45      3966\n",
      "   macro avg       0.53      0.65      0.37      3966\n",
      "weighted avg       0.94      0.45      0.57      3966\n",
      "\n"
     ]
    }
   ],
   "source": [
    "print(classification_report(y_true, logistic.y_pred, target_names=['0','1']))"
   ]
  },
  {
   "cell_type": "code",
   "execution_count": 30,
   "metadata": {},
   "outputs": [
    {
     "data": {
      "text/plain": [
       "array([ 5624.06, 13210.63])"
      ]
     },
     "execution_count": 30,
     "metadata": {},
     "output_type": "execute_result"
    }
   ],
   "source": [
    "results['shgo'].x"
   ]
  },
  {
   "cell_type": "code",
   "execution_count": 31,
   "metadata": {},
   "outputs": [
    {
     "data": {
      "text/plain": [
       "5619.599999999999"
      ]
     },
     "execution_count": 31,
     "metadata": {},
     "output_type": "execute_result"
    }
   ],
   "source": [
    "len(train)*0.3"
   ]
  },
  {
   "cell_type": "code",
   "execution_count": 32,
   "metadata": {},
   "outputs": [
    {
     "data": {
      "text/html": [
       "<div>\n",
       "<style scoped>\n",
       "    .dataframe tbody tr th:only-of-type {\n",
       "        vertical-align: middle;\n",
       "    }\n",
       "\n",
       "    .dataframe tbody tr th {\n",
       "        vertical-align: top;\n",
       "    }\n",
       "\n",
       "    .dataframe thead th {\n",
       "        text-align: right;\n",
       "    }\n",
       "</style>\n",
       "<table border=\"1\" class=\"dataframe\">\n",
       "  <thead>\n",
       "    <tr style=\"text-align: right;\">\n",
       "      <th></th>\n",
       "      <th>簽審核准許可文件編號</th>\n",
       "      <th>檢驗不合格</th>\n",
       "      <th>每公斤台幣完稅價格</th>\n",
       "      <th>台幣完稅價格</th>\n",
       "      <th>總淨重公斤數</th>\n",
       "      <th>進口商累積報單數</th>\n",
       "      <th>進口商累積總中分類數</th>\n",
       "      <th>進口商累積貨品號列數</th>\n",
       "      <th>資本額</th>\n",
       "      <th>運輸天數</th>\n",
       "      <th>...</th>\n",
       "      <th>報關行累積進口商家數</th>\n",
       "      <th>有無報驗代理人</th>\n",
       "      <th>進口商累積報驗註銷數</th>\n",
       "      <th>製造廠累積報驗註銷數</th>\n",
       "      <th>報關行累積報驗註銷數</th>\n",
       "      <th>進口商累積書審不合格數</th>\n",
       "      <th>製造廠累積書審不合格數</th>\n",
       "      <th>報關行累積書審不合格數</th>\n",
       "      <th>製造廠累積扣押放棄退運批數</th>\n",
       "      <th>報關行累積扣押放棄退運批數</th>\n",
       "    </tr>\n",
       "  </thead>\n",
       "  <tbody>\n",
       "    <tr>\n",
       "      <th>31</th>\n",
       "      <td>IFB00H10720803</td>\n",
       "      <td>1</td>\n",
       "      <td>0.000394</td>\n",
       "      <td>0.005192</td>\n",
       "      <td>0.020899</td>\n",
       "      <td>0.001019</td>\n",
       "      <td>0.050000</td>\n",
       "      <td>0.011299</td>\n",
       "      <td>0.006167</td>\n",
       "      <td>0.016371</td>\n",
       "      <td>...</td>\n",
       "      <td>0.057534</td>\n",
       "      <td>1.0</td>\n",
       "      <td>0.011696</td>\n",
       "      <td>0.0</td>\n",
       "      <td>0.010321</td>\n",
       "      <td>0.003697</td>\n",
       "      <td>0.0</td>\n",
       "      <td>0.011905</td>\n",
       "      <td>0.0</td>\n",
       "      <td>0.0</td>\n",
       "    </tr>\n",
       "    <tr>\n",
       "      <th>76</th>\n",
       "      <td>IFB00D17296400</td>\n",
       "      <td>1</td>\n",
       "      <td>0.018181</td>\n",
       "      <td>0.000041</td>\n",
       "      <td>0.000004</td>\n",
       "      <td>0.001761</td>\n",
       "      <td>0.650000</td>\n",
       "      <td>0.342750</td>\n",
       "      <td>0.013333</td>\n",
       "      <td>0.002729</td>\n",
       "      <td>...</td>\n",
       "      <td>0.214912</td>\n",
       "      <td>1.0</td>\n",
       "      <td>0.005848</td>\n",
       "      <td>0.0</td>\n",
       "      <td>0.067661</td>\n",
       "      <td>0.003697</td>\n",
       "      <td>0.0</td>\n",
       "      <td>0.062629</td>\n",
       "      <td>0.0</td>\n",
       "      <td>0.0</td>\n",
       "    </tr>\n",
       "    <tr>\n",
       "      <th>101</th>\n",
       "      <td>IFB00P10339000</td>\n",
       "      <td>1</td>\n",
       "      <td>0.000308</td>\n",
       "      <td>0.002010</td>\n",
       "      <td>0.010314</td>\n",
       "      <td>0.000535</td>\n",
       "      <td>0.066667</td>\n",
       "      <td>0.041431</td>\n",
       "      <td>0.000005</td>\n",
       "      <td>0.002729</td>\n",
       "      <td>...</td>\n",
       "      <td>0.025284</td>\n",
       "      <td>1.0</td>\n",
       "      <td>0.000000</td>\n",
       "      <td>0.0</td>\n",
       "      <td>0.010321</td>\n",
       "      <td>0.000000</td>\n",
       "      <td>0.0</td>\n",
       "      <td>0.001553</td>\n",
       "      <td>0.0</td>\n",
       "      <td>0.0</td>\n",
       "    </tr>\n",
       "    <tr>\n",
       "      <th>138</th>\n",
       "      <td>IFB00D10369807</td>\n",
       "      <td>1</td>\n",
       "      <td>0.003140</td>\n",
       "      <td>0.000021</td>\n",
       "      <td>0.000011</td>\n",
       "      <td>0.000138</td>\n",
       "      <td>0.100000</td>\n",
       "      <td>0.028249</td>\n",
       "      <td>0.002050</td>\n",
       "      <td>0.038199</td>\n",
       "      <td>...</td>\n",
       "      <td>0.052116</td>\n",
       "      <td>1.0</td>\n",
       "      <td>0.000000</td>\n",
       "      <td>0.0</td>\n",
       "      <td>0.003440</td>\n",
       "      <td>0.000000</td>\n",
       "      <td>0.0</td>\n",
       "      <td>0.000000</td>\n",
       "      <td>0.0</td>\n",
       "      <td>0.0</td>\n",
       "    </tr>\n",
       "    <tr>\n",
       "      <th>146</th>\n",
       "      <td>IFB00D13357700</td>\n",
       "      <td>1</td>\n",
       "      <td>0.000990</td>\n",
       "      <td>0.000350</td>\n",
       "      <td>0.000565</td>\n",
       "      <td>0.001433</td>\n",
       "      <td>0.183333</td>\n",
       "      <td>0.064030</td>\n",
       "      <td>0.002050</td>\n",
       "      <td>0.024557</td>\n",
       "      <td>...</td>\n",
       "      <td>0.151445</td>\n",
       "      <td>1.0</td>\n",
       "      <td>0.000000</td>\n",
       "      <td>0.0</td>\n",
       "      <td>0.024083</td>\n",
       "      <td>0.000000</td>\n",
       "      <td>0.0</td>\n",
       "      <td>0.027433</td>\n",
       "      <td>0.0</td>\n",
       "      <td>0.0</td>\n",
       "    </tr>\n",
       "  </tbody>\n",
       "</table>\n",
       "<p>5 rows × 123 columns</p>\n",
       "</div>"
      ],
      "text/plain": [
       "         簽審核准許可文件編號  檢驗不合格  每公斤台幣完稅價格    台幣完稅價格    總淨重公斤數  進口商累積報單數  \\\n",
       "31   IFB00H10720803      1   0.000394  0.005192  0.020899  0.001019   \n",
       "76   IFB00D17296400      1   0.018181  0.000041  0.000004  0.001761   \n",
       "101  IFB00P10339000      1   0.000308  0.002010  0.010314  0.000535   \n",
       "138  IFB00D10369807      1   0.003140  0.000021  0.000011  0.000138   \n",
       "146  IFB00D13357700      1   0.000990  0.000350  0.000565  0.001433   \n",
       "\n",
       "     進口商累積總中分類數  進口商累積貨品號列數       資本額      運輸天數  ...  報關行累積進口商家數  有無報驗代理人  \\\n",
       "31     0.050000    0.011299  0.006167  0.016371  ...    0.057534      1.0   \n",
       "76     0.650000    0.342750  0.013333  0.002729  ...    0.214912      1.0   \n",
       "101    0.066667    0.041431  0.000005  0.002729  ...    0.025284      1.0   \n",
       "138    0.100000    0.028249  0.002050  0.038199  ...    0.052116      1.0   \n",
       "146    0.183333    0.064030  0.002050  0.024557  ...    0.151445      1.0   \n",
       "\n",
       "     進口商累積報驗註銷數  製造廠累積報驗註銷數  報關行累積報驗註銷數  進口商累積書審不合格數  製造廠累積書審不合格數  \\\n",
       "31     0.011696         0.0    0.010321     0.003697          0.0   \n",
       "76     0.005848         0.0    0.067661     0.003697          0.0   \n",
       "101    0.000000         0.0    0.010321     0.000000          0.0   \n",
       "138    0.000000         0.0    0.003440     0.000000          0.0   \n",
       "146    0.000000         0.0    0.024083     0.000000          0.0   \n",
       "\n",
       "     報關行累積書審不合格數  製造廠累積扣押放棄退運批數  報關行累積扣押放棄退運批數  \n",
       "31      0.011905            0.0            0.0  \n",
       "76      0.062629            0.0            0.0  \n",
       "101     0.001553            0.0            0.0  \n",
       "138     0.000000            0.0            0.0  \n",
       "146     0.027433            0.0            0.0  \n",
       "\n",
       "[5 rows x 123 columns]"
      ]
     },
     "execution_count": 32,
     "metadata": {},
     "output_type": "execute_result"
    }
   ],
   "source": [
    "from imblearn.over_sampling import SMOTE\n",
    "X_train,Y_train=train.iloc[:,2:], train.iloc[:,1]\n",
    "sm = SMOTE(sampling_strategy=len(train)*0.3/len(y_train(0)),random_state=42)\n",
    "X_res, y_res = sm.fit_resample(train.iloc[:,2:], train.iloc[:,1])\n",
    "a=pd.concat([train.iloc[:,0],pd.DataFrame(y_res,columns=[Y_train.name]),pd.DataFrame(X_res,columns=X_train.columns)],axis=1)\n",
    "a.loc[a.iloc[:,1]==1].head()"
   ]
  },
  {
   "cell_type": "code",
   "execution_count": 33,
   "metadata": {},
   "outputs": [
    {
     "data": {
      "image/png": "[encoded data removed]",
      "text/plain": [
       "<Figure size 432x288 with 1 Axes>"
      ]
     },
     "metadata": {
      "needs_background": "light"
     },
     "output_type": "display_data"
    }
   ],
   "source": [
    "from scipy import interp\n",
    "from sklearn import neighbors\n",
    "from sklearn.metrics import auc, roc_curve\n",
    "from sklearn.model_selection import StratifiedKFold\n",
    "\n",
    "from imblearn.over_sampling import ADASYN, SMOTE, RandomOverSampler\n",
    "from imblearn.pipeline import make_pipeline\n",
    "\n",
    "class DummySampler:\n",
    "\n",
    "    def sample(self, X, y):\n",
    "        return X, y\n",
    "\n",
    "    def fit(self, X, y):\n",
    "        return self\n",
    "\n",
    "    def fit_resample(self, X, y):\n",
    "        return self.sample(X, y)\n",
    "\n",
    "# Load the dataset\n",
    "X = train.iloc[:,2:]\n",
    "y = train.iloc[:,1]\n",
    "\n",
    "RANDOM_STATE = 42\n",
    "LW = 2\n",
    "cv = StratifiedKFold(n_splits=3)\n",
    "\n",
    "fig = plt.figure()\n",
    "ax = fig.add_subplot(1, 1, 1)\n",
    "\n",
    "classifier = ['3NN', neighbors.KNeighborsClassifier(3)]\n",
    "\n",
    "\n",
    "samplers = [\n",
    "#      ['Standard', DummySampler()],\n",
    "#     ['ADASYN', ADASYN(random_state=RANDOM_STATE)],\n",
    "#     ['ROS', RandomOverSampler(random_state=RANDOM_STATE)],\n",
    "    ['SMOTE', SMOTE(random_state=RANDOM_STATE)],\n",
    "]\n",
    "\n",
    "pipelines = [\n",
    "    ['{}-{}'.format(sampler[0], classifier[0]),\n",
    "     make_pipeline(sampler[1], classifier[1])]\n",
    "    for sampler in samplers\n",
    "]\n",
    "\n",
    "for name, pipeline in pipelines:\n",
    "    mean_tpr = 0.0\n",
    "    mean_fpr = np.linspace(0, 1, 100)\n",
    "    for train_index, test_index in cv.split(X, y):\n",
    "        X_train, X_test = X.iloc[train_index], X.iloc[test_index]\n",
    "        y_train, y_test = y.iloc[train_index], y.iloc[test_index]\n",
    "        probas_ = pipeline.fit(X_train, y_train).predict_proba(X_test)\n",
    "        fpr, tpr, thresholds = roc_curve(y_test, probas_[:, 1])\n",
    "        mean_tpr += interp(mean_fpr, fpr, tpr)\n",
    "        mean_tpr[0] = 0.0\n",
    "        roc_auc = auc(fpr, tpr)\n",
    "\n",
    "    mean_tpr /= cv.get_n_splits(X, y)\n",
    "    mean_tpr[-1] = 1.0\n",
    "    mean_auc = auc(mean_fpr, mean_tpr)\n",
    "    \n",
    "    plt.plot(mean_fpr, mean_tpr, linestyle='--',\n",
    "             label='{} (area = %0.2f)'.format(name) % mean_auc, lw=LW)\n",
    "\n",
    "plt.plot([0, 1], [0, 1], linestyle='--', lw=LW, color='k',\n",
    "         label='Luck')\n",
    "\n",
    "# make nice plotting\n",
    "ax.spines['top'].set_visible(False)\n",
    "ax.spines['right'].set_visible(False)\n",
    "ax.get_xaxis().tick_bottom()\n",
    "ax.get_yaxis().tick_left()\n",
    "ax.spines['left'].set_position(('outward', 10))\n",
    "ax.spines['bottom'].set_position(('outward', 10))\n",
    "plt.xlim([0, 1])\n",
    "plt.ylim([0, 1])\n",
    "plt.xlabel('False Positive Rate')\n",
    "plt.ylabel('True Positive Rate')\n",
    "plt.title('Receiver operating characteristic example')\n",
    "\n",
    "plt.legend(loc=\"lower right\")\n",
    "\n",
    "plt.show()"
   ]
  },
  {
   "cell_type": "code",
   "execution_count": 1,
   "metadata": {},
   "outputs": [],
   "source": [
    "from scipy import interp\n",
    "from sklearn import neighbors\n",
    "\n",
    "from imblearn.under_sampling import RandomUnderSampler\n",
    "from imblearn.over_sampling import ADASYN, SMOTE, RandomOverSampler\n",
    "from imblearn.pipeline import make_pipeline\n",
    "from sklearn.pipeline import Pipeline\n",
    "\n",
    "RANDOM_STATE=42\n",
    "\n",
    "samplers = [\n",
    "    ['RUS', RandomUnderSampler(random_state=RANDOM_STATE)],\n",
    "]\n",
    "\n",
    "samplers2 = [\n",
    "#     ['Standard', DummySampler()],\n",
    "#     ['ADASYN', ADASYN(random_state=RANDOM_STATE)],\n",
    "    ['ROS', RandomOverSampler(random_state=RANDOM_STATE)],\n",
    "    ['SMOTE', SMOTE(random_state=RANDOM_STATE)],\n",
    "]\n",
    "\n",
    "classifiers = [\n",
    "    ['3NN', neighbors.KNeighborsClassifier(3)],\n",
    "    ['2NN', neighbors.KNeighborsClassifier(2)],\n",
    "]\n",
    "\n",
    "pipelines = [\n",
    "    ['{}-{}-{}'.format(sampler[0],sampler2[0], classifier[0]),\n",
    "     make_pipeline(sampler[1],sampler2[1], classifier[1])]\n",
    "    for sampler in samplers for sampler2 in samplers2 for classifier in classifiers\n",
    "]"
   ]
  },
  {
   "cell_type": "code",
   "execution_count": 9,
   "metadata": {},
   "outputs": [
    {
     "data": {
      "text/plain": [
       "Pipeline(memory=None,\n",
       "         steps=[('randomundersampler',\n",
       "                 RandomUnderSampler(random_state=42, ratio=None,\n",
       "                                    replacement=False, return_indices=False,\n",
       "                                    sampling_strategy='auto')),\n",
       "                ('randomoversampler',\n",
       "                 RandomOverSampler(random_state=42, ratio=None,\n",
       "                                   return_indices=False,\n",
       "                                   sampling_strategy='auto')),\n",
       "                ('kneighborsclassifier',\n",
       "                 KNeighborsClassifier(algorithm='auto', leaf_size=30,\n",
       "                                      metric='minkowski', metric_params=None,\n",
       "                                      n_jobs=None, n_neighbors=2, p=2,\n",
       "                                      weights='uniform'))],\n",
       "         verbose=False)"
      ]
     },
     "execution_count": 9,
     "metadata": {},
     "output_type": "execute_result"
    }
   ],
   "source": [
    "pipelines[1][1]"
   ]
  },
  {
   "cell_type": "code",
   "execution_count": 55,
   "metadata": {},
   "outputs": [
    {
     "data": {
      "text/plain": [
       "18732"
      ]
     },
     "execution_count": 55,
     "metadata": {},
     "output_type": "execute_result"
    }
   ],
   "source": [
    "m,n=5,5\n",
    "pipelines[0][1].fit_resample(X, y)\n",
    "len(X)"
   ]
  },
  {
   "cell_type": "code",
   "execution_count": 38,
   "metadata": {},
   "outputs": [
    {
     "data": {
      "text/plain": [
       "array([0, 0, 0, ..., 0, 0, 0], dtype=int64)"
      ]
     },
     "execution_count": 38,
     "metadata": {},
     "output_type": "execute_result"
    }
   ],
   "source": [
    "clf.predict(X)"
   ]
  },
  {
   "cell_type": "code",
   "execution_count": 44,
   "metadata": {},
   "outputs": [
    {
     "name": "stdout",
     "output_type": "stream",
     "text": [
      "12315\n"
     ]
    },
    {
     "ename": "AttributeError",
     "evalue": "'DummySampler' object has no attribute 'y'",
     "output_type": "error",
     "traceback": [
      "\u001b[1;31m---------------------------------------------------------------------------\u001b[0m",
      "\u001b[1;31mAttributeError\u001b[0m                            Traceback (most recent call last)",
      "\u001b[1;32m<ipython-input-44-a81473327a64>\u001b[0m in \u001b[0;36m<module>\u001b[1;34m\u001b[0m\n\u001b[0;32m      1\u001b[0m \u001b[0mX\u001b[0m\u001b[1;33m=\u001b[0m\u001b[0mtrain\u001b[0m\u001b[1;33m.\u001b[0m\u001b[0miloc\u001b[0m\u001b[1;33m[\u001b[0m\u001b[1;33m:\u001b[0m\u001b[1;33m,\u001b[0m\u001b[1;36m2\u001b[0m\u001b[1;33m:\u001b[0m\u001b[1;33m]\u001b[0m\u001b[1;33m;\u001b[0m\u001b[0my\u001b[0m\u001b[1;33m=\u001b[0m\u001b[0mtrain\u001b[0m\u001b[1;33m.\u001b[0m\u001b[0miloc\u001b[0m\u001b[1;33m[\u001b[0m\u001b[1;33m:\u001b[0m\u001b[1;33m,\u001b[0m\u001b[1;36m1\u001b[0m\u001b[1;33m]\u001b[0m\u001b[1;33m\u001b[0m\u001b[1;33m\u001b[0m\u001b[0m\n\u001b[0;32m      2\u001b[0m \u001b[0mm\u001b[0m\u001b[1;33m=\u001b[0m\u001b[1;36m8\u001b[0m\u001b[1;33m;\u001b[0m\u001b[0mn\u001b[0m\u001b[1;33m=\u001b[0m\u001b[1;36m2\u001b[0m\u001b[1;33m\u001b[0m\u001b[1;33m\u001b[0m\u001b[0m\n\u001b[1;32m----> 3\u001b[1;33m \u001b[0mDummySampler\u001b[0m\u001b[1;33m(\u001b[0m\u001b[1;33m)\u001b[0m\u001b[1;33m.\u001b[0m\u001b[0mfit\u001b[0m\u001b[1;33m(\u001b[0m\u001b[0mX\u001b[0m\u001b[1;33m,\u001b[0m \u001b[0my\u001b[0m\u001b[1;33m)\u001b[0m\u001b[1;33m.\u001b[0m\u001b[0my\u001b[0m\u001b[1;33m\u001b[0m\u001b[1;33m\u001b[0m\u001b[0m\n\u001b[0m",
      "\u001b[1;31mAttributeError\u001b[0m: 'DummySampler' object has no attribute 'y'"
     ]
    }
   ],
   "source": [
    "X=train.iloc[:,2:];y=train.iloc[:,1]\n",
    "m=8;n=2\n",
    "DummySampler().fit(X, y).y"
   ]
  },
  {
   "cell_type": "code",
   "execution_count": null,
   "metadata": {},
   "outputs": [],
   "source": [
    "Confusion_matrix(y_true, clf.predict(X))"
   ]
  },
  {
   "cell_type": "code",
   "execution_count": 119,
   "metadata": {},
   "outputs": [],
   "source": [
    "def ratio_multiplier(y):\n",
    "    target_stats = Counter(y)\n",
    "#     multiplier = {1: 0.9}    \n",
    "#     for key, value in target_stats.items():\n",
    "#         if key in multiplier:\n",
    "#             target_stats[key] = int(value * multiplier[key])\n",
    "    target_stats[0]=18000\n",
    "    target_stats[1]=20000\n",
    "    return target_stats"
   ]
  },
  {
   "cell_type": "code",
   "execution_count": 89,
   "metadata": {},
   "outputs": [
    {
     "name": "stderr",
     "output_type": "stream",
     "text": [
      "C:\\Users\\6506\\AppData\\Local\\Continuum\\anaconda3\\lib\\site-packages\\imblearn\\utils\\_validation.py:253: UserWarning: After over-sampling, the number of samples (18000) in class 0 will be larger than the number of samples in the majority class (class #0 -> 17907)\n",
      "  n_samples_majority))\n",
      "C:\\Users\\6506\\AppData\\Local\\Continuum\\anaconda3\\lib\\site-packages\\imblearn\\utils\\_validation.py:253: UserWarning: After over-sampling, the number of samples (20000) in class 1 will be larger than the number of samples in the majority class (class #0 -> 17907)\n",
      "  n_samples_majority))\n"
     ]
    },
    {
     "data": {
      "text/plain": [
       "20000"
      ]
     },
     "execution_count": 89,
     "metadata": {},
     "output_type": "execute_result"
    }
   ],
   "source": [
    "X_res, y_res = (RandomOverSampler(sampling_strategy=ratio_multiplier)\n",
    "                .fit_resample(X, y))\n",
    "len(y_res[y_res==1])"
   ]
  },
  {
   "cell_type": "code",
   "execution_count": null,
   "metadata": {},
   "outputs": [],
   "source": []
  }
 ],
 "metadata": {
  "kernelspec": {
   "display_name": "Python 3",
   "language": "python",
   "name": "python3"
  },
  "language_info": {
   "codemirror_mode": {
    "name": "ipython",
    "version": 3
   },
   "file_extension": ".py",
   "mimetype": "text/x-python",
   "name": "python",
   "nbconvert_exporter": "python",
   "pygments_lexer": "ipython3",
   "version": "3.7.6"
  },
  "toc": {
   "base_numbering": 1,
   "nav_menu": {},
   "number_sections": true,
   "sideBar": true,
   "skip_h1_title": false,
   "title_cell": "Table of Contents",
   "title_sidebar": "Contents",
   "toc_cell": false,
   "toc_position": {},
   "toc_section_display": true,
   "toc_window_display": false
  }
 },
 "nbformat": 4,
 "nbformat_minor": 2
}

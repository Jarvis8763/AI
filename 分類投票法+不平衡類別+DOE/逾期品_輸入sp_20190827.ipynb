{
 "cells": [
  {
   "cell_type": "code",
   "execution_count": 6,
   "metadata": {},
   "outputs": [],
   "source": [
    "import pandas as pd\n",
    "df=pd.read_excel(r'C:\\Users\\6506\\Desktop\\JL\\逾期品_輸入sp\\datatable.xlsx',index=0)"
   ]
  },
  {
   "cell_type": "code",
   "execution_count": 11,
   "metadata": {},
   "outputs": [
    {
     "name": "stdout",
     "output_type": "stream",
     "text": [
      "CREATE SYNONYM [dbo].[逾期品_製造品_廠商下游數量] FOR [dbo].[逾期品_製造'+@type+'_廠商下游數量]\n",
      "CREATE SYNONYM [dbo].[逾期品_製造品大表D] FOR [dbo].[逾期品_製造'+@type+'大表D]\n",
      "CREATE SYNONYM [dbo].[逾期品_製造品大表D_逾期未交貨] FOR [dbo].[逾期品_製造'+@type+'大表D_逾期未交貨]\n",
      "CREATE SYNONYM [dbo].[逾期品_製造品大表D_逾期交貨] FOR [dbo].[逾期品_製造'+@type+'大表D_逾期交貨]\n",
      "CREATE SYNONYM [dbo].[逾期品_製造品日期OOB與逾期數量D] FOR [dbo].[逾期品_製造'+@type+'日期OOB與逾期數量D]\n",
      "CREATE SYNONYM [dbo].[逾期品_製造品交貨日期] FOR [dbo].[逾期品_製造'+@type+'交貨日期]\n",
      "CREATE SYNONYM [dbo].[逾期品_製造品交貨未準時申報率] FOR [dbo].[逾期品_製造'+@type+'交貨未準時申報率]\n",
      "CREATE SYNONYM [dbo].[逾期品_製造品明細檔_日期D] FOR [dbo].[逾期品_製造'+@type+'明細檔_日期D]\n",
      "CREATE SYNONYM [dbo].[逾期品_製造品明細檔D] FOR [dbo].[逾期品_製造'+@type+'明細檔D]\n",
      "CREATE SYNONYM [dbo].[逾期品_製造品產品資訊] FOR [dbo].[逾期品_製造'+@type+'產品資訊]\n",
      "CREATE SYNONYM [dbo].[逾期品_製造品業者清單] FOR [dbo].[逾期品_製造'+@type+'業者清單]\n",
      "CREATE SYNONYM [dbo].[逾期品_製造品業者總表D] FOR [dbo].[逾期品_製造'+@type+'業者總表D]\n",
      "CREATE SYNONYM [dbo].[逾期品_製造品資料主檔] FOR [dbo].[逾期品_製造'+@type+'資料主檔]\n",
      "CREATE SYNONYM [dbo].[逾期品_製造品資訊包裝規格] FOR [dbo].[逾期品_製造'+@type+'資訊包裝規格]\n",
      "CREATE SYNONYM [dbo].[逾期品_製造品製造未準時申報率] FOR [dbo].[逾期品_製造'+@type+'製造未準時申報率]\n",
      "CREATE SYNONYM [dbo].[逾期品_製造品製造與有效日期] FOR [dbo].[逾期品_製造'+@type+'製造與有效日期]\n",
      "CREATE SYNONYM [dbo].[逾期品_製造品廠商製造淨重D] FOR [dbo].[逾期品_製造'+@type+'廠商製造淨重D]\n"
     ]
    }
   ],
   "source": [
    "s='製造'\n",
    "for i in df[s]:\n",
    "    if \"逾期品_\"+s+\"肉品\" in i:\n",
    "        print('CREATE SYNONYM [dbo].[%s] FOR [dbo].[逾期品_%s'\"'+@type+'\"'%s]' \n",
    "              %(i.replace('肉品','品'),s,i.replace(\"逾期品_\"+s+\"肉品\",'')))"
   ]
  },
  {
   "cell_type": "code",
   "execution_count": 12,
   "metadata": {},
   "outputs": [
    {
     "name": "stdout",
     "output_type": "stream",
     "text": [
      "drop SYNONYM if exists [dbo].[逾期品_製造品_廠商下游數量]\n",
      "drop SYNONYM if exists [dbo].[逾期品_製造品大表D]\n",
      "drop SYNONYM if exists [dbo].[逾期品_製造品大表D_逾期未交貨]\n",
      "drop SYNONYM if exists [dbo].[逾期品_製造品大表D_逾期交貨]\n",
      "drop SYNONYM if exists [dbo].[逾期品_製造品日期OOB與逾期數量D]\n",
      "drop SYNONYM if exists [dbo].[逾期品_製造品交貨日期]\n",
      "drop SYNONYM if exists [dbo].[逾期品_製造品交貨未準時申報率]\n",
      "drop SYNONYM if exists [dbo].[逾期品_製造品明細檔_日期D]\n",
      "drop SYNONYM if exists [dbo].[逾期品_製造品明細檔D]\n",
      "drop SYNONYM if exists [dbo].[逾期品_製造品產品資訊]\n",
      "drop SYNONYM if exists [dbo].[逾期品_製造品業者清單]\n",
      "drop SYNONYM if exists [dbo].[逾期品_製造品業者總表D]\n",
      "drop SYNONYM if exists [dbo].[逾期品_製造品資料主檔]\n",
      "drop SYNONYM if exists [dbo].[逾期品_製造品資訊包裝規格]\n",
      "drop SYNONYM if exists [dbo].[逾期品_製造品製造未準時申報率]\n",
      "drop SYNONYM if exists [dbo].[逾期品_製造品製造與有效日期]\n",
      "drop SYNONYM if exists [dbo].[逾期品_製造品廠商製造淨重D]\n"
     ]
    }
   ],
   "source": [
    "for i in df[s]:\n",
    "    if \"逾期品_\"+s+\"肉品\" in i:\n",
    "        print('drop SYNONYM if exists [dbo].[%s]' \n",
    "              %i.replace('肉品','品'))"
   ]
  },
  {
   "cell_type": "code",
   "execution_count": 23,
   "metadata": {},
   "outputs": [
    {
     "name": "stdout",
     "output_type": "stream",
     "text": [
      "exec ('delete from [dbo].[逾期品_製造'+@type+'_廠商下游數量]')\n",
      "insert into [frbdm].[dbo].[逾期品_製造品_廠商下游數量]\n",
      "\n",
      "exec ('delete from [dbo].[逾期品_製造'+@type+'大表D]')\n",
      "insert into [frbdm].[dbo].[逾期品_製造品大表D]\n",
      "\n",
      "exec ('delete from [dbo].[逾期品_製造'+@type+'大表D_逾期未交貨]')\n",
      "insert into [frbdm].[dbo].[逾期品_製造品大表D_逾期未交貨]\n",
      "\n",
      "exec ('delete from [dbo].[逾期品_製造'+@type+'大表D_逾期交貨]')\n",
      "insert into [frbdm].[dbo].[逾期品_製造品大表D_逾期交貨]\n",
      "\n",
      "exec ('delete from [dbo].[逾期品_製造'+@type+'日期OOB與逾期數量D]')\n",
      "insert into [frbdm].[dbo].[逾期品_製造品日期OOB與逾期數量D]\n",
      "\n",
      "exec ('delete from [dbo].[逾期品_製造'+@type+'交貨日期]')\n",
      "insert into [frbdm].[dbo].[逾期品_製造品交貨日期]\n",
      "\n",
      "exec ('delete from [dbo].[逾期品_製造'+@type+'交貨未準時申報率]')\n",
      "insert into [frbdm].[dbo].[逾期品_製造品交貨未準時申報率]\n",
      "\n",
      "exec ('delete from [dbo].[逾期品_製造'+@type+'明細檔_日期D]')\n",
      "insert into [frbdm].[dbo].[逾期品_製造品明細檔_日期D]\n",
      "\n",
      "exec ('delete from [dbo].[逾期品_製造'+@type+'明細檔D]')\n",
      "insert into [frbdm].[dbo].[逾期品_製造品明細檔D]\n",
      "\n",
      "exec ('delete from [dbo].[逾期品_製造'+@type+'產品資訊]')\n",
      "insert into [frbdm].[dbo].[逾期品_製造品產品資訊]\n",
      "\n",
      "exec ('delete from [dbo].[逾期品_製造'+@type+'業者清單]')\n",
      "insert into [frbdm].[dbo].[逾期品_製造品業者清單]\n",
      "\n",
      "exec ('delete from [dbo].[逾期品_製造'+@type+'業者總表D]')\n",
      "insert into [frbdm].[dbo].[逾期品_製造品業者總表D]\n",
      "\n",
      "exec ('delete from [dbo].[逾期品_製造'+@type+'資料主檔]')\n",
      "insert into [frbdm].[dbo].[逾期品_製造品資料主檔]\n",
      "\n",
      "exec ('delete from [dbo].[逾期品_製造'+@type+'資訊包裝規格]')\n",
      "insert into [frbdm].[dbo].[逾期品_製造品資訊包裝規格]\n",
      "\n",
      "exec ('delete from [dbo].[逾期品_製造'+@type+'製造未準時申報率]')\n",
      "insert into [frbdm].[dbo].[逾期品_製造品製造未準時申報率]\n",
      "\n",
      "exec ('delete from [dbo].[逾期品_製造'+@type+'製造與有效日期]')\n",
      "insert into [frbdm].[dbo].[逾期品_製造品製造與有效日期]\n",
      "\n",
      "exec ('delete from [dbo].[逾期品_製造'+@type+'廠商製造淨重D]')\n",
      "insert into [frbdm].[dbo].[逾期品_製造品廠商製造淨重D]\n",
      "\n"
     ]
    }
   ],
   "source": [
    "for i in df[s]:\n",
    "    if \"逾期品_\"+s+\"肉品\" in i:\n",
    "        print('exec ('\"'delete from [dbo].[逾期品_%s'\"'+@type+'\"'%s]'\"')' \n",
    "              %(s,i.replace(\"逾期品_\"+s+\"肉品\",'')))\n",
    "        print('insert into [frbdm].[dbo].[%s]\\n' \n",
    "              %(i.replace('肉品','品')))"
   ]
  },
  {
   "cell_type": "code",
   "execution_count": null,
   "metadata": {},
   "outputs": [],
   "source": []
  }
 ],
 "metadata": {
  "kernelspec": {
   "display_name": "Python 3",
   "language": "python",
   "name": "python3"
  },
  "language_info": {
   "codemirror_mode": {
    "name": "ipython",
    "version": 3
   },
   "file_extension": ".py",
   "mimetype": "text/x-python",
   "name": "python",
   "nbconvert_exporter": "python",
   "pygments_lexer": "ipython3",
   "version": "3.7.3"
  },
  "toc": {
   "base_numbering": 1,
   "nav_menu": {},
   "number_sections": true,
   "sideBar": true,
   "skip_h1_title": false,
   "title_cell": "Table of Contents",
   "title_sidebar": "Contents",
   "toc_cell": false,
   "toc_position": {},
   "toc_section_display": true,
   "toc_window_display": false
  }
 },
 "nbformat": 4,
 "nbformat_minor": 2
}

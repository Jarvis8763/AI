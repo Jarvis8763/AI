{
 "cells": [
  {
   "cell_type": "markdown",
   "metadata": {},
   "source": [
    "# Import data"
   ]
  },
  {
   "cell_type": "code",
   "execution_count": 1,
   "metadata": {},
   "outputs": [],
   "source": [
    "import pandas as pd\n",
    "import numpy as np\n",
    "test=pd.read_csv('C:/Users/6506/Desktop/JL/變數刪除後123/分析大表testing_data_11_flted.csv',encoding='ANSI')\n",
    "train=pd.read_csv('C:/Users/6506/Desktop/JL/變數刪除後123/分析大表training_data_11_flted.csv',encoding='ANSI')\n",
    "df=pd.concat([test,train])"
   ]
  },
  {
   "cell_type": "markdown",
   "metadata": {},
   "source": [
    "# Relabel"
   ]
  },
  {
   "cell_type": "markdown",
   "metadata": {},
   "source": [
    "## onehot encoding"
   ]
  },
  {
   "cell_type": "code",
   "execution_count": null,
   "metadata": {},
   "outputs": [],
   "source": [
    "d=df.dtypes==object\n",
    "for i in d[d==True].index[1:]:\n",
    "    dummies=pd.get_dummies( df.loc[:, i], prefix=i)\n",
    "    df = pd.concat( [df, dummies], axis = 1 )\n",
    "    df=df.drop(i,axis=1)"
   ]
  },
  {
   "cell_type": "markdown",
   "metadata": {},
   "source": [
    "## label encoding"
   ]
  },
  {
   "cell_type": "code",
   "execution_count": 2,
   "metadata": {},
   "outputs": [],
   "source": [
    "d=df.dtypes==object\n",
    "for i in d[d==True].index[1:]:\n",
    "    df[i]=df[i].astype('category').cat.codes"
   ]
  },
  {
   "cell_type": "markdown",
   "metadata": {},
   "source": [
    "## split data"
   ]
  },
  {
   "cell_type": "code",
   "execution_count": 3,
   "metadata": {},
   "outputs": [],
   "source": [
    "test=df.iloc[0:len(test)]\n",
    "train=df.iloc[len(test):]"
   ]
  },
  {
   "cell_type": "markdown",
   "metadata": {},
   "source": [
    "# SMOTE"
   ]
  },
  {
   "cell_type": "code",
   "execution_count": 4,
   "metadata": {},
   "outputs": [
    {
     "name": "stdout",
     "output_type": "stream",
     "text": [
      "Random number with seed 454155 :  0.9768335826457671\n"
     ]
    }
   ],
   "source": [
    "import random\n",
    "\n",
    "random.seed (454155)\n",
    "print (\"Random number with seed 454155 : \", random.random())\n",
    "seq = np.arange(100000,500000)\n",
    "Random_State=random.choices(seq)[0]"
   ]
  },
  {
   "cell_type": "code",
   "execution_count": 5,
   "metadata": {},
   "outputs": [],
   "source": [
    "from imblearn.over_sampling import SMOTE\n",
    "X_train,Y_train=train.iloc[:,2:], train.iloc[:,1]\n",
    "i_train=lambda i:train[train['檢驗不合格']==i]\n",
    "sm = SMOTE(sampling_strategy=len(train)*0.3/len(i_train(0)),random_state=Random_State)\n",
    "X_res, y_res = sm.fit_resample(X_train,Y_train)\n",
    "Xy_res=pd.concat([train.iloc[:,0],pd.DataFrame(y_res,columns=[Y_train.name]),pd.DataFrame(X_res,columns=X_train.columns)],axis=1)\n",
    "train=pd.concat([i_train(0).sample(int(len(train)*0.7),random_state=Random_State),Xy_res.loc[Xy_res.iloc[:,1]==1]])"
   ]
  },
  {
   "cell_type": "markdown",
   "metadata": {},
   "source": [
    "# Export data"
   ]
  },
  {
   "cell_type": "code",
   "execution_count": 7,
   "metadata": {},
   "outputs": [],
   "source": [
    "test.to_csv('C:/Users/6506/Desktop/SMOTE_label_分析大表testing_data_11_flted.csv',encoding='ANSI', index=False)\n",
    "train.to_csv('C:/Users/6506/Desktop/SMOTE_label_分析大表training_data_11_flted.csv',encoding='ANSI', index=False)"
   ]
  }
 ],
 "metadata": {
  "kernelspec": {
   "display_name": "Python 3",
   "language": "python",
   "name": "python3"
  },
  "language_info": {
   "codemirror_mode": {
    "name": "ipython",
    "version": 3
   },
   "file_extension": ".py",
   "mimetype": "text/x-python",
   "name": "python",
   "nbconvert_exporter": "python",
   "pygments_lexer": "ipython3",
   "version": "3.7.4"
  },
  "toc": {
   "base_numbering": 1,
   "nav_menu": {},
   "number_sections": true,
   "sideBar": true,
   "skip_h1_title": false,
   "title_cell": "Table of Contents",
   "title_sidebar": "Contents",
   "toc_cell": false,
   "toc_position": {},
   "toc_section_display": true,
   "toc_window_display": false
  }
 },
 "nbformat": 4,
 "nbformat_minor": 2
}

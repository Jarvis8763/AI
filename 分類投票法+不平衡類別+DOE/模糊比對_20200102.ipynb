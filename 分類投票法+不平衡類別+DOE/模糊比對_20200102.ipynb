{
 "cells": [
  {
   "cell_type": "markdown",
   "metadata": {},
   "source": [
    "# import"
   ]
  },
  {
   "cell_type": "code",
   "execution_count": 1,
   "metadata": {},
   "outputs": [],
   "source": [
    "import pandas as pd\n",
    "import numpy as np\n",
    "import dplython\n",
    "import Levenshtein\n",
    "import pyodbc\n",
    "import time\n",
    "from progressbar import *\n",
    "from sqlalchemy import create_engine\n",
    "import urllib"
   ]
  },
  {
   "cell_type": "code",
   "execution_count": 2,
   "metadata": {},
   "outputs": [],
   "source": [
    "cnxn =pyodbc.connect('DRIVER={SQL Server};SERVER=172.16.5.37;DATABASE=國際風險資訊串流輔助系統;UID=fdanrt;PWD=VGdS8lznYmWEh4rt')\n",
    "params = urllib.parse.quote_plus('DRIVER={SQL Server};SERVER=172.16.5.37;DATABASE=國際風險資訊串流輔助系統;UID=fdanrt;PWD=VGdS8lznYmWEh4rt')\n",
    "conn = create_engine(\"mssql+pyodbc:///?odbc_connect=%s\" % params).connect()"
   ]
  },
  {
   "cell_type": "code",
   "execution_count": null,
   "metadata": {},
   "outputs": [],
   "source": [
    "data = pd.read_sql(\"select * from 國際警訊產品名稱_邊境 IFI  cross join 國際警訊產品名稱 IFN where IFI.狀態='N'or IFN.狀態='N'\",cnxn)"
   ]
  },
  {
   "cell_type": "code",
   "execution_count": 7,
   "metadata": {},
   "outputs": [
    {
     "data": {
      "text/html": [
       "<div>\n",
       "<style scoped>\n",
       "    .dataframe tbody tr th:only-of-type {\n",
       "        vertical-align: middle;\n",
       "    }\n",
       "\n",
       "    .dataframe tbody tr th {\n",
       "        vertical-align: top;\n",
       "    }\n",
       "\n",
       "    .dataframe thead th {\n",
       "        text-align: right;\n",
       "    }\n",
       "</style>\n",
       "<table border=\"1\" class=\"dataframe\">\n",
       "  <thead>\n",
       "    <tr style=\"text-align: right;\">\n",
       "      <th></th>\n",
       "      <th>IFI_PK</th>\n",
       "      <th>貨物名稱英文品名_c</th>\n",
       "      <th>date</th>\n",
       "      <th>狀態</th>\n",
       "    </tr>\n",
       "  </thead>\n",
       "  <tbody>\n",
       "  </tbody>\n",
       "</table>\n",
       "</div>"
      ],
      "text/plain": [
       "Empty DataFrame\n",
       "Columns: [IFI_PK, 貨物名稱英文品名_c, date, 狀態]\n",
       "Index: []"
      ]
     },
     "execution_count": 7,
     "metadata": {},
     "output_type": "execute_result"
    }
   ],
   "source": [
    "pd.read_sql(\"select * from 國際警訊產品名稱_邊境\",cnxn)"
   ]
  },
  {
   "cell_type": "markdown",
   "metadata": {
    "heading_collapsed": true
   },
   "source": [
    "# prototype"
   ]
  },
  {
   "cell_type": "code",
   "execution_count": null,
   "metadata": {
    "hidden": true
   },
   "outputs": [],
   "source": [
    "IFI=data.iloc[:,0]\n",
    "A=data.iloc[:,1]\n",
    "B=data.iloc[:,5]"
   ]
  },
  {
   "cell_type": "code",
   "execution_count": null,
   "metadata": {
    "hidden": true,
    "scrolled": false
   },
   "outputs": [],
   "source": [
    "tStart = time.time()#計時開始\n",
    " \n",
    "#模擬要測量的function\n",
    "progress = ProgressBar()\n",
    "score=[[Levenshtein.jaro(A[i],B[i])] for i in progress(range(len(data)))]\n",
    "tEnd = time.time()#計時結束\n",
    "#列印結果\n",
    "print (\"It cost %f sec\" % (tEnd - tStart))#會自動做近位\n",
    "\n",
    "score=pd.DataFrame(score,columns=['score'])"
   ]
  },
  {
   "cell_type": "code",
   "execution_count": null,
   "metadata": {
    "hidden": true
   },
   "outputs": [],
   "source": [
    "result=pd.concat([IFI,A,B,score],axis=1)\n",
    "result.columns=['IFI_PK','IFI_貨物名稱英文品名_c','IFN_產品名稱_c','score']\n",
    "output=result[result['score']>0.8]\n",
    "print(output)\n",
    "output.to_sql(name='模糊比對_產品名稱比對結果_2', con=conn, if_exists='append', index=False)"
   ]
  },
  {
   "cell_type": "code",
   "execution_count": null,
   "metadata": {
    "hidden": true
   },
   "outputs": [],
   "source": [
    "cursor = cnxn.cursor()\n",
    "cursor.execute('''\n",
    "                UPDATE 國際警訊產品名稱_邊境\n",
    "                SET 狀態='Y'\n",
    "                WHERE 狀態='N'\n",
    "                UPDATE 國際警訊產品名稱\n",
    "                SET 狀態='Y'\n",
    "                WHERE 狀態='N'\n",
    "                ''')\n",
    "cnxn.commit()"
   ]
  },
  {
   "cell_type": "markdown",
   "metadata": {
    "hidden": true
   },
   "source": [
    "## rename column"
   ]
  },
  {
   "cell_type": "code",
   "execution_count": null,
   "metadata": {
    "hidden": true
   },
   "outputs": [],
   "source": [
    "cursor = cnxn.cursor()\n",
    "cursor.execute(\"EXEC sp_rename '模糊比對_產品名稱比對結果.IFI_貨物名稱英文品名_c', 'IFI_產品名稱_c', 'COLUMN'\")\n",
    "cnxn.commit()"
   ]
  },
  {
   "cell_type": "code",
   "execution_count": null,
   "metadata": {
    "hidden": true
   },
   "outputs": [],
   "source": [
    "cursor = cnxn.cursor()\n",
    "cursor.execute(\"EXEC sp_rename '模糊比對_品牌比對結果.IFI_商標_c', 'IFI_品牌_c', 'COLUMN'\")\n",
    "cnxn.commit()"
   ]
  },
  {
   "cell_type": "markdown",
   "metadata": {},
   "source": [
    "# function"
   ]
  },
  {
   "cell_type": "markdown",
   "metadata": {
    "heading_collapsed": true
   },
   "source": [
    "## join兩個表選N or N"
   ]
  },
  {
   "cell_type": "code",
   "execution_count": 9,
   "metadata": {
    "hidden": true
   },
   "outputs": [],
   "source": [
    "def compare(x,y=1):\n",
    "    if y==1: y=x\n",
    "    else: y='商標'\n",
    "    print('---------%s模糊比對----------'%x)\n",
    "    data = pd.read_sql(\"select * from 國際警訊%s_邊境 IFI  cross join 國際警訊%s IFN where IFI.狀態='N'or IFN.狀態='N'\"%(y,x),cnxn)\n",
    "    \n",
    "    IFI=data.iloc[:,0]\n",
    "    A=data.iloc[:,1]\n",
    "    B=data.iloc[:,5]\n",
    "\n",
    "\n",
    "    progress = ProgressBar()\n",
    "    score=[[Levenshtein.jaro(A[i],B[i])] for i in progress(range(len(data)))]\n",
    "\n",
    "    score=pd.DataFrame(score,columns=['score'])\n",
    "\n",
    "\n",
    "    result=pd.concat([IFI,A,B,score],axis=1)\n",
    "    result.columns=['IFI_PK','IFI_%s_c'%x,'IFN_%s_c'%x,'score']\n",
    "    output=result[result['score']>0.8]\n",
    "    print(output)\n",
    "\n",
    "    output.to_sql(name='模糊比對_%s比對結果'%x, con=conn, if_exists='append', index=False)\n",
    "\n",
    "\n",
    "    cursor = cnxn.cursor()\n",
    "    cursor.execute('''\n",
    "                    UPDATE 國際警訊%s_邊境\n",
    "                    SET 狀態='Y'\n",
    "                    WHERE 狀態='N'\n",
    "                    UPDATE 國際警訊%s\n",
    "                    SET 狀態='Y'\n",
    "                    WHERE 狀態='N'\n",
    "                    '''%(y,x))\n",
    "    cnxn.commit()"
   ]
  },
  {
   "cell_type": "markdown",
   "metadata": {},
   "source": [
    "## FOR迴圈方式做兩次，因為join資料量太大(append)"
   ]
  },
  {
   "cell_type": "code",
   "execution_count": null,
   "metadata": {},
   "outputs": [],
   "source": [
    "def compare(x):\n",
    "    print('---------%s模糊比對----------'%x)\n",
    "    \n",
    "    data = pd.read_sql(\"select * from 國際警訊%s_邊境 IFI where 狀態='N'\"%x,cnxn)\n",
    "    data2 = pd.read_sql(\"select * from 國際警訊%s\"%x,cnxn)\n",
    "\n",
    "    if data.empty!=True:\n",
    "        IFI=data.iloc[:,0]\n",
    "        A=data.iloc[:,1]\n",
    "        B=data2.iloc[:,1]\n",
    "\n",
    "        progress = ProgressBar()\n",
    "        for i in progress(range(len(A))):\n",
    "            score=[[Levenshtein.jaro(A[i],B[j])] for j in range(len(B))]\n",
    "            score=pd.DataFrame(score,columns=['score'])\n",
    "\n",
    "            IFIA=pd.DataFrame([[IFI[i],A[i]] for j in range(len(B))])\n",
    "\n",
    "            result=pd.concat([IFIA,B,score],axis=1)\n",
    "            if i==0:output=result[result['score']>0.8]\n",
    "            else:output=output.append(result[result['score']>0.8])\n",
    "\n",
    "        output.columns=['IFI_PK','IFI_%s_c'%x,'IFN_%s_c'%x,'score']\n",
    "\n",
    "        print(output)\n",
    "\n",
    "        output.to_sql(name='模糊比對_%s比對結果'%x, con=conn, if_exists='append', index=False)\n",
    "##    \n",
    "    data = pd.read_sql(\"select * from 國際警訊%s_邊境 IFI\"%x,cnxn)\n",
    "    data2 = pd.read_sql(\"select * from 國際警訊%s IFI where 狀態='N'\"%x,cnxn)\n",
    "\n",
    "    if data2.empty!=True:\n",
    "        IFI=data.iloc[:,0]\n",
    "        A=data.iloc[:,1]\n",
    "        B=data2.iloc[:,1]\n",
    "        progress = ProgressBar()\n",
    "        for i in progress(range(len(A))):\n",
    "            score=[[Levenshtein.jaro(A[i],B[j])] for j in range(len(B))]\n",
    "            score=pd.DataFrame(score,columns=['score'])\n",
    "\n",
    "            IFIA=pd.DataFrame([[IFI[i],A[i]] for j in range(len(B))])\n",
    "\n",
    "            result=pd.concat([IFIA,B,score],axis=1)\n",
    "            if i==0:output=result[result['score']>0.8]\n",
    "            else:output=output.append(result[result['score']>0.8])\n",
    "\n",
    "        output.columns=['IFI_PK','IFI_%s_c'%x,'IFN_%s_c'%x,'score']\n",
    "\n",
    "        print(output)\n",
    "\n",
    "        output.to_sql(name='模糊比對_%s比對結果'%x, con=conn, if_exists='append', index=False)\n",
    "\n",
    "    cursor = cnxn.cursor()\n",
    "    cursor.execute('''\n",
    "                    UPDATE 國際警訊%s_邊境\n",
    "                    SET 狀態='Y'\n",
    "                    WHERE 狀態='N'\n",
    "                    UPDATE 國際警訊%s\n",
    "                    SET 狀態='Y'\n",
    "                    WHERE 狀態='N'\n",
    "                    '''%(x,x))\n",
    "    cnxn.commit()"
   ]
  },
  {
   "cell_type": "code",
   "execution_count": 4,
   "metadata": {},
   "outputs": [
    {
     "name": "stderr",
     "output_type": "stream",
     "text": [
      "100% |########################################################################|\n"
     ]
    },
    {
     "name": "stdout",
     "output_type": "stream",
     "text": [
      "         IFI_PK          IFI_產品名稱_c               IFN_產品名稱_c     score\n",
      "1672763  527007  VEGETABLESFOILBAGS  VEGETABLEMEDLEY28OZBAGS  0.806280\n",
      "1918028  529182    VEGETABLENOODLES  VEGETABLEMEDLEY28OZBAGS  0.804089\n"
     ]
    }
   ],
   "source": [
    "compare('產品名稱')\n",
    "compare('製造廠')\n",
    "compare('品牌')"
   ]
  },
  {
   "cell_type": "markdown",
   "metadata": {
    "heading_collapsed": true
   },
   "source": [
    "# 比對全部(用replace)"
   ]
  },
  {
   "cell_type": "code",
   "execution_count": null,
   "metadata": {
    "hidden": true
   },
   "outputs": [],
   "source": [
    "x='產品名稱'\n",
    "data = pd.read_sql(\"select * from 國際警訊%s_邊境 IFI\"%x,cnxn)\n",
    "\n",
    "IFI=data.iloc[:,0]\n",
    "A=data.iloc[:,1]\n",
    "\n",
    "data2 = pd.read_sql(\"select * from 國際警訊%s IFI\"%x,cnxn)\n",
    "B=data2.iloc[:,1]\n",
    "\n",
    "R=lambda x:pd.concat([x[x['score']>0.6], x[x['score']==x['score'].max()]]).drop_duplicates()\n",
    "\n",
    "progress = ProgressBar()\n",
    "for i in progress(range(len(A))):\n",
    "    score=[[Levenshtein.jaro(A[i],B[j])] for j in range(len(B))]\n",
    "    score=pd.DataFrame(score,columns=['score'])\n",
    "\n",
    "    IFIA=pd.DataFrame([[IFI[i],A[i]] for j in range(len(B))])\n",
    "    \n",
    "    result=pd.concat([IFIA,B,score],axis=1)\n",
    "    if i==0:output=R(result)\n",
    "    else:output=output.append(R(result))\n",
    "    \n",
    "output.columns=['IFI_PK','IFI_%s_c'%x,'IFN_%s_c'%x,'score']\n",
    "\n",
    "print(output)\n",
    "\n",
    "output.to_sql(name='模糊比對_%s比對結果'%x, con=conn, if_exists='replace', index=False)\n",
    "\n",
    "cursor = cnxn.cursor()\n",
    "cursor.execute('''\n",
    "                UPDATE 國際警訊%s_邊境\n",
    "                SET 狀態='Y'\n",
    "                WHERE 狀態='N'\n",
    "                UPDATE 國際警訊%s\n",
    "                SET 狀態='Y'\n",
    "                WHERE 狀態='N'\n",
    "                '''%(x,x))\n",
    "cnxn.commit()"
   ]
  },
  {
   "cell_type": "markdown",
   "metadata": {
    "heading_collapsed": true
   },
   "source": [
    "# history_1204"
   ]
  },
  {
   "cell_type": "code",
   "execution_count": 8,
   "metadata": {
    "hidden": true
   },
   "outputs": [],
   "source": [
    "# -*- coding: utf-8 -*-\n",
    "import pandas as pd\n",
    "import numpy as np\n",
    "import dplython\n",
    "import Levenshtein\n",
    "import pyodbc\n",
    "#compar = pd.read_csv('C:/Users/tony/Desktop/1003_模糊比對/國際警訊製造廠_utf8.csv',encoding='UTF-8')\n",
    "#data = pd.read_csv('C:/Users/tony/Desktop/1003_模糊比對/國際警訊製造廠_邊境_utf8.csv',encoding='UTF-8')"
   ]
  },
  {
   "cell_type": "code",
   "execution_count": 3,
   "metadata": {
    "hidden": true
   },
   "outputs": [],
   "source": [
    "compar = pd.read_excel (r'模糊比對資料來源.xlsx', sheet_name=r'國際警訊產品名稱',encoding='UTF-8')\n",
    "data = pd.read_excel (r'模糊比對資料來源.xlsx', sheet_name=r'國際警訊產品名稱_邊境',encoding='UTF-8')"
   ]
  },
  {
   "cell_type": "code",
   "execution_count": 4,
   "metadata": {
    "hidden": true
   },
   "outputs": [],
   "source": [
    "# cnxn =pyodbc.connect('DRIVER={SQL Server};SERVER=172.16.5.37;DATABASE=國際風險資訊串流輔助系統;UID=fdanrt;PWD=VGdS8lznYmWEh4rt')\n",
    "# cursor = cnxn.cursor()\n",
    "# sql=\"select * from 國際警訊產品名稱_邊境\"\n",
    "# data = pd.read_sql(sql,cnxn)\n",
    "# cursor.close()\n",
    "# cursor = cnxn.cursor()\n",
    "# sql=\"select * from 國際警訊產品名稱\"\n",
    "# compar = pd.read_sql(sql,cnxn)\n",
    "# compar  = pd.DataFrame(compar)\n",
    "# data  = pd.DataFrame(data)\n",
    "product = np.array(pd.DataFrame(data['貨物名稱英文品名_c']))\n",
    "n_product = compar['產品名稱_c'].unique()\n",
    "product_df = data\n",
    "result=[]"
   ]
  },
  {
   "cell_type": "code",
   "execution_count": 5,
   "metadata": {
    "hidden": true
   },
   "outputs": [
    {
     "data": {
      "text/plain": [
       "array([0.        , 0.        , 0.34612512, 0.34369351, 0.49304871,\n",
       "       0.41904762, 0.45714286, 0.4270179 , 0.52426564, 0.35925926,\n",
       "       0.51693122, 0.53506698, 0.43124962, 0.37647059, 0.46920922,\n",
       "       0.43886455, 0.50055539, 0.35163399, 0.48991597, 0.44233069,\n",
       "       0.45987006, 0.42898551, 0.40046584, 0.43500531, 0.35337819,\n",
       "       0.40813008, 0.41533827, 0.4695754 , 0.        , 0.        ,\n",
       "       0.3543514 , 0.35191978, 0.        , 0.        , 0.        ,\n",
       "       0.        , 0.        , 0.        , 0.        , 0.        ])"
      ]
     },
     "execution_count": 5,
     "metadata": {},
     "output_type": "execute_result"
    }
   ],
   "source": [
    "np.array([Levenshtein.jaro(product[i][0],i2) for i in range(10) for i2 in n_product[1:5]])\n",
    "# np.argmax(a, axis=0)[0]"
   ]
  },
  {
   "cell_type": "code",
   "execution_count": 6,
   "metadata": {
    "hidden": true
   },
   "outputs": [
    {
     "name": "stderr",
     "output_type": "stream",
     "text": [
      "C:\\Users\\6506\\AppData\\Local\\Continuum\\anaconda3\\lib\\site-packages\\_pytest\\mark\\structures.py:378: DeprecationWarning: The usage of `cmp` is deprecated and will be removed on or after 2021-06-01.  Please use `eq` and `order` instead.\n",
      "  @attr.s(cmp=False, hash=False)\n"
     ]
    },
    {
     "ename": "TypeError",
     "evalue": "jaro expected two Strings or two Unicodes",
     "output_type": "error",
     "traceback": [
      "\u001b[1;31m---------------------------------------------------------------------------\u001b[0m",
      "\u001b[1;31mTypeError\u001b[0m                                 Traceback (most recent call last)",
      "\u001b[1;32m<ipython-input-6-3bc72e8803dd>\u001b[0m in \u001b[0;36m<module>\u001b[1;34m\u001b[0m\n\u001b[1;32m----> 1\u001b[1;33m \u001b[0mnp\u001b[0m\u001b[1;33m.\u001b[0m\u001b[0marray\u001b[0m\u001b[1;33m(\u001b[0m\u001b[1;33m[\u001b[0m\u001b[0mLevenshtein\u001b[0m\u001b[1;33m.\u001b[0m\u001b[0mjaro\u001b[0m\u001b[1;33m(\u001b[0m\u001b[0mproduct\u001b[0m\u001b[1;33m[\u001b[0m\u001b[0mi\u001b[0m\u001b[1;33m]\u001b[0m\u001b[1;33m[\u001b[0m\u001b[1;36m0\u001b[0m\u001b[1;33m]\u001b[0m\u001b[1;33m,\u001b[0m\u001b[0mi2\u001b[0m\u001b[1;33m)\u001b[0m \u001b[1;32mfor\u001b[0m \u001b[0mi\u001b[0m \u001b[1;32min\u001b[0m \u001b[0mrange\u001b[0m\u001b[1;33m(\u001b[0m\u001b[0mlen\u001b[0m\u001b[1;33m(\u001b[0m\u001b[0mproduct\u001b[0m\u001b[1;33m)\u001b[0m\u001b[1;33m-\u001b[0m\u001b[1;36m1\u001b[0m\u001b[1;33m)\u001b[0m \u001b[1;32mfor\u001b[0m \u001b[0mi2\u001b[0m \u001b[1;32min\u001b[0m \u001b[0mn_product\u001b[0m\u001b[1;33m]\u001b[0m\u001b[1;33m)\u001b[0m\u001b[1;33m\u001b[0m\u001b[1;33m\u001b[0m\u001b[0m\n\u001b[0m",
      "\u001b[1;32m<ipython-input-6-3bc72e8803dd>\u001b[0m in \u001b[0;36m<listcomp>\u001b[1;34m(.0)\u001b[0m\n\u001b[1;32m----> 1\u001b[1;33m \u001b[0mnp\u001b[0m\u001b[1;33m.\u001b[0m\u001b[0marray\u001b[0m\u001b[1;33m(\u001b[0m\u001b[1;33m[\u001b[0m\u001b[0mLevenshtein\u001b[0m\u001b[1;33m.\u001b[0m\u001b[0mjaro\u001b[0m\u001b[1;33m(\u001b[0m\u001b[0mproduct\u001b[0m\u001b[1;33m[\u001b[0m\u001b[0mi\u001b[0m\u001b[1;33m]\u001b[0m\u001b[1;33m[\u001b[0m\u001b[1;36m0\u001b[0m\u001b[1;33m]\u001b[0m\u001b[1;33m,\u001b[0m\u001b[0mi2\u001b[0m\u001b[1;33m)\u001b[0m \u001b[1;32mfor\u001b[0m \u001b[0mi\u001b[0m \u001b[1;32min\u001b[0m \u001b[0mrange\u001b[0m\u001b[1;33m(\u001b[0m\u001b[0mlen\u001b[0m\u001b[1;33m(\u001b[0m\u001b[0mproduct\u001b[0m\u001b[1;33m)\u001b[0m\u001b[1;33m-\u001b[0m\u001b[1;36m1\u001b[0m\u001b[1;33m)\u001b[0m \u001b[1;32mfor\u001b[0m \u001b[0mi2\u001b[0m \u001b[1;32min\u001b[0m \u001b[0mn_product\u001b[0m\u001b[1;33m]\u001b[0m\u001b[1;33m)\u001b[0m\u001b[1;33m\u001b[0m\u001b[1;33m\u001b[0m\u001b[0m\n\u001b[0m",
      "\u001b[1;31mTypeError\u001b[0m: jaro expected two Strings or two Unicodes"
     ]
    }
   ],
   "source": [
    "np.array([Levenshtein.jaro(product[i][0],i2) for i in range(len(product)-1) for i2 in n_product])"
   ]
  },
  {
   "cell_type": "markdown",
   "metadata": {
    "hidden": true
   },
   "source": [
    "## 兩兩比對"
   ]
  },
  {
   "cell_type": "code",
   "execution_count": 51,
   "metadata": {
    "hidden": true,
    "scrolled": true
   },
   "outputs": [
    {
     "data": {
      "text/html": [
       "<div>\n",
       "<style scoped>\n",
       "    .dataframe tbody tr th:only-of-type {\n",
       "        vertical-align: middle;\n",
       "    }\n",
       "\n",
       "    .dataframe tbody tr th {\n",
       "        vertical-align: top;\n",
       "    }\n",
       "\n",
       "    .dataframe thead th {\n",
       "        text-align: right;\n",
       "    }\n",
       "</style>\n",
       "<table border=\"1\" class=\"dataframe\">\n",
       "  <thead>\n",
       "    <tr style=\"text-align: right;\">\n",
       "      <th></th>\n",
       "      <th>IFI_PK</th>\n",
       "      <th>IFI_貨物名稱英文品名_c</th>\n",
       "      <th>IFN_產品名稱_c</th>\n",
       "      <th>score</th>\n",
       "    </tr>\n",
       "  </thead>\n",
       "  <tbody>\n",
       "    <tr>\n",
       "      <td>0</td>\n",
       "      <td>251432.0</td>\n",
       "      <td>FRIEDFISHCAKE</td>\n",
       "      <td>FRIEDFISHCAKE</td>\n",
       "      <td>1.000000</td>\n",
       "    </tr>\n",
       "    <tr>\n",
       "      <td>1</td>\n",
       "      <td>340538.0</td>\n",
       "      <td>HOTRICECAKESOUP</td>\n",
       "      <td>RICECAKESOUP</td>\n",
       "      <td>0.933333</td>\n",
       "    </tr>\n",
       "    <tr>\n",
       "      <td>2</td>\n",
       "      <td>341153.0</td>\n",
       "      <td>HSVANILLAICECREAM</td>\n",
       "      <td>VANILLAICECREAM</td>\n",
       "      <td>0.960784</td>\n",
       "    </tr>\n",
       "    <tr>\n",
       "      <td>3</td>\n",
       "      <td>380700.0</td>\n",
       "      <td>MANGO</td>\n",
       "      <td>MANGO</td>\n",
       "      <td>1.000000</td>\n",
       "    </tr>\n",
       "    <tr>\n",
       "      <td>4</td>\n",
       "      <td>380987.0</td>\n",
       "      <td>MANGOICECREAM</td>\n",
       "      <td>MANGOICECREAM</td>\n",
       "      <td>1.000000</td>\n",
       "    </tr>\n",
       "    <tr>\n",
       "      <td>...</td>\n",
       "      <td>...</td>\n",
       "      <td>...</td>\n",
       "      <td>...</td>\n",
       "      <td>...</td>\n",
       "    </tr>\n",
       "    <tr>\n",
       "      <td>357</td>\n",
       "      <td>230495.0</td>\n",
       "      <td>FISHCRACKERS</td>\n",
       "      <td>FISHCAKES</td>\n",
       "      <td>0.916667</td>\n",
       "    </tr>\n",
       "    <tr>\n",
       "      <td>358</td>\n",
       "      <td>230653.0</td>\n",
       "      <td>FISHCAKE</td>\n",
       "      <td>FISHCAKES</td>\n",
       "      <td>0.962963</td>\n",
       "    </tr>\n",
       "    <tr>\n",
       "      <td>359</td>\n",
       "      <td>230740.0</td>\n",
       "      <td>FISHTOFU</td>\n",
       "      <td>FISHTOFU</td>\n",
       "      <td>1.000000</td>\n",
       "    </tr>\n",
       "    <tr>\n",
       "      <td>360</td>\n",
       "      <td>231663.0</td>\n",
       "      <td>FISHMILT</td>\n",
       "      <td>FISHMINT</td>\n",
       "      <td>0.916667</td>\n",
       "    </tr>\n",
       "    <tr>\n",
       "      <td>361</td>\n",
       "      <td>234961.0</td>\n",
       "      <td>FORZENBROCCOLI</td>\n",
       "      <td>FROZENBROCCOLI</td>\n",
       "      <td>0.976190</td>\n",
       "    </tr>\n",
       "  </tbody>\n",
       "</table>\n",
       "<p>362 rows × 4 columns</p>\n",
       "</div>"
      ],
      "text/plain": [
       "       IFI_PK     IFI_貨物名稱英文品名_c       IFN_產品名稱_c     score\n",
       "0    251432.0      FRIEDFISHCAKE    FRIEDFISHCAKE  1.000000\n",
       "1    340538.0    HOTRICECAKESOUP     RICECAKESOUP  0.933333\n",
       "2    341153.0  HSVANILLAICECREAM  VANILLAICECREAM  0.960784\n",
       "3    380700.0              MANGO            MANGO  1.000000\n",
       "4    380987.0      MANGOICECREAM    MANGOICECREAM  1.000000\n",
       "..        ...                ...              ...       ...\n",
       "357  230495.0       FISHCRACKERS        FISHCAKES  0.916667\n",
       "358  230653.0           FISHCAKE        FISHCAKES  0.962963\n",
       "359  230740.0           FISHTOFU         FISHTOFU  1.000000\n",
       "360  231663.0           FISHMILT         FISHMINT  0.916667\n",
       "361  234961.0     FORZENBROCCOLI   FROZENBROCCOLI  0.976190\n",
       "\n",
       "[362 rows x 4 columns]"
      ]
     },
     "execution_count": 51,
     "metadata": {},
     "output_type": "execute_result"
    }
   ],
   "source": [
    "cnxn =pyodbc.connect('DRIVER={SQL Server};SERVER=172.16.5.37;DATABASE=國際風險資訊串流輔助系統;UID=fdanrt;PWD=VGdS8lznYmWEh4rt')\n",
    "cursor = cnxn.cursor()\n",
    "sql=\"select * from 模糊比對_產品名稱比對結果_2 where score>0.9\"\n",
    "data = pd.read_sql(sql,cnxn)\n",
    "cursor.close()\n",
    "data"
   ]
  },
  {
   "cell_type": "code",
   "execution_count": 38,
   "metadata": {
    "hidden": true
   },
   "outputs": [],
   "source": [
    "a=[[Levenshtein.jaro(data.iloc[i,1],data.iloc[i,2])] for i in range(len(data))]\n",
    "a=pd.DataFrame(a,columns=['score'])"
   ]
  },
  {
   "cell_type": "code",
   "execution_count": 45,
   "metadata": {
    "hidden": true
   },
   "outputs": [],
   "source": [
    "result=pd.concat([data.iloc[:,0:3],a],axis=1)"
   ]
  },
  {
   "cell_type": "markdown",
   "metadata": {
    "heading_collapsed": true,
    "hidden": true
   },
   "source": [
    "## NNN"
   ]
  },
  {
   "cell_type": "code",
   "execution_count": null,
   "metadata": {
    "hidden": true
   },
   "outputs": [],
   "source": [
    "# %load nnn.py\n",
    "#!/usr/bin/env python\n",
    "\n",
    "# In[1]:\n",
    "\n",
    "\n",
    "# -*- coding: utf-8 -*-\n",
    "import pandas as pd\n",
    "import numpy as np\n",
    "import dplython\n",
    "import Levenshtein\n",
    "import pyodbc\n",
    "#compar = pd.read_csv('C:/Users/tony/Desktop/1003_模糊比對/國際警訊製造廠_utf8.csv',encoding='UTF-8')\n",
    "#data = pd.read_csv('C:/Users/tony/Desktop/1003_模糊比對/國際警訊製造廠_邊境_utf8.csv',encoding='UTF-8')\n",
    "\n",
    "\n",
    "# In[3]:\n",
    "\n",
    "\n",
    "cnxn =pyodbc.connect('DRIVER={SQL Server};SERVER=172.16.5.37;DATABASE=國際風險資訊串流輔助系統;UID=fdanrt;PWD=VGdS8lznYmWEh4rt')\n",
    "cursor = cnxn.cursor()\n",
    "sql=\"select * from 國際警訊產品名稱_邊境\"\n",
    "data = pd.read_sql(sql,cnxn)\n",
    "cursor.close()\n",
    "cursor = cnxn.cursor()\n",
    "sql=\"select * from 國際警訊產品名稱\"\n",
    "compar = pd.read_sql(sql,cnxn)\n",
    "compar  = pd.DataFrame(compar)\n",
    "data  = pd.DataFrame(data)\n",
    "product = np.array(pd.DataFrame(data['貨物名稱英文品名_c']))\n",
    "n_product = compar['產品名稱_c'].unique()\n",
    "product_df = pd.DataFrame(data)\n",
    "result=[]\n",
    "\n",
    "\n",
    "# In[4]:\n",
    "\n",
    "\n",
    "l_product = len(product)\n",
    "\n",
    "\n",
    "# In[5]:\n",
    "\n",
    "\n",
    "for i in range(l_product-1):\n",
    "    a=np.array([[Levenshtein.jaro(product[i][0],i2)] for i2 in n_product])\n",
    "    index= np.argmax(a, axis=0)[0]\n",
    "    score = a[index][0]\n",
    "    product_df_temp = product_df[product_df['貨物名稱英文品名_c']==product[i][0]]\n",
    "    temp = [product_df_temp['IFI_PK'][i],product_df_temp['貨物名稱英文品名_c'][i],n_product[index],score]\n",
    "    result = pd.DataFrame(result).append(pd.Series(temp), ignore_index=True)\n",
    "    \n",
    "result = pd.DataFrame(result)\n",
    "result.columns=['IFI_PK','IFI_貨物名稱英文品名_c','IFN_產品名稱_c','score']\n",
    "result.to_csv('C:/Users/fdanrt/Documents/產品名稱_1203.csv', sep=',', encoding='utf-8')\n",
    "\n",
    "\n",
    "\n",
    "\n",
    "\n",
    "# In[ ]:\n",
    "\n",
    "\n",
    "from sqlalchemy import create_engine\n",
    "import urllib\n",
    "params = urllib.parse.quote_plus('DRIVER={SQL Server};SERVER=172.16.5.37;DATABASE=國際風險資訊串流輔助系統;UID=fdanrt;PWD=VGdS8lznYmWEh4rt')\n",
    "cnxn = create_engine(\"mssql+pyodbc:///?odbc_connect=%s\" % params)\n",
    "con = cnxn.connect()\n",
    "state=1\n",
    "if state==0:\n",
    "    result.to_sql(name='模糊比對_產品名稱比對結果', con=con, if_exists='append', index=False)\n",
    "else:\n",
    "    result.to_sql(name='模糊比對_產品名稱比對結果', con=con, if_exists='replace', index=False)\n",
    "    \n",
    "con.close()\n",
    "cnxn.close()\n",
    "\n",
    "\n",
    "# In[16]:\n",
    "\n",
    "\n",
    "cnxn =pyodbc.connect('DRIVER={SQL Server};SERVER=172.16.5.37;DATABASE=國際風險資訊串流輔助系統;UID=fdanrt;PWD=VGdS8lznYmWEh4rt')\n",
    "cursor = cnxn.cursor()\n",
    "sql=\"select * from 國際警訊製造廠_邊境\"\n",
    "data = pd.read_sql(sql,cnxn)\n",
    "cursor = cnxn.cursor()\n",
    "sql=\"select * from 國際警訊製造廠\"\n",
    "compar = pd.read_sql(sql,cnxn)\n",
    "cursor.close()\n",
    "compar  = pd.DataFrame(compar)\n",
    "data  = pd.DataFrame(data)\n",
    "product = np.array(pd.DataFrame(data['製造廠_c']))\n",
    "n_product = compar['製造廠_c'].unique()\n",
    "product_df = pd.DataFrame(data)\n",
    "result=[]\n",
    "\n",
    "\n",
    "\n",
    "\n",
    "# In[17]:\n",
    "\n",
    "\n",
    "for i in range(len(product)-1):\n",
    "    a=np.array([[Levenshtein.jaro_winkler(product[i][0],i2)] for i2 in n_product])\n",
    "    index= np.argmax(a, axis=0)[0]\n",
    "    score = a[index][0]\n",
    "    product_df_temp = product_df[product_df['製造廠_c']==product[i][0]]\n",
    "    temp = [product_df_temp['IFI_PK'][i],product_df_temp['製造廠_c'][i],n_product[index],score]\n",
    "    result = pd.DataFrame(result).append(pd.Series(temp), ignore_index=True)\n",
    "    \n",
    "\n",
    "\n",
    "# In[18]:\n",
    "\n",
    "\n",
    "result = pd.DataFrame(result)\n",
    "result.columns=['IFI_PK','IFI_製造廠_c','IFN_製造廠_c','score']\n",
    "result.to_csv('C:/Users/fdanrt/Documents/製造廠商名.csv', sep=',', encoding='utf-8')\n",
    "\n",
    "\n",
    "# In[19]:\n",
    "\n",
    "\n",
    "from sqlalchemy import create_engine\n",
    "import urllib\n",
    "params = urllib.parse.quote_plus('DRIVER={SQL Server};SERVER=172.16.5.37;DATABASE=國際風險資訊串流輔助系統;UID=fdanrt;PWD=VGdS8lznYmWEh4rt')\n",
    "cnxn = create_engine(\"mssql+pyodbc:///?odbc_connect=%s\" % params)\n",
    "con = cnxn.connect()\n",
    "state=1\n",
    "if state==0:\n",
    "    result.to_sql(name='模糊比對_製造廠比對結果', con=con, if_exists='append', index=False)\n",
    "else:\n",
    "    result.to_sql(name='模糊比對_製造廠比對結果', con=con, if_exists='replace', index=False)\n",
    "    \n",
    "con.close()\n",
    "cnxn.close()\n",
    "\n",
    "\n",
    "# In[6]:\n",
    "\n",
    "\n",
    "cnxn =pyodbc.connect('DRIVER={SQL Server};SERVER=172.16.5.37;DATABASE=國際風險資訊串流輔助系統;UID=fdanrt;PWD=VGdS8lznYmWEh4rt')\n",
    "cursor = cnxn.cursor()\n",
    "sql=\"select * from 國際警訊品牌_邊境\"\n",
    "data = pd.read_sql(sql,cnxn)\n",
    "cursor.close()\n",
    "cursor = cnxn.cursor()\n",
    "sql=\"select * from 國際警訊品牌\"\n",
    "compar = pd.read_sql(sql,cnxn)\n",
    "cursor.close()\n",
    "\n",
    "compar  = pd.DataFrame(compar)\n",
    "data  = pd.DataFrame(data)\n",
    "product = np.array(pd.DataFrame(data['商標_c']))\n",
    "n_product = compar['品牌_c'].unique()\n",
    "product_df = pd.DataFrame(data)\n",
    "result=[]\n",
    "for i in range(len(product)):\n",
    "    a=np.array([[Levenshtein.jaro_winkler(product[i][0],i2)] for i2 in n_product])\n",
    "    index= np.argmax(a, axis=0)[0]\n",
    "    score = a[index][0]\n",
    "    product_df_temp = product_df[product_df['商標_c']==product[i][0]]\n",
    "    temp = [product_df_temp['IFI_PK'][i],product_df_temp['商標_c'][i],n_product[index],score]\n",
    "    result = pd.DataFrame(result).append(pd.Series(temp), ignore_index=True)\n",
    "    \n",
    "result = pd.DataFrame(result)\n",
    "result.columns=['IFI_PK','IFI_商標_c','IFN_品牌_c','score']\n",
    "result.to_csv('C:/Users/fdanrt/Documents/品牌.csv', sep=',', encoding='utf-8')\n",
    "\n",
    "from sqlalchemy import create_engine\n",
    "import urllib\n",
    "params = urllib.parse.quote_plus('DRIVER={SQL Server};SERVER=172.16.5.37;DATABASE=國際風險資訊串流輔助系統;UID=fdanrt;PWD=VGdS8lznYmWEh4rt')\n",
    "cnxn = create_engine(\"mssql+pyodbc:///?odbc_connect=%s\" % params)\n",
    "con = cnxn.connect()\n",
    "state=1\n",
    "if state==0:\n",
    "    result.to_sql(name='模糊比對_品牌比對結果', con=con, if_exists='append', index=False)\n",
    "else:\n",
    "    result.to_sql(name='模糊比對_品牌比對結果', con=con, if_exists='replace', index=False)\n",
    "    \n",
    "con.close()\n",
    "cnxn.close()\n",
    "\n"
   ]
  },
  {
   "cell_type": "code",
   "execution_count": null,
   "metadata": {
    "hidden": true
   },
   "outputs": [],
   "source": []
  }
 ],
 "metadata": {
  "kernelspec": {
   "display_name": "Python 3",
   "language": "python",
   "name": "python3"
  },
  "language_info": {
   "codemirror_mode": {
    "name": "ipython",
    "version": 3
   },
   "file_extension": ".py",
   "mimetype": "text/x-python",
   "name": "python",
   "nbconvert_exporter": "python",
   "pygments_lexer": "ipython3",
   "version": "3.7.6"
  },
  "toc": {
   "base_numbering": 1,
   "nav_menu": {},
   "number_sections": true,
   "sideBar": true,
   "skip_h1_title": false,
   "title_cell": "Table of Contents",
   "title_sidebar": "Contents",
   "toc_cell": false,
   "toc_position": {},
   "toc_section_display": true,
   "toc_window_display": false
  }
 },
 "nbformat": 4,
 "nbformat_minor": 2
}

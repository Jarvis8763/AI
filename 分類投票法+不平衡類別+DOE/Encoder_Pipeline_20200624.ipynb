{
 "cells": [
  {
   "cell_type": "markdown",
   "metadata": {},
   "source": [
    "# Encoder Test"
   ]
  },
  {
   "cell_type": "code",
   "execution_count": 1,
   "metadata": {},
   "outputs": [],
   "source": [
    "from sklearn.preprocessing import LabelEncoder,OneHotEncoder"
   ]
  },
  {
   "cell_type": "code",
   "execution_count": 2,
   "metadata": {},
   "outputs": [],
   "source": [
    "import pandas as pd\n",
    "import numpy as np"
   ]
  },
  {
   "cell_type": "code",
   "execution_count": 3,
   "metadata": {},
   "outputs": [],
   "source": [
    "#import data\n",
    "test=pd.read_csv('C:/Users/6506/Desktop/FDA/N334/變數刪除後123/分析大表testing_data_11_flted.csv',encoding='ANSI')\n",
    "train=pd.read_csv('C:/Users/6506/Desktop/FDA/N334/變數刪除後123/分析大表training_data_11_flted.csv',encoding='ANSI')"
   ]
  },
  {
   "cell_type": "code",
   "execution_count": 5,
   "metadata": {},
   "outputs": [],
   "source": [
    "null_columns=train.columns[train.isnull().any()]\n",
    "train[train.isnull().any(axis=1)][null_columns]\n",
    "train.loc[train.isnull().any(axis=1),null_columns]='NA'\n",
    "df=pd.concat([test,train])"
   ]
  },
  {
   "cell_type": "code",
   "execution_count": null,
   "metadata": {},
   "outputs": [],
   "source": [
    "en=OneHotEncoder()\n",
    "en.fit_transform(df.loc[:, '包裝方式']).reshape(-1,1)"
   ]
  },
  {
   "cell_type": "code",
   "execution_count": 11,
   "metadata": {},
   "outputs": [],
   "source": [
    "dummies = pd.get_dummies(df['包裝方式'], prefix=2)"
   ]
  },
  {
   "cell_type": "code",
   "execution_count": 40,
   "metadata": {},
   "outputs": [],
   "source": [
    "d=df.dtypes==object\n",
    "index=d[d==True].index[1:]\n",
    "\n",
    "for i in index:\n",
    "    dummies=pd.get_dummies( df[i], prefix=i)\n",
    "    df = pd.concat( [df, dummies], axis = 1 )\n",
    "    df=df.drop(i,axis=1)"
   ]
  },
  {
   "cell_type": "code",
   "execution_count": 6,
   "metadata": {},
   "outputs": [
    {
     "data": {
      "text/plain": [
       "0    袋裝\n",
       "1    袋裝\n",
       "2    袋裝\n",
       "3    袋裝\n",
       "4    盒裝\n",
       "Name: 包裝方式, dtype: object"
      ]
     },
     "execution_count": 6,
     "metadata": {},
     "output_type": "execute_result"
    }
   ],
   "source": [
    "df.loc[:, '包裝方式'].head()"
   ]
  },
  {
   "cell_type": "code",
   "execution_count": 27,
   "metadata": {},
   "outputs": [
    {
     "data": {
      "text/plain": [
       "array([ 8, 11,  1,  5,  5, -2, -2, -2,  0,  7, -2, -2, -2,  5,  0,  7, -2,\n",
       "       -2,  0, -2, -2, 12, -2, -2,  5,  9, 11,  7, -2, -2, -2, 10, 12, -2,\n",
       "       -2, 11, -2, -2,  9,  7,  0, -2, -2, 12, -2, -2,  5,  2, -2, -2,  1,\n",
       "       -2, -2], dtype=int64)"
      ]
     },
     "execution_count": 27,
     "metadata": {},
     "output_type": "execute_result"
    }
   ],
   "source": [
    "clf.tree_.value\n",
    "clf.tree_.threshold\n",
    "clf.tree_.feature\n",
    "#np.savetxt(\"test2.csv\", a,fmt=\"%.0f\", delimiter=\",\")"
   ]
  },
  {
   "cell_type": "code",
   "execution_count": 29,
   "metadata": {},
   "outputs": [
    {
     "ename": "AttributeError",
     "evalue": "attribute 'threshold' of 'sklearn.tree._tree.Tree' objects is not writable",
     "output_type": "error",
     "traceback": [
      "\u001b[1;31m---------------------------------------------------------------------------\u001b[0m",
      "\u001b[1;31mAttributeError\u001b[0m                            Traceback (most recent call last)",
      "\u001b[1;32m<ipython-input-29-34a1a714afe4>\u001b[0m in \u001b[0;36m<module>\u001b[1;34m\u001b[0m\n\u001b[1;32m----> 1\u001b[1;33m \u001b[0mclf\u001b[0m\u001b[1;33m.\u001b[0m\u001b[0mtree_\u001b[0m\u001b[1;33m.\u001b[0m\u001b[0mthreshold\u001b[0m\u001b[1;33m=\u001b[0m\u001b[0mclf\u001b[0m\u001b[1;33m.\u001b[0m\u001b[0mtree_\u001b[0m\u001b[1;33m.\u001b[0m\u001b[0mthreshold\u001b[0m\u001b[1;33m.\u001b[0m\u001b[0mastype\u001b[0m\u001b[1;33m(\u001b[0m\u001b[0mobject\u001b[0m\u001b[1;33m)\u001b[0m\u001b[1;33m\u001b[0m\u001b[1;33m\u001b[0m\u001b[0m\n\u001b[0m",
      "\u001b[1;31mAttributeError\u001b[0m: attribute 'threshold' of 'sklearn.tree._tree.Tree' objects is not writable"
     ]
    }
   ],
   "source": [
    "clf.tree_.threshold=clf.tree_.threshold.astype(object)"
   ]
  },
  {
   "cell_type": "code",
   "execution_count": 24,
   "metadata": {},
   "outputs": [],
   "source": [
    "# df[d[d==True].index[1:]].to_csv('a.csv',encoding='ANSI',index=0)\n",
    "# ocat=pd.read_csv('a.csv',encoding='ANSI')\n",
    "ocat=df[d[d==True].index[1:]]"
   ]
  },
  {
   "cell_type": "code",
   "execution_count": 25,
   "metadata": {},
   "outputs": [],
   "source": [
    "from collections import defaultdict\n",
    "d = defaultdict(LabelEncoder)\n",
    "# Using the dictionary to label future data\n",
    "cat = ocat.apply(lambda x: d[x.name].fit_transform(x))"
   ]
  },
  {
   "cell_type": "code",
   "execution_count": 26,
   "metadata": {},
   "outputs": [],
   "source": [
    "from sklearn import tree\n",
    "clf = tree.DecisionTreeClassifier(max_depth=5).fit(cat, df.iloc[:,1])"
   ]
  },
  {
   "cell_type": "code",
   "execution_count": 8,
   "metadata": {},
   "outputs": [
    {
     "name": "stderr",
     "output_type": "stream",
     "text": [
      "C:\\Users\\6506\\AppData\\Local\\Continuum\\anaconda3\\lib\\site-packages\\sklearn\\externals\\six.py:31: DeprecationWarning: The module is deprecated in version 0.21 and will be removed in version 0.23 since we've dropped support for Python 2.7. Please rely on the official version of six (https://pypi.org/project/six/).\n",
      "  \"(https://pypi.org/project/six/).\", DeprecationWarning)\n"
     ]
    },
    {
     "data": {
      "text/plain": [
       "True"
      ]
     },
     "execution_count": 8,
     "metadata": {},
     "output_type": "execute_result"
    }
   ],
   "source": [
    "from sklearn.externals.six import StringIO\n",
    "import pydotplus\n",
    "import graphviz\n",
    "dot_data = StringIO()\n",
    "tree.export_graphviz(clf,\n",
    "        out_file=dot_data,\n",
    "        feature_names=cat.columns,\n",
    "        class_names=['0','1'],\n",
    "        filled=True, rounded=True,\n",
    "        impurity=False)\n",
    "\n",
    "graph = pydotplus.graph_from_dot_data(dot_data.getvalue())\n",
    "import os\n",
    "os.environ[\"PATH\"] += os.pathsep + 'C:/Users/6506/AppData/Local/Continuum/anaconda3/Library/bin/graphviz'\n",
    "graph.write_svg('C:/Users/6506/Desktop/cat.svg')"
   ]
  },
  {
   "cell_type": "code",
   "execution_count": 51,
   "metadata": {},
   "outputs": [
    {
     "data": {
      "text/plain": [
       "['受理季別',\n",
       " '運輸方式',\n",
       " '是否為純輸入業',\n",
       " '登記地區別',\n",
       " '應檢驗方式',\n",
       " '關區',\n",
       " '關別',\n",
       " '報驗人類別',\n",
       " '受理單位',\n",
       " '進口商登記縣市別',\n",
       " '包裝材料',\n",
       " '包裝方式']"
      ]
     },
     "execution_count": 51,
     "metadata": {},
     "output_type": "execute_result"
    }
   ],
   "source": [
    "list(d.keys())"
   ]
  },
  {
   "cell_type": "code",
   "execution_count": 23,
   "metadata": {},
   "outputs": [
    {
     "name": "stdout",
     "output_type": "stream",
     "text": [
      "受理季別 = Q1, Q2, Q3, Q4\n",
      "運輸方式 = 海運, 空運\n",
      "是否為純輸入業 = 0, 1, 無相關資料\n",
      "登記地區別 = 中, 北, 南, 無登記地點\n",
      "應檢驗方式 = 一般抽中批, 一般監視, 加強抽中批, 政策查驗, 逐批查驗\n",
      "關區 = 基隆關區, 無相關資訊, 臺中關區, 臺北關區, 高雄關區\n",
      "關別 = AA, AB, AE, AL, AM, AT, AW, BA, BC, BD, BE, BF, BG, CA, CB, CD, CE, CF, CG, CH, CI, CK, CM, CN, CP, CR, CT, CU, CV, CW, CX, CY, DA, DB, UN\n",
      "報驗人類別 = 個人, 公司, 其它\n",
      "受理單位 = B00, B20, D00, D10, K00, K20, T00, T10, T20, T30\n",
      "進口商登記縣市別 = 南投縣, 嘉義市, 嘉義縣, 基隆市, 宜蘭縣, 屏東縣, 彰化縣, 新北市, 新竹市, 新竹縣, 桃園市, 無登記地點, 臺中市, 臺北市, 臺南市, 臺東縣, 花蓮縣, 苗栗縣, 連江縣, 金門縣, 雲林縣, 高雄市\n",
      "包裝材料 = PA, Nylon, PC, PE, PET, PP, PS, PVC, PVDC, 其他, 無相關資料, 玻璃, 生質塑膠（如PLA等）, 紙類-接觸部份為塑膠類（含生質塑膠類）, 紙類-接觸部份為植物纖維, 紙類-接觸部份為蠟或紙漿製品, 鋁容器, 鋁箔包, 鐵容器, 陶瓷器\n",
      "包裝方式 = 其他, 散裝, 桶裝, 無相關資料, 瓶裝, 盒裝, 罐裝, 袋裝\n"
     ]
    }
   ],
   "source": [
    "for f in list(d.keys()):\n",
    "    f2= '%s %s %s' % (f,'=', ', '.join(d[f].classes_)  )\n",
    "    print(f2)"
   ]
  },
  {
   "cell_type": "markdown",
   "metadata": {},
   "source": [
    "# Pipeline Test"
   ]
  },
  {
   "cell_type": "code",
   "execution_count": null,
   "metadata": {},
   "outputs": [],
   "source": [
    "class RandomSampler:\n",
    "    \n",
    "    def sample(self, X, y):\n",
    "        return X, y\n",
    "\n",
    "    def fit(self, X, y):\n",
    "        p_train=lambda i:p[p['檢驗不合格']==i]\n",
    "        p=pd.concat([y,X],axis=1)\n",
    "        p=pd.concat([p_train(0).sample(m,random_state=RANDOM_STATE),p_train(1).sample(n,replace=True,random_state=RANDOM_STATE)])\n",
    "        self.X=p.iloc[:,1:]\n",
    "        self.y=p.iloc[:,0]\n",
    "        return self\n",
    "    \n",
    "    def fit_resample(self, X, y):\n",
    "        return self.sample(X, y)\n",
    "\n",
    "class HeadSampler:\n",
    "    \n",
    "    def sample(self, X, y):\n",
    "        return X, y\n",
    "\n",
    "    def fit(self, X, y):\n",
    "        p_train=lambda i:p[p['檢驗不合格']==i]\n",
    "        p=pd.concat([y,X],axis=1)\n",
    "        p=pd.concat([p_train(0).sample(m,random_state=RANDOM_STATE),p_train(1).head(n)])\n",
    "        self.X=p.iloc[:,1:]\n",
    "        self.y=p.iloc[:,0]\n",
    "        return self\n",
    "    \n",
    "    def fit_resample(self, X, y):\n",
    "        return self.sample(X, y)"
   ]
  },
  {
   "cell_type": "code",
   "execution_count": null,
   "metadata": {},
   "outputs": [],
   "source": [
    "class DummySampler:\n",
    "    \n",
    "    def sample(self, X, y):\n",
    "        p_train=lambda i:p[p['檢驗不合格']==i]\n",
    "        p=pd.concat([y,X],axis=1)\n",
    "        p=pd.concat([p_train(0).sample(5),p_train(1).sample(5,replace=True)])\n",
    "        X=p.iloc[:,1:]\n",
    "        y=p.iloc[:,0]\n",
    "        return X, y\n",
    "\n",
    "    def fit(self, X, y):\n",
    "        p_train=lambda i:p[p['檢驗不合格']==i]\n",
    "        p=pd.concat([y,X],axis=1)\n",
    "        p=pd.concat([p_train(0).sample(5),p_train(1).sample(5,replace=True)])\n",
    "        X=p.iloc[:,1:]\n",
    "        y=p.iloc[:,0]\n",
    "        print(12315)\n",
    "        return self\n",
    "    \n",
    "    def fit_resample(self, X, y):\n",
    "        return self.sample(X, y)"
   ]
  },
  {
   "cell_type": "code",
   "execution_count": null,
   "metadata": {},
   "outputs": [],
   "source": [
    "for i in range (len(pipelines)):\n",
    "    pipelines[i][1].steps.insert(1,['DummySampler',DummySampler()])"
   ]
  }
 ],
 "metadata": {
  "kernelspec": {
   "display_name": "Python 3",
   "language": "python",
   "name": "python3"
  },
  "language_info": {
   "codemirror_mode": {
    "name": "ipython",
    "version": 3
   },
   "file_extension": ".py",
   "mimetype": "text/x-python",
   "name": "python",
   "nbconvert_exporter": "python",
   "pygments_lexer": "ipython3",
   "version": "3.7.4"
  },
  "toc": {
   "base_numbering": 1,
   "nav_menu": {},
   "number_sections": true,
   "sideBar": true,
   "skip_h1_title": false,
   "title_cell": "Table of Contents",
   "title_sidebar": "Contents",
   "toc_cell": false,
   "toc_position": {},
   "toc_section_display": true,
   "toc_window_display": false
  }
 },
 "nbformat": 4,
 "nbformat_minor": 2
}

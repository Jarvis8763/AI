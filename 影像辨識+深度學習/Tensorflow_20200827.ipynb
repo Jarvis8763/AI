{
 "cells": [
  {
   "cell_type": "code",
   "execution_count": 1,
   "metadata": {},
   "outputs": [],
   "source": [
    "# LINUX 清除LOG\n",
    "# !rm -rf logs/*"
   ]
  },
  {
   "cell_type": "code",
   "execution_count": 2,
   "metadata": {},
   "outputs": [],
   "source": [
    "import tensorflow as tf\n",
    "from tensorflow.keras.models import Sequential\n",
    "from tensorflow.keras.layers import Dense,Flatten,Input\n",
    "from tensorflow.keras.preprocessing.image import ImageDataGenerator\n",
    "import time\n",
    "import numpy as np"
   ]
  },
  {
   "cell_type": "markdown",
   "metadata": {
    "heading_collapsed": true
   },
   "source": [
    "# mnist_0827"
   ]
  },
  {
   "cell_type": "code",
   "execution_count": 2,
   "metadata": {
    "hidden": true
   },
   "outputs": [],
   "source": [
    "mnist=tf.keras.datasets.mnist\n",
    "\n",
    "(x_train,y_train),(x_test,y_test)=mnist.load_data()\n",
    "x_train,x_test=x_train/255.0,x_test/255.0"
   ]
  },
  {
   "cell_type": "code",
   "execution_count": 3,
   "metadata": {
    "hidden": true
   },
   "outputs": [
    {
     "name": "stdout",
     "output_type": "stream",
     "text": [
      "60000\n",
      "(28, 28)\n"
     ]
    }
   ],
   "source": [
    "print(len(x_train))\n",
    "print(x_train[0].shape)"
   ]
  },
  {
   "cell_type": "code",
   "execution_count": 11,
   "metadata": {
    "hidden": true
   },
   "outputs": [
    {
     "name": "stdout",
     "output_type": "stream",
     "text": [
      "Epoch 1/5\n",
      "30/30 [==============================] - 0s 9ms/step - loss: 1.7458 - accuracy: 0.5942\n",
      "Epoch 2/5\n",
      "30/30 [==============================] - 0s 10ms/step - loss: 0.9948 - accuracy: 0.8102\n",
      "Epoch 3/5\n",
      "30/30 [==============================] - 0s 11ms/step - loss: 0.6920 - accuracy: 0.8551\n",
      "Epoch 4/5\n",
      "30/30 [==============================] - 0s 12ms/step - loss: 0.5457 - accuracy: 0.8774\n",
      "Epoch 5/5\n",
      "30/30 [==============================] - 0s 11ms/step - loss: 0.4626 - accuracy: 0.8889\n",
      "313/313 - 0s - loss: 0.4186 - accuracy: 0.9005\n"
     ]
    },
    {
     "data": {
      "text/plain": [
       "[0.41857093572616577, 0.9004999995231628]"
      ]
     },
     "execution_count": 11,
     "metadata": {},
     "output_type": "execute_result"
    }
   ],
   "source": [
    "model = tf.keras.models.Sequential([\n",
    "    tf.keras.layers.Flatten(input_shape=(28, 28)),\n",
    "    tf.keras.layers.Dense(128, activation='sigmoid'),\n",
    "    tf.keras.layers.Dense(10, activation='softmax')\n",
    "])\n",
    "\n",
    "model.compile(optimizer='adam',\n",
    "              loss='sparse_categorical_crossentropy',\n",
    "              metrics=['accuracy'])\n",
    "\n",
    "model.fit(x_train, y_train, batch_size=2048,epochs=5)\n",
    "model.evaluate(x_test, y_test, verbose=2)"
   ]
  },
  {
   "cell_type": "code",
   "execution_count": 5,
   "metadata": {
    "hidden": true
   },
   "outputs": [
    {
     "name": "stdout",
     "output_type": "stream",
     "text": [
      "Epoch 1/5\n",
      "1875/1875 [==============================] - 4s 2ms/step - loss: 1.2593 - accuracy: 0.5183\n",
      "Epoch 2/5\n",
      "1875/1875 [==============================] - 5s 2ms/step - loss: 0.3876 - accuracy: 0.9005\n",
      "Epoch 3/5\n",
      "1875/1875 [==============================] - 8s 4ms/step - loss: 0.2420 - accuracy: 0.9366\n",
      "Epoch 4/5\n",
      "1875/1875 [==============================] - 8s 4ms/step - loss: 0.1892 - accuracy: 0.9501\n",
      "Epoch 5/5\n",
      "1875/1875 [==============================] - 7s 4ms/step - loss: 0.1563 - accuracy: 0.9587\n",
      "313/313 - 0s - loss: 0.1600 - accuracy: 0.9557\n"
     ]
    },
    {
     "data": {
      "text/plain": [
       "[0.15998539328575134, 0.9556999802589417]"
      ]
     },
     "execution_count": 5,
     "metadata": {},
     "output_type": "execute_result"
    }
   ],
   "source": [
    "model = tf.keras.models.Sequential([\n",
    "    tf.keras.layers.Flatten(input_shape=(28, 28)),\n",
    "    tf.keras.layers.Dense(128, activation='sigmoid'),\n",
    "    tf.keras.layers.Dense(128, activation='sigmoid'),\n",
    "    tf.keras.layers.Dense(128, activation='sigmoid'),\n",
    "    tf.keras.layers.Dense(128, activation='sigmoid'),\n",
    "    tf.keras.layers.Dense(128, activation='sigmoid'),\n",
    "    tf.keras.layers.Dense(128, activation='sigmoid'),\n",
    "    tf.keras.layers.Dense(128, activation='sigmoid'),\n",
    "    tf.keras.layers.Dropout(0.2),\n",
    "    tf.keras.layers.Dense(10, activation='softmax')\n",
    "])\n",
    "\n",
    "model.compile(optimizer='adam',\n",
    "              loss='sparse_categorical_crossentropy',\n",
    "              metrics=['accuracy'])\n",
    "\n",
    "model.fit(x_train, y_train, epochs=5)\n",
    "model.evaluate(x_test, y_test, verbose=2)"
   ]
  },
  {
   "cell_type": "code",
   "execution_count": 9,
   "metadata": {
    "hidden": true
   },
   "outputs": [
    {
     "name": "stdout",
     "output_type": "stream",
     "text": [
      "Epoch 1/5\n",
      "1875/1875 [==============================] - 4s 2ms/step - loss: 0.2868 - accuracy: 0.9148\n",
      "Epoch 2/5\n",
      "1875/1875 [==============================] - 5s 2ms/step - loss: 0.1349 - accuracy: 0.9621\n",
      "Epoch 3/5\n",
      "1875/1875 [==============================] - 8s 4ms/step - loss: 0.1030 - accuracy: 0.9720\n",
      "Epoch 4/5\n",
      "1875/1875 [==============================] - 7s 4ms/step - loss: 0.0856 - accuracy: 0.9774\n",
      "Epoch 5/5\n",
      "1875/1875 [==============================] - 5s 2ms/step - loss: 0.0714 - accuracy: 0.9804\n",
      "313/313 - 0s - loss: 0.0958 - accuracy: 0.9744\n",
      "GPU : 29.14 sec\n"
     ]
    }
   ],
   "source": [
    "model = tf.keras.models.Sequential([\n",
    "    tf.keras.layers.Flatten(input_shape=(28, 28)),\n",
    "    tf.keras.layers.Dense(128, activation='relu'),\n",
    "    tf.keras.layers.Dense(128, activation='relu'),\n",
    "    tf.keras.layers.Dense(128, activation='relu'),\n",
    "    tf.keras.layers.Dense(128, activation='relu'),\n",
    "    tf.keras.layers.Dense(128, activation='relu'),\n",
    "    tf.keras.layers.Dense(128, activation='relu'),\n",
    "    tf.keras.layers.Dense(128, activation='relu'),\n",
    "    tf.keras.layers.Dropout(0.2),\n",
    "    tf.keras.layers.Dense(10, activation='softmax')\n",
    "])\n",
    "\n",
    "model.compile(optimizer='adam',\n",
    "              loss='sparse_categorical_crossentropy',\n",
    "              metrics=['accuracy'])\n",
    "\n",
    "start = time.time()\n",
    "model.fit(x_train, y_train, epochs=5)\n",
    "model.evaluate(x_test, y_test, verbose=2)\n",
    "end = time.time()\n",
    "print(\"GPU : %.2f\" %(end - start), \"sec\")"
   ]
  },
  {
   "cell_type": "code",
   "execution_count": 7,
   "metadata": {
    "hidden": true,
    "scrolled": true
   },
   "outputs": [
    {
     "name": "stdout",
     "output_type": "stream",
     "text": [
      "Epoch 1/5\n",
      "1875/1875 [==============================] - 5s 3ms/step - loss: 0.2918 - accuracy: 0.9128\n",
      "Epoch 2/5\n",
      "1875/1875 [==============================] - 4s 2ms/step - loss: 0.1345 - accuracy: 0.9629\n",
      "Epoch 3/5\n",
      "1875/1875 [==============================] - 7s 4ms/step - loss: 0.1019 - accuracy: 0.9719\n",
      "Epoch 4/5\n",
      "1875/1875 [==============================] - 5s 3ms/step - loss: 0.0838 - accuracy: 0.9767\n",
      "Epoch 5/5\n",
      "1875/1875 [==============================] - 5s 3ms/step - loss: 0.0741 - accuracy: 0.9800\n",
      "313/313 - 0s - loss: 0.1071 - accuracy: 0.9717\n",
      "CPU : 26.29 sec\n"
     ]
    }
   ],
   "source": [
    "model = tf.keras.models.Sequential([\n",
    "    tf.keras.layers.Flatten(input_shape=(28, 28)),\n",
    "    tf.keras.layers.Dense(128, activation='relu'),\n",
    "    tf.keras.layers.Dense(128, activation='relu'),\n",
    "    tf.keras.layers.Dense(128, activation='relu'),\n",
    "    tf.keras.layers.Dense(128, activation='relu'),\n",
    "    tf.keras.layers.Dense(128, activation='relu'),\n",
    "    tf.keras.layers.Dense(128, activation='relu'),\n",
    "    tf.keras.layers.Dense(128, activation='relu'),\n",
    "    tf.keras.layers.Dropout(0.2),\n",
    "    tf.keras.layers.Dense(10, activation='softmax')\n",
    "])\n",
    "\n",
    "model.compile(optimizer='adam',\n",
    "              loss='sparse_categorical_crossentropy',\n",
    "              metrics=['accuracy'])\n",
    "\n",
    "start = time.time()\n",
    "model.fit(x_train, y_train, epochs=5)\n",
    "model.evaluate(x_test, y_test, verbose=2)\n",
    "end = time.time()\n",
    "print(\"CPU : %.2f\" %(end - start), \"sec\")"
   ]
  },
  {
   "cell_type": "markdown",
   "metadata": {
    "heading_collapsed": true
   },
   "source": [
    "# Tensorboard_0903"
   ]
  },
  {
   "cell_type": "code",
   "execution_count": 3,
   "metadata": {
    "hidden": true
   },
   "outputs": [],
   "source": [
    "# 設定參數與位置\n",
    "TRAIN_DIR='./MNIST/train/'\n",
    "TEST_DIR='./MNIST/test/'\n",
    "LOG_DIR='./logs'\n",
    "\n",
    "TOTAL_TRAIN=60000\n",
    "TOTAL_VAL=10000\n",
    "BATCH_SIZE=64\n",
    "EPOCHS=5\n",
    "IMG_HEIGHT,IMG_WIDTH=28,28\n",
    "MAX_OUTPUTS=25"
   ]
  },
  {
   "cell_type": "code",
   "execution_count": 4,
   "metadata": {
    "hidden": true
   },
   "outputs": [],
   "source": [
    "# 設定資料集，圖片維度縮減為1/255\n",
    "train_image_generator=ImageDataGenerator(\n",
    "    rescale=1./255,\n",
    "    validation_split=0.1    \n",
    ")\n",
    "\n",
    "test_image_generator=ImageDataGenerator(\n",
    "    rescale=1./255\n",
    ")"
   ]
  },
  {
   "cell_type": "code",
   "execution_count": 5,
   "metadata": {
    "hidden": true
   },
   "outputs": [
    {
     "name": "stdout",
     "output_type": "stream",
     "text": [
      "Found 54004 images belonging to 10 classes.\n",
      "Found 5996 images belonging to 10 classes.\n",
      "Found 10000 images belonging to 10 classes.\n"
     ]
    }
   ],
   "source": [
    "# 讀取資料\n",
    "train_ds=train_image_generator.flow_from_directory(\n",
    "    directory=TRAIN_DIR,\n",
    "    shuffle=True,\n",
    "    target_size=(28,28),#若是資料分析則為因子數，e.g.120個因子\n",
    "    batch_size=64,\n",
    "    class_mode='binary',\n",
    "    subset='training'\n",
    ")\n",
    "\n",
    "val_ds=train_image_generator.flow_from_directory(\n",
    "    directory=TRAIN_DIR,\n",
    "    target_size=(28,28),\n",
    "    batch_size=64,\n",
    "    class_mode='binary',\n",
    "    subset='validation'\n",
    ")\n",
    "\n",
    "test_ds=test_image_generator.flow_from_directory(\n",
    "    directory=TEST_DIR,\n",
    "    target_size=(28,28),\n",
    "    batch_size=64,\n",
    "    class_mode='binary',\n",
    ")"
   ]
  },
  {
   "cell_type": "code",
   "execution_count": 6,
   "metadata": {
    "hidden": true
   },
   "outputs": [],
   "source": [
    "# 抓25筆資料進tensorboard\n",
    "file_writer=tf.summary.create_file_writer(LOG_DIR+'/images')\n",
    "images=train_ds[0][0][0:25]\n",
    "with file_writer.as_default():\n",
    "    tf.summary.image(\n",
    "        '25 train data',\n",
    "        np.reshape(images,(-1,28,28,3)),\n",
    "        max_outputs=25,\n",
    "        step=0\n",
    "    )"
   ]
  },
  {
   "cell_type": "code",
   "execution_count": 7,
   "metadata": {
    "hidden": true
   },
   "outputs": [],
   "source": [
    "'''\n",
    "model = tf.keras.models.Sequential([\n",
    "    tf.keras.layers.Flatten(input_shape=(28, 28)),\n",
    "    tf.keras.layers.Dense(128, activation='sigmoid'),\n",
    "    tf.keras.layers.Dense(10, activation='softmax')\n",
    "])\n",
    "'''\n",
    "\n",
    "# 使用functional方式建模\n",
    "inputs=Input((28, 28,3))\n",
    "x=Flatten()(inputs)\n",
    "x=Dense(128, activation='sigmoid')(x)\n",
    "outputs=Dense(10, activation='softmax')(x)\n",
    "\n",
    "model=tf.keras.Model(inputs=inputs,outputs=outputs)"
   ]
  },
  {
   "cell_type": "code",
   "execution_count": 8,
   "metadata": {
    "hidden": true
   },
   "outputs": [
    {
     "name": "stdout",
     "output_type": "stream",
     "text": [
      "Epoch 1/5\n",
      "844/844 [==============================] - 15s 18ms/step - loss: 0.3676 - accuracy: 0.9035 - val_loss: 0.2465 - val_accuracy: 0.9320\n",
      "Epoch 2/5\n",
      "844/844 [==============================] - 17s 20ms/step - loss: 0.1785 - accuracy: 0.9486 - val_loss: 0.1824 - val_accuracy: 0.9493\n",
      "Epoch 3/5\n",
      "844/844 [==============================] - 17s 20ms/step - loss: 0.1305 - accuracy: 0.9634 - val_loss: 0.1575 - val_accuracy: 0.9545\n",
      "Epoch 4/5\n",
      "844/844 [==============================] - 17s 20ms/step - loss: 0.1020 - accuracy: 0.9713 - val_loss: 0.1322 - val_accuracy: 0.9603\n",
      "Epoch 5/5\n",
      "844/844 [==============================] - 17s 21ms/step - loss: 0.0820 - accuracy: 0.9770 - val_loss: 0.1212 - val_accuracy: 0.9641\n",
      "test_loss : 0.1008 - test_accuracy: 0.9687\n"
     ]
    }
   ],
   "source": [
    "model.compile(optimizer='adam',\n",
    "              loss='sparse_categorical_crossentropy',\n",
    "              metrics=['accuracy'])\n",
    "\n",
    "tensorboard_callback=tf.keras.callbacks.TensorBoard(log_dir=LOG_DIR)\n",
    "\n",
    "model.fit(train_ds,\n",
    "          epochs=EPOCHS,\n",
    "          validation_data=val_ds,\n",
    "          callbacks=[tensorboard_callback],\n",
    "          workers=4)#4-core\n",
    "test_loss,test_accuracy=model.evaluate(test_ds,verbose=0)\n",
    "print(\"test_loss : %.4f - test_accuracy: %.4f\" %(test_loss , test_accuracy))"
   ]
  },
  {
   "cell_type": "code",
   "execution_count": 9,
   "metadata": {
    "hidden": true
   },
   "outputs": [
    {
     "name": "stdout",
     "output_type": "stream",
     "text": [
      "WARNING:tensorflow:From C:\\Users\\6506\\AppData\\Roaming\\Python\\Python37\\site-packages\\tensorflow\\python\\ops\\resource_variable_ops.py:1817: calling BaseResourceVariable.__init__ (from tensorflow.python.ops.resource_variable_ops) with constraint is deprecated and will be removed in a future version.\n",
      "Instructions for updating:\n",
      "If using Keras pass *_constraint arguments to layers.\n",
      "INFO:tensorflow:Assets written to: checkpoint\\assets\n"
     ]
    }
   ],
   "source": [
    "# 存模型\n",
    "model.save('checkpoint')\n",
    "\n",
    "# model=None\n",
    "# print('model:',model)"
   ]
  },
  {
   "cell_type": "code",
   "execution_count": 10,
   "metadata": {
    "hidden": true
   },
   "outputs": [
    {
     "name": "stdout",
     "output_type": "stream",
     "text": [
      "Model: \"model\"\n",
      "_________________________________________________________________\n",
      "Layer (type)                 Output Shape              Param #   \n",
      "=================================================================\n",
      "input_1 (InputLayer)         [(None, 28, 28, 3)]       0         \n",
      "_________________________________________________________________\n",
      "flatten (Flatten)            (None, 2352)              0         \n",
      "_________________________________________________________________\n",
      "dense (Dense)                (None, 128)               301184    \n",
      "_________________________________________________________________\n",
      "dense_1 (Dense)              (None, 10)                1290      \n",
      "=================================================================\n",
      "Total params: 302,474\n",
      "Trainable params: 302,474\n",
      "Non-trainable params: 0\n",
      "_________________________________________________________________\n",
      "test_loss : 0.1008 - test_accuracy: 0.9687\n"
     ]
    }
   ],
   "source": [
    "# 讀取模型\n",
    "model=tf.keras.models.load_model('checkpoint')\n",
    "model.summary()\n",
    "\n",
    "test_loss,test_accuracy=model.evaluate(test_ds,verbose=0)\n",
    "print(\"test_loss : %.4f - test_accuracy: %.4f\" %(test_loss , test_accuracy))"
   ]
  },
  {
   "cell_type": "code",
   "execution_count": 12,
   "metadata": {
    "hidden": true
   },
   "outputs": [
    {
     "name": "stdout",
     "output_type": "stream",
     "text": [
      "Model: \"model_2\"\n",
      "_________________________________________________________________\n",
      "Layer (type)                 Output Shape              Param #   \n",
      "=================================================================\n",
      "input_1 (InputLayer)         [(None, 28, 28, 3)]       0         \n",
      "_________________________________________________________________\n",
      "flatten (Flatten)            (None, 2352)              0         \n",
      "_________________________________________________________________\n",
      "dense (Dense)                (None, 128)               301184    \n",
      "_________________________________________________________________\n",
      "dense_3 (Dense)              (None, 2)                 258       \n",
      "=================================================================\n",
      "Total params: 301,442\n",
      "Trainable params: 301,442\n",
      "Non-trainable params: 0\n",
      "_________________________________________________________________\n"
     ]
    }
   ],
   "source": [
    "# 砍掉最後一層\n",
    "x=model.layers[-2].output\n",
    "# 新增一層\n",
    "outputs=Dense(2, activation='softmax')(x)\n",
    "# outputs=Dense(10, activation='softmax')(x)\n",
    "\n",
    "model=tf.keras.Model(inputs=model.inputs,outputs=outputs)\n",
    "model.summary()"
   ]
  },
  {
   "cell_type": "code",
   "execution_count": null,
   "metadata": {
    "hidden": true
   },
   "outputs": [],
   "source": [
    "# 重新compile，層數不對會出錯\n",
    "model.compile(optimizer='adam',\n",
    "              loss='sparse_categorical_crossentropy',\n",
    "              metrics=['accuracy'])\n",
    "\n",
    "test_loss,test_accuracy=model.evaluate(test_ds,verbose=0)\n",
    "print(\"test_loss : %.4f - test_accuracy: %.4f\" %(test_loss , test_accuracy))"
   ]
  },
  {
   "cell_type": "code",
   "execution_count": null,
   "metadata": {
    "hidden": true
   },
   "outputs": [],
   "source": [
    "# open tensorboard\n",
    "!tensorboard --logdir=./logs --bind_all\n",
    "# python -m tensorboard.main --logdir=logs --port 6006 --host 127.0.0.1\n",
    "# http://localhost:6006/"
   ]
  },
  {
   "cell_type": "code",
   "execution_count": null,
   "metadata": {
    "hidden": true
   },
   "outputs": [],
   "source": []
  },
  {
   "cell_type": "markdown",
   "metadata": {
    "heading_collapsed": true
   },
   "source": [
    "# CNN_0910"
   ]
  },
  {
   "cell_type": "code",
   "execution_count": 1,
   "metadata": {
    "colab": {
     "base_uri": "https://localhost:8080/",
     "height": 364
    },
    "colab_type": "code",
    "hidden": true,
    "id": "rSx8izo7vhu-",
    "outputId": "54356588-91f0-4391-e2ba-2d495807e19c",
    "scrolled": true
   },
   "outputs": [
    {
     "name": "stdout",
     "output_type": "stream",
     "text": [
      "Thu Sep 10 07:36:34 2020       \n",
      "+-----------------------------------------------------------------------------+\n",
      "| NVIDIA-SMI 450.66       Driver Version: 418.67       CUDA Version: 10.1     |\n",
      "|-------------------------------+----------------------+----------------------+\n",
      "| GPU  Name        Persistence-M| Bus-Id        Disp.A | Volatile Uncorr. ECC |\n",
      "| Fan  Temp  Perf  Pwr:Usage/Cap|         Memory-Usage | GPU-Util  Compute M. |\n",
      "|                               |                      |               MIG M. |\n",
      "|===============================+======================+======================|\n",
      "|   0  Tesla K80           Off  | 00000000:00:04.0 Off |                    0 |\n",
      "| N/A   57C    P8    30W / 149W |      0MiB / 11441MiB |      0%      Default |\n",
      "|                               |                      |                 ERR! |\n",
      "+-------------------------------+----------------------+----------------------+\n",
      "                                                                               \n",
      "+-----------------------------------------------------------------------------+\n",
      "| Processes:                                                                  |\n",
      "|  GPU   GI   CI        PID   Type   Process name                  GPU Memory |\n",
      "|        ID   ID                                                   Usage      |\n",
      "|=============================================================================|\n",
      "|  No running processes found                                                 |\n",
      "+-----------------------------------------------------------------------------+\n"
     ]
    }
   ],
   "source": [
    "!nvidia-smi"
   ]
  },
  {
   "cell_type": "code",
   "execution_count": 2,
   "metadata": {
    "colab": {},
    "colab_type": "code",
    "hidden": true,
    "id": "T9a6kiXgwBp4"
   },
   "outputs": [],
   "source": [
    "import matplotlib.pyplot as plt\n",
    "\n",
    "import tensorflow as tf\n",
    "from tensorflow.keras.layers import Dense,Conv2D,Flatten,MaxPooling2D,Input,Reshape"
   ]
  },
  {
   "cell_type": "code",
   "execution_count": 3,
   "metadata": {
    "colab": {},
    "colab_type": "code",
    "hidden": true,
    "id": "OsmDOwBbwkRK"
   },
   "outputs": [],
   "source": [
    "mnist=tf.keras.datasets.mnist\n",
    "\n",
    "(x_train,y_train),(x_test,y_test)=mnist.load_data()\n",
    "x_train,x_test=x_train/255.0,x_test/255.0"
   ]
  },
  {
   "cell_type": "code",
   "execution_count": 4,
   "metadata": {
    "colab": {
     "base_uri": "https://localhost:8080/",
     "height": 225
    },
    "colab_type": "code",
    "hidden": true,
    "id": "AyR8YW2gvwe1",
    "outputId": "c63f5c8f-6aaf-427e-9132-5fcee68d6b79"
   },
   "outputs": [
    {
     "name": "stdout",
     "output_type": "stream",
     "text": [
      "Epoch 1/5\n",
      "1875/1875 [==============================] - 9s 5ms/step - loss: 0.1295 - accuracy: 0.9598\n",
      "Epoch 2/5\n",
      "1875/1875 [==============================] - 9s 5ms/step - loss: 0.0411 - accuracy: 0.9869\n",
      "Epoch 3/5\n",
      "1875/1875 [==============================] - 9s 5ms/step - loss: 0.0284 - accuracy: 0.9908\n",
      "Epoch 4/5\n",
      "1875/1875 [==============================] - 9s 5ms/step - loss: 0.0203 - accuracy: 0.9932\n",
      "Epoch 5/5\n",
      "1875/1875 [==============================] - 9s 5ms/step - loss: 0.0147 - accuracy: 0.9952\n",
      "313/313 - 1s - loss: 0.0380 - accuracy: 0.9891\n"
     ]
    },
    {
     "data": {
      "text/plain": [
       "[0.03803850710391998, 0.9890999794006348]"
      ]
     },
     "execution_count": 4,
     "metadata": {
      "tags": []
     },
     "output_type": "execute_result"
    }
   ],
   "source": [
    "inputs=Input(shape=(28,28,1))\n",
    "x=Conv2D(16,3,padding='same',activation='relu')(inputs)\n",
    "x=MaxPooling2D()(x)\n",
    "x=Conv2D(32,3,padding='same',activation='relu')(x)\n",
    "x=MaxPooling2D()(x)\n",
    "x=Flatten()(x)\n",
    "x=Dense(512,activation='relu')(x)\n",
    "outputs=Dense(10,activation='softmax')(x)\n",
    "\n",
    "model=tf.keras.Model(inputs=inputs,outputs=outputs)\n",
    "\n",
    "model.compile(optimizer='adam',\n",
    "       loss='sparse_categorical_crossentropy',       \n",
    "       metrics=['accuracy']\n",
    "       )\n",
    "model.fit(x_train,y_train,epochs=5)\n",
    "model.evaluate(x_test,y_test,verbose=2)"
   ]
  },
  {
   "cell_type": "code",
   "execution_count": 5,
   "metadata": {
    "colab": {
     "base_uri": "https://localhost:8080/",
     "height": 433
    },
    "colab_type": "code",
    "hidden": true,
    "id": "mas-oGgL0xXy",
    "outputId": "e1072c8f-d70b-42fa-86b5-af2bedd20f52"
   },
   "outputs": [
    {
     "name": "stdout",
     "output_type": "stream",
     "text": [
      "Model: \"functional_1\"\n",
      "_________________________________________________________________\n",
      "Layer (type)                 Output Shape              Param #   \n",
      "=================================================================\n",
      "input_1 (InputLayer)         [(None, 28, 28, 1)]       0         \n",
      "_________________________________________________________________\n",
      "conv2d (Conv2D)              (None, 28, 28, 16)        160       \n",
      "_________________________________________________________________\n",
      "max_pooling2d (MaxPooling2D) (None, 14, 14, 16)        0         \n",
      "_________________________________________________________________\n",
      "conv2d_1 (Conv2D)            (None, 14, 14, 32)        4640      \n",
      "_________________________________________________________________\n",
      "max_pooling2d_1 (MaxPooling2 (None, 7, 7, 32)          0         \n",
      "_________________________________________________________________\n",
      "flatten (Flatten)            (None, 1568)              0         \n",
      "_________________________________________________________________\n",
      "dense (Dense)                (None, 512)               803328    \n",
      "_________________________________________________________________\n",
      "dense_1 (Dense)              (None, 10)                5130      \n",
      "=================================================================\n",
      "Total params: 813,258\n",
      "Trainable params: 813,258\n",
      "Non-trainable params: 0\n",
      "_________________________________________________________________\n"
     ]
    }
   ],
   "source": [
    "model.summary()"
   ]
  },
  {
   "cell_type": "code",
   "execution_count": 12,
   "metadata": {
    "colab": {
     "base_uri": "https://localhost:8080/",
     "height": 225
    },
    "colab_type": "code",
    "hidden": true,
    "id": "oVml48th1H2P",
    "outputId": "91c44dda-402d-46d2-e348-080cd4433af7"
   },
   "outputs": [
    {
     "name": "stdout",
     "output_type": "stream",
     "text": [
      "Epoch 1/5\n",
      "1875/1875 [==============================] - 4s 2ms/step - loss: 0.0241 - accuracy: 0.2409\n",
      "Epoch 2/5\n",
      "1875/1875 [==============================] - 4s 2ms/step - loss: 0.0069 - accuracy: 0.3019\n",
      "Epoch 3/5\n",
      "1875/1875 [==============================] - 5s 3ms/step - loss: 0.0051 - accuracy: 0.3130\n",
      "Epoch 4/5\n",
      "1875/1875 [==============================] - 5s 3ms/step - loss: 0.0046 - accuracy: 0.3169\n",
      "Epoch 5/5\n",
      "1875/1875 [==============================] - 5s 3ms/step - loss: 0.0044 - accuracy: 0.3188\n",
      "313/313 - 1s - loss: 0.0042 - accuracy: 0.3114\n"
     ]
    },
    {
     "data": {
      "text/plain": [
       "[0.004170150961726904, 0.311389297246933]"
      ]
     },
     "execution_count": 12,
     "metadata": {
      "tags": []
     },
     "output_type": "execute_result"
    }
   ],
   "source": [
    "encoder_input=Input(shape=(28,28))\n",
    "x=Flatten()(encoder_input)\n",
    "#NODE數量(64)會影響圖片解析度\n",
    "encoder_output=Dense(64,activation='relu')(x)\n",
    "x=Dense(784,activation='sigmoid')(encoder_output)\n",
    "decoder_output=Reshape((28,28))(x)\n",
    "\n",
    "autoencoder=tf.keras.Model(encoder_input,decoder_output,name='autoencoder')\n",
    "\n",
    "autoencoder.compile(optimizer='adam',\n",
    "          loss='mse',\n",
    "          metrics=['accuracy'])\n",
    "\n",
    "autoencoder.fit(x_train,x_train,epochs=5)\n",
    "autoencoder.evaluate(x_test,x_test,verbose=2)"
   ]
  },
  {
   "cell_type": "code",
   "execution_count": 13,
   "metadata": {
    "colab": {
     "base_uri": "https://localhost:8080/",
     "height": 221
    },
    "colab_type": "code",
    "hidden": true,
    "id": "aKWz9VrA4jiH",
    "outputId": "807ddbee-aead-4610-f563-b07edc6af396"
   },
   "outputs": [
    {
     "name": "stdout",
     "output_type": "stream",
     "text": [
      "(10000, 28, 28)\n"
     ]
    },
    {
     "data": {
      "image/png": "[encoded data removed]",
      "text/plain": [
       "<Figure size 1440x288 with 20 Axes>"
      ]
     },
     "metadata": {
      "needs_background": "light",
      "tags": []
     },
     "output_type": "display_data"
    }
   ],
   "source": [
    "decoded_imgs = autoencoder.predict(x_test)\n",
    "print(decoded_imgs.shape)\n",
    "n = 10  # how many digits we will display\n",
    "plt.figure(figsize=(20, 4))\n",
    "for i in range(n):\n",
    "    # display original\n",
    "    ax = plt.subplot(2, n, i + 1)\n",
    "    plt.imshow(x_test[i].reshape(28, 28))\n",
    "    plt.title(\"original\")\n",
    "    plt.gray()\n",
    "    ax.get_xaxis().set_visible(False)\n",
    "    ax.get_yaxis().set_visible(False)\n",
    "\n",
    "    # display reconstruction\n",
    "    ax = plt.subplot(2, n, i + 1 + n)\n",
    "    plt.imshow(decoded_imgs[i])\n",
    "    plt.title(\"reconstructed\")\n",
    "    plt.gray()\n",
    "    ax.get_xaxis().set_visible(False)\n",
    "    ax.get_yaxis().set_visible(False)\n",
    "plt.show()"
   ]
  },
  {
   "cell_type": "code",
   "execution_count": null,
   "metadata": {
    "hidden": true
   },
   "outputs": [],
   "source": []
  }
 ],
 "metadata": {
  "kernelspec": {
   "display_name": "Python 3",
   "language": "python",
   "name": "python3"
  },
  "language_info": {
   "codemirror_mode": {
    "name": "ipython",
    "version": 3
   },
   "file_extension": ".py",
   "mimetype": "text/x-python",
   "name": "python",
   "nbconvert_exporter": "python",
   "pygments_lexer": "ipython3",
   "version": "3.7.6"
  }
 },
 "nbformat": 4,
 "nbformat_minor": 4
}
